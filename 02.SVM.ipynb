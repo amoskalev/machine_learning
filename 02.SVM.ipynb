{
 "cells": [
  {
   "cell_type": "markdown",
   "metadata": {},
   "source": [
    "# Artem Moskalev. Home Assignment -- 2"
   ]
  },
  {
   "cell_type": "markdown",
   "metadata": {},
   "source": [
    "Please, write your solutions within the designated blocks:\n",
    "```python\n",
    "...\n",
    "### BEGIN Solution\n",
    "\n",
    "# >>> your solution here <<<\n",
    "\n",
    "### END Solution\n",
    "...\n",
    "```"
   ]
  },
  {
   "cell_type": "markdown",
   "metadata": {},
   "source": [
    "Import visualization and data processing libraries"
   ]
  },
  {
   "cell_type": "code",
   "execution_count": 60,
   "metadata": {
    "collapsed": true,
    "slideshow": {
     "slide_type": "skip"
    }
   },
   "outputs": [],
   "source": [
    "import numpy as np\n",
    "import pandas as pd\n",
    "\n",
    "%matplotlib inline\n",
    "import matplotlib.pyplot as plt"
   ]
  },
  {
   "cell_type": "markdown",
   "metadata": {},
   "source": [
    "<br/> <!--Intentionally left blank-->"
   ]
  },
  {
   "cell_type": "markdown",
   "metadata": {},
   "source": [
    "# Part 1: Convex Programs and Support Vector Models"
   ]
  },
  {
   "cell_type": "markdown",
   "metadata": {},
   "source": [
    "In this **first two tasks** of this part of the homework you will implement\n",
    "your own Support Vectors Regression and then test on a simple real dataset.\n",
    "\n",
    "In the last task you are asked to solve a simple small NLP problem using\n",
    "support vector classfiers from [scikit-learn](http://scikit-learn.org/stable/modules/svm.html#classification).\n",
    "If you successfully complete the task, it will give you a ready-to-use and\n",
    "straighforward baseline for any NLP classification task of moderate size."
   ]
  },
  {
   "cell_type": "markdown",
   "metadata": {
    "slideshow": {
     "slide_type": "slide"
    }
   },
   "source": [
    "### Support Vector Regression\n",
    "\n",
    "$$\\frac{1}{2}\\|w\\|^2 + C\\sum_{i=1}^l(\\xi_i + \\xi_i') \\to \\min_{w, b, \\xi_i, \\xi_i'}\\\\\n",
    "(w^Tx_i + b) - y_i \\leq \\epsilon - \\xi_i\\\\\n",
    "y_i - (w^Tx_i + b) \\leq \\epsilon - \\xi_i'\\\\\n",
    "\\xi_i \\geq 0\\\\\n",
    "\\xi_i' \\geq 0$$"
   ]
  },
  {
   "cell_type": "markdown",
   "metadata": {},
   "source": [
    "This problem can be written as empirical risk minimization problem with regularization"
   ]
  },
  {
   "cell_type": "markdown",
   "metadata": {
    "slideshow": {
     "slide_type": "fragment"
    }
   },
   "source": [
    "#### Equivalent\n",
    "$$ \\frac{1}{2}\\|w\\|^2 + C\\sum_{i=1}^l h(\\hat{y}_i, y_i)$$\n",
    "\n"
   ]
  },
  {
   "cell_type": "markdown",
   "metadata": {
    "slideshow": {
     "slide_type": "fragment"
    }
   },
   "source": [
    "Where\n",
    "$$ h(\\hat{y}_i, y_i) = \\max(0, |\\hat{y} - y| - \\epsilon ) $$\n",
    "is the $\\epsilon$-insensitive loss, and\n",
    "$$ \\hat{y}_i = (w, x_i) + b $$\n",
    "is the prediction."
   ]
  },
  {
   "cell_type": "markdown",
   "metadata": {},
   "source": [
    "For our experiments we will use \"Cars\" dataset, which contains information about braking distances for several cars from the 1920s."
   ]
  },
  {
   "cell_type": "code",
   "execution_count": 61,
   "metadata": {
    "collapsed": true
   },
   "outputs": [],
   "source": [
    "cars_info = pd.read_csv('data/cars.csv', index_col=0, dtype=np.float)\n",
    "\n",
    "X = cars_info.speed.values.reshape(-1, 1)"
   ]
  },
  {
   "cell_type": "markdown",
   "metadata": {},
   "source": [
    "Normalization leads to better convergence"
   ]
  },
  {
   "cell_type": "code",
   "execution_count": 62,
   "metadata": {
    "collapsed": true
   },
   "outputs": [],
   "source": [
    "from sklearn.preprocessing import StandardScaler\n",
    "\n",
    "X_scaler = StandardScaler()\n",
    "\n",
    "X_train = X_scaler.fit_transform(X)\n",
    "y_train = cars_info.dist"
   ]
  },
  {
   "cell_type": "code",
   "execution_count": 63,
   "metadata": {},
   "outputs": [
    {
     "data": {
      "image/png": "[encoded data removed]",
      "text/plain": [
       "<matplotlib.figure.Figure at 0x7fcb2baf6748>"
      ]
     },
     "metadata": {},
     "output_type": "display_data"
    }
   ],
   "source": [
    "ax = plt.gca()\n",
    "ax.plot(X, y_train, 'o')\n",
    "ax.set_xlabel('Speed')\n",
    "ax.set_ylabel('Distance');"
   ]
  },
  {
   "cell_type": "markdown",
   "metadata": {},
   "source": [
    "<br/> <!--Intentionally left blank-->"
   ]
  },
  {
   "cell_type": "markdown",
   "metadata": {},
   "source": [
    "## Task 1"
   ]
  },
  {
   "cell_type": "markdown",
   "metadata": {},
   "source": [
    "Please implement a function that calculates the current loss value and its gradient\n",
    "at the specified values of weights $w$, bias $b$, selected $C$ and $\\epsilon$."
   ]
  },
  {
   "cell_type": "code",
   "execution_count": 64,
   "metadata": {
    "collapsed": true
   },
   "outputs": [],
   "source": [
    "def calculate_eps_insensetive_loss(X, y, w, b, C=1.0, eps=0.1):\n",
    "    '''Calculate hinge loss function\n",
    "    :param: X -- numpy array of shape l x n\n",
    "    :param: y -- numpy array of shape l with values 1 and -1\n",
    "    :param: w -- numpy array of shape n\n",
    "    :param: b -- np.float64\n",
    "    :param: C -- np.float64 \n",
    "    '''\n",
    "    # Calculate Loss\n",
    "    loss = 0\n",
    "    ### BEGIN Solution\n",
    "    \n",
    "    y_hat = X@w + b\n",
    "    in_module = y_hat - y\n",
    "    elementwise_loss = np.maximum(0,np.abs(y_hat - y)-eps)\n",
    "    loss = C*elementwise_loss.sum() + 0.5*np.sum(w * w)\n",
    "    \n",
    "    w_grad = np.zeros_like(w,dtype=np.float32)\n",
    "    b_grad = 0\n",
    "    \n",
    "    for i,each in enumerate(in_module): #todo vectorize\n",
    "        if np.abs(each)<= eps:\n",
    "            pass\n",
    "        elif each>0:\n",
    "            w_grad += X[i]\n",
    "            b_grad += 1\n",
    "        elif each<0:\n",
    "            w_grad += -1*X[i]\n",
    "            b_grad += -1.\n",
    "        \n",
    "    w_grad = w+C*w_grad\n",
    "    b_grad = C*b_grad\n",
    "    \n",
    "    return loss, w_grad, b_grad"
   ]
  },
  {
   "cell_type": "code",
   "execution_count": 65,
   "metadata": {
    "collapsed": true
   },
   "outputs": [],
   "source": [
    "# Model's metaparameters\n",
    "eps = 0.1\n",
    "C = 100\n",
    "\n",
    "# Gradient descent parameters\n",
    "step = 1e-4\n",
    "tolerance = 1e-3\n",
    "\n",
    "# Optimization logging\n",
    "converged = False\n",
    "index = 0\n",
    "training_loss_history = []\n",
    "training_loss_iteration = []\n",
    "\n",
    "# Parameters initialization\n",
    "w = np.zeros(1)\n",
    "b = 0\n",
    "loss, w_grad, b_grad = calculate_eps_insensetive_loss(X_train, y_train, w, b, C, eps)\n",
    "\n",
    "while not converged:\n",
    "    # Update parameters\n",
    "    new_w = w - step * w_grad\n",
    "    new_b = b - step * b_grad\n",
    "    # Calculate new loss and gradient\n",
    "    new_loss, w_grad, b_grad = calculate_eps_insensetive_loss(X_train, \n",
    "                                                    y_train, \n",
    "                                                    new_w, new_b, C, eps)\n",
    "    #print(new_loss)\n",
    "    # Check convergence\n",
    "    if np.abs(loss - new_loss) < tolerance:\n",
    "        converged = True\n",
    "    \n",
    "    b, w, loss = new_b, new_w, new_loss\n",
    "    \n",
    "    # Update history\n",
    "    index += 1\n",
    "    if index % 10 == 0:\n",
    "        training_loss_history.append(new_loss)\n",
    "        training_loss_iteration.append(index)"
   ]
  },
  {
   "cell_type": "code",
   "execution_count": 66,
   "metadata": {},
   "outputs": [
    {
     "data": {
      "image/png": "[encoded data removed]",
      "text/plain": [
       "<matplotlib.figure.Figure at 0x7fcb2ba88e80>"
      ]
     },
     "metadata": {},
     "output_type": "display_data"
    }
   ],
   "source": [
    "plt.plot(training_loss_iteration, training_loss_history);"
   ]
  },
  {
   "cell_type": "markdown",
   "metadata": {},
   "source": [
    "We are going calculate predictions for all speeds in range from $0$ to $30$."
   ]
  },
  {
   "cell_type": "code",
   "execution_count": 67,
   "metadata": {
    "collapsed": true
   },
   "outputs": [],
   "source": [
    "x_grid = np.arange(0., 30., 1).reshape(-1, 1)\n",
    "x_test = X_scaler.transform(x_grid)"
   ]
  },
  {
   "cell_type": "code",
   "execution_count": 68,
   "metadata": {
    "collapsed": true
   },
   "outputs": [],
   "source": [
    "predictions = w*x_test + b"
   ]
  },
  {
   "cell_type": "code",
   "execution_count": 69,
   "metadata": {},
   "outputs": [
    {
     "data": {
      "image/png": "[encoded data removed]",
      "text/plain": [
       "<matplotlib.figure.Figure at 0x7fcb2b896b00>"
      ]
     },
     "metadata": {},
     "output_type": "display_data"
    }
   ],
   "source": [
    "ax = plt.gca()\n",
    "ax.plot(x_grid, predictions, label='Predictions')\n",
    "ax.plot(X, y_train, 'o')\n",
    "ax.set_xlabel('Speed')\n",
    "ax.set_ylabel('Distance')\n",
    "ax.legend(loc='best');"
   ]
  },
  {
   "cell_type": "markdown",
   "metadata": {},
   "source": [
    "<br/> <!--Intentionally left blank-->"
   ]
  },
  {
   "cell_type": "markdown",
   "metadata": {},
   "source": [
    "## Task 2"
   ]
  },
  {
   "cell_type": "markdown",
   "metadata": {},
   "source": [
    "In this task the goal is to implement the SVR algorithm based on its dual problem version."
   ]
  },
  {
   "cell_type": "markdown",
   "metadata": {
    "slideshow": {
     "slide_type": "fragment"
    }
   },
   "source": [
    "### SVR Dual Problem\n",
    "\n",
    "\\begin{equation}\n",
    "    \\begin{aligned}\n",
    "        & \\underset{\\alpha', \\alpha}{\\text{minimize}}\n",
    "          & & \\frac{1}{2}(\\alpha' - \\alpha)^T  K (\\alpha' - \\alpha)\n",
    "              - (\\alpha' - \\alpha)^T Y\n",
    "              + \\epsilon (\\alpha' + \\alpha)^T \\mathbf{1}\n",
    "              \\,, \\\\\n",
    "        & \\text{subject to}\n",
    "          & & (\\alpha' - \\alpha)^T \\mathbf{1} = 0\n",
    "              \\,, \\\\\n",
    "        & & & \\alpha', \\alpha \\in [0, C]\n",
    "              \\,.\n",
    "    \\end{aligned}\n",
    "\\end{equation}"
   ]
  },
  {
   "cell_type": "markdown",
   "metadata": {
    "slideshow": {
     "slide_type": "fragment"
    }
   },
   "source": [
    "### Quadtratic Optimization Problem\n",
    "\n",
    "\\begin{equation}\n",
    "    \\begin{aligned}\n",
    "        & \\underset{x}{\\text{minimize}}\n",
    "          & & \\tfrac12 x^T P x + q^T x\n",
    "              \\,, \\\\\n",
    "        & \\text{subject to}\n",
    "          & & G x \\leq h\n",
    "              \\,, \\\\\n",
    "        & & & Ax = b\n",
    "              \\,.\n",
    "    \\end{aligned}\n",
    "\\end{equation}"
   ]
  },
  {
   "cell_type": "markdown",
   "metadata": {},
   "source": [
    "Please notice that instead of just $\\alpha$, like in the classification case, we have\n",
    "two vectors of coefficients: $\\alpha$ and $\\alpha'$. As an input space consider using\n",
    "stacked column vectors\n",
    "\\begin{equation}\n",
    "    \\begin{pmatrix}\n",
    "        \\alpha \\\\\n",
    "        \\alpha'\n",
    "    \\end{pmatrix}\\,.\n",
    "\\end{equation}\n",
    "\n",
    "**Hint**: You may find function `np.block` very usefull in this task"
   ]
  },
  {
   "cell_type": "markdown",
   "metadata": {
    "slideshow": {
     "slide_type": "skip"
    }
   },
   "source": [
    "Now we are going to use **cvxopt** library, which has solvers for different kind\n",
    "of convex optimization problems. Please notice that installation in Windows can\n",
    "be a little tricky and painful.\n",
    "\n",
    "http://cvxopt.org/"
   ]
  },
  {
   "cell_type": "markdown",
   "metadata": {
    "slideshow": {
     "slide_type": "skip"
    }
   },
   "source": [
    "For more information about different types of optimization problem you can check\n",
    "this presentations. This material could be very helpful, however is not necessary\n",
    "for understatnding this course in Machine Learning.\n",
    "\n",
    "http://ee364a.stanford.edu/lectures/problems.pdf"
   ]
  },
  {
   "cell_type": "markdown",
   "metadata": {
    "slideshow": {
     "slide_type": "slide"
    }
   },
   "source": [
    "### Reformulate the Dual Problem"
   ]
  },
  {
   "cell_type": "code",
   "execution_count": 115,
   "metadata": {
    "collapsed": true
   },
   "outputs": [],
   "source": [
    "from cvxopt import matrix\n",
    "\n",
    "\n",
    "def formulate_problem(X, y, kernel, C, epsilon):\n",
    "    \"\"\"Formulate quadratic optimization\n",
    "    problem by defining matrices\n",
    "    :param: X np.array of size n_elem * n_dim with reaining values\n",
    "    :param: y np.array of size n_elem with labels 1 and -1\n",
    "    :kernel: kernel function wich accepts two matrices of objects\n",
    "    \"\"\"\n",
    "    quadratic_problem = {}\n",
    "\n",
    "    # REMEMBER: all values should be wrapped in `cvxopt.matrix`\n",
    "    # datatype (you can just use matrix(a) where a is `np.array`).\n",
    "    # Please be careful cvxopt accepts only FLOAT not INTEGER data\n",
    "\n",
    "    ### BEGIN Solution\n",
    "    \n",
    "    #return np.block([[kernel(X,X),-1*kernel(X,X)],[-1*kernel(X,X),kernel(X,X)]])\n",
    "    quadratic_problem['P'] = matrix(np.block([[kernel(X,X),-1*kernel(X,X)],[-1*kernel(X,X),kernel(X,X)]]))\n",
    "    \n",
    "    q=np.block([np.ones(y.shape[0])*epsilon+y, np.ones(y.shape[0])*epsilon-y])\n",
    "    quadratic_problem['q'] = matrix(q[:,None].copy())\n",
    "    \n",
    "    \n",
    "    G = np.block([[-np.eye(y.shape[0]*2)], [np.eye(y.shape[0]*2)]])\n",
    "    quadratic_problem['G'] = matrix(G.copy())\n",
    "    \n",
    "    h = np.zeros(y.shape[0]*4)\n",
    "    #print(h[y.shape[0]*2:])\n",
    "    h[y.shape[0]*2:] = C\n",
    "    quadratic_problem['h'] = matrix(h.copy())\n",
    "\n",
    "    A=np.block([-np.ones(y.shape[0]),np.ones(y.shape[0])])\n",
    "    quadratic_problem['A'] = matrix(A[None,:].copy())\n",
    "    quadratic_problem['b'] =  matrix(0.)\n",
    "\n",
    "    ### END Solution\n",
    "\n",
    "    return quadratic_problem"
   ]
  },
  {
   "cell_type": "markdown",
   "metadata": {
    "slideshow": {
     "slide_type": "slide"
    }
   },
   "source": [
    "### Check the Results"
   ]
  },
  {
   "cell_type": "markdown",
   "metadata": {},
   "source": [
    "The module **metrics.pairwise** in **sklearn** has a very fast and well documented\n",
    "implementation of kernel matrix calculator. We fix the width of the RBF kernel at\n",
    "$1.0$ for simplicity."
   ]
  },
  {
   "cell_type": "code",
   "execution_count": 125,
   "metadata": {
    "collapsed": true,
    "slideshow": {
     "slide_type": "skip"
    }
   },
   "outputs": [],
   "source": [
    "from sklearn.metrics.pairwise import rbf_kernel\n",
    "from functools import partial\n",
    "\n",
    "# the width of the RBF kernel is 1.0\n",
    "kernel = partial(rbf_kernel, gamma=0.1)"
   ]
  },
  {
   "cell_type": "markdown",
   "metadata": {},
   "source": [
    "**cvxopt** has powerful and versatile solvers for almost every convex\n",
    "optimization problem: linear, conic, and **quadratic**. We are using\n",
    "the latter."
   ]
  },
  {
   "cell_type": "code",
   "execution_count": 126,
   "metadata": {
    "slideshow": {
     "slide_type": "fragment"
    }
   },
   "outputs": [
    {
     "name": "stdout",
     "output_type": "stream",
     "text": [
      "     pcost       dcost       gap    pres   dres\n",
      " 0: -1.2634e+04 -2.4630e+05  2e+05  7e-13  5e-15\n",
      " 1: -3.6309e+04 -7.2365e+04  4e+04  3e-13  6e-15\n",
      " 2: -5.2798e+04 -5.9730e+04  7e+03  8e-13  6e-15\n",
      " 3: -5.5424e+04 -5.7411e+04  2e+03  5e-13  6e-15\n",
      " 4: -5.6356e+04 -5.6677e+04  3e+02  6e-14  6e-15\n",
      " 5: -5.6510e+04 -5.6553e+04  4e+01  3e-13  6e-15\n",
      " 6: -5.6532e+04 -5.6534e+04  2e+00  1e-13  7e-15\n",
      " 7: -5.6533e+04 -5.6533e+04  3e-02  9e-13  7e-15\n",
      "Optimal solution found.\n"
     ]
    }
   ],
   "source": [
    "# Optimization routine\n",
    "from cvxopt.solvers import qp\n",
    "\n",
    "qudratic_problem = formulate_problem(X_train, y_train.astype(float), kernel, C, eps)\n",
    "\n",
    "results = qp(**qudratic_problem)"
   ]
  },
  {
   "cell_type": "markdown",
   "metadata": {
    "slideshow": {
     "slide_type": "fragment"
    }
   },
   "source": [
    "Extract optimal point form the results and force **small values** of the coefficients to **zero**."
   ]
  },
  {
   "cell_type": "code",
   "execution_count": 127,
   "metadata": {
    "collapsed": true
   },
   "outputs": [],
   "source": [
    "optimal_stacked_alpha = np.array(results['x']).ravel()\n",
    "\n",
    "zero_threshold = 1e-6\n",
    "### BEGIN Solution\n",
    "# force negligible values to be exactly zero\n",
    "\n",
    "optimal_stacked_alpha[optimal_stacked_alpha<zero_threshold]=0\n",
    "### END Solution"
   ]
  },
  {
   "cell_type": "markdown",
   "metadata": {
    "slideshow": {
     "slide_type": "slide"
    }
   },
   "source": [
    "### Prediction\n",
    "\n",
    "Having a kernel function $K$ and optimal $(\\alpha, \\alpha')$, implement a function\n",
    "that computes the dot product $(w \\cdot x_i)$:\n",
    "\n",
    "$$(w \\cdot x_{test}) = \\sum_{i=1}^l(\\alpha_i' - \\alpha_i)K(x_i, x_{test}) \\,. $$"
   ]
  },
  {
   "cell_type": "code",
   "execution_count": 131,
   "metadata": {
    "collapsed": true,
    "slideshow": {
     "slide_type": "fragment"
    }
   },
   "outputs": [],
   "source": [
    "def kernel_dot_product(X_train, y_train, X_test, kernel, alpha):\n",
    "    '''Calculate scalar product with vector w\n",
    "    based on support vectors and dual coefficients\n",
    "    :param: X_train np.array with train data\n",
    "    :param: y_train np.array with train labels\n",
    "    :param: X_test np.array with test data\n",
    "    :parma: kernel the kernel function\n",
    "    :param: alpha stacked dual coefficients\n",
    "    '''\n",
    "    output = np.zeros(len(X_test))\n",
    "\n",
    "    ### BEGIN Solution\n",
    "    \n",
    "    output, kernel_ = (alpha[y_train.shape[0]:]-alpha[ :y_train.shape[0]]), kernel(X_train,X_test)\n",
    "    #print(output.shape)\n",
    "    #print(kernel.shape)\n",
    "    \n",
    "    ### END Solution\n",
    "\n",
    "    return output.reshape(1,-1)@kernel_"
   ]
  },
  {
   "cell_type": "markdown",
   "metadata": {
    "slideshow": {
     "slide_type": "slide"
    }
   },
   "source": [
    "### Constant Calculation\n",
    "\n",
    "The optimal constant $b$ can be derived from the theoretical properties of\n",
    "the support vectors:\n",
    "$$ b = y_i + \\epsilon - (w \\cdot x_i) \\, \\text{ if }\\, 0 < \\alpha_i < C \\,, $$\n",
    "and\n",
    "$$ b = y_i - \\epsilon - (w \\cdot x_i) \\, \\text{ if }\\, 0 < \\alpha_i' < C \\,. $$\n",
    "\n",
    "For example, on infinitely powerful hardware with infinite precision arithmetic\n",
    "you could have used any single support vector to get $b$. But it won't work IRL,\n",
    "where the most you can hope for is [IEEE 754](https://en.wikipedia.org/wiki/IEEE_754)\n",
    "quadruple precision [floating point numbers](https://en.wikipedia.org/wiki/Floating-point_arithmetic])\n",
    "(setting aside special libraries or hardware). In the **numpy-scipy-sklearn** stack\n",
    "on a typical x86-64 hardware your algorithms work in finite precision arithmetic, which\n",
    "is subject to roundoff errors. The arithmetic results are pretty accurate, but still\n",
    "**inexact**. Besides the numerical optimization algorithms (**cvxopt.qp**, **BFGS**,\n",
    "**Your own SGD** and the like) themselves aren't exact, and produce just an **extremely\n",
    "faithful** approximation of the optmial coefficients.\n",
    "\n",
    "Your task here is to use as many support vectors as possible to get an estimate of $b$."
   ]
  },
  {
   "cell_type": "code",
   "execution_count": 180,
   "metadata": {
    "collapsed": true,
    "slideshow": {
     "slide_type": "slide"
    }
   },
   "outputs": [],
   "source": [
    "def calculate_bias(X_train, y_train, kernel, alpha, eps=0.1):\n",
    "    \"\"\"Calculates the bias \n",
    "    :param: X_train np.array with train data\n",
    "    :param: y_train np.array with train labels\n",
    "    :parma: kernel the kernel function\n",
    "    :param: alpha stacked dual coefficients'''\n",
    "    \"\"\"\n",
    "    b = np.zeros_like(y_train)\n",
    "    \n",
    "    ### BEGIN Solution\n",
    "    \n",
    "    for i in range(y_train.shape[0]):\n",
    "        \n",
    "        if 0<alpha[i]<C:\n",
    "            #return X_train[i,:]\n",
    "            b[i] = y_train[1+i]-kernel_dot_product(X_train, y_train, X_train[i,:].reshape(1,-1),kernel=kernel, alpha=alpha) + eps\n",
    "            #print(X_train[i,:].reshape(1,-1).shape)\n",
    "            \n",
    "        if 0<alpha[y_train.shape[0]+i]<=C:\n",
    "            b[i] = y_train[1+i]-kernel_dot_product(X_train, y_train,X_train[i, :].reshape(1,-1), kernel=kernel, alpha=alpha) - eps\n",
    "    ### END Solution\n",
    "\n",
    "    return b.mean()"
   ]
  },
  {
   "cell_type": "code",
   "execution_count": 181,
   "metadata": {
    "collapsed": true,
    "slideshow": {
     "slide_type": "fragment"
    }
   },
   "outputs": [],
   "source": [
    "b = calculate_bias(X_train, y_train, kernel, optimal_stacked_alpha, eps)"
   ]
  },
  {
   "cell_type": "code",
   "execution_count": 182,
   "metadata": {},
   "outputs": [
    {
     "data": {
      "text/plain": [
       "51.355680932790982"
      ]
     },
     "execution_count": 182,
     "metadata": {},
     "output_type": "execute_result"
    }
   ],
   "source": [
    "b"
   ]
  },
  {
   "cell_type": "markdown",
   "metadata": {},
   "source": [
    "Now we use the optimal $b$ and $\\alpha, \\alpha'$ to get the predictions and finally plot\n",
    "a nice picture of the SVR."
   ]
  },
  {
   "cell_type": "code",
   "execution_count": 183,
   "metadata": {
    "collapsed": true
   },
   "outputs": [],
   "source": [
    "predictions = kernel_dot_product(X_train, y_train, x_test, kernel, optimal_stacked_alpha) + b"
   ]
  },
  {
   "cell_type": "code",
   "execution_count": 184,
   "metadata": {},
   "outputs": [
    {
     "data": {
      "image/png": "[encoded data removed]",
      "text/plain": [
       "<matplotlib.figure.Figure at 0x7fcb2b160780>"
      ]
     },
     "metadata": {},
     "output_type": "display_data"
    }
   ],
   "source": [
    "ax = plt.gca()\n",
    "ax.plot(x_grid, predictions.T, label='Predictions')\n",
    "ax.plot(X, y_train, 'o')\n",
    "ax.set_xlabel('Speed')\n",
    "ax.set_ylabel('Distance')\n",
    "ax.legend(loc='best');"
   ]
  },
  {
   "cell_type": "markdown",
   "metadata": {},
   "source": [
    "<br/> <!--Intentionally left blank-->"
   ]
  },
  {
   "cell_type": "markdown",
   "metadata": {},
   "source": [
    "## Task 3"
   ]
  },
  {
   "cell_type": "markdown",
   "metadata": {},
   "source": [
    "In this task we are going to use SVM for text classification. We will work with\n",
    "dataset which  contains different tweets with the related conversation context.\n",
    "Some of the tweets are generated by bots, others -- written by humans."
   ]
  },
  {
   "cell_type": "code",
   "execution_count": 21,
   "metadata": {
    "collapsed": true
   },
   "outputs": [],
   "source": [
    "# -*- coding: utf-8 -*-"
   ]
  },
  {
   "cell_type": "code",
   "execution_count": 22,
   "metadata": {
    "collapsed": true
   },
   "outputs": [],
   "source": [
    "train_data = pd.read_csv(\"bot_or_not_train_clean.txt\", sep='\\t', index_col=0)\n",
    "\n",
    "test_data = pd.read_csv(\"bot_or_not_test.txt\", sep='\\t', index_col=0)"
   ]
  },
  {
   "cell_type": "markdown",
   "metadata": {},
   "source": [
    "Please notice that context and response columns contains raw text, which is not\n",
    "directly suitable for machine learning."
   ]
  },
  {
   "cell_type": "code",
   "execution_count": 23,
   "metadata": {},
   "outputs": [
    {
     "data": {
      "text/html": [
       "<div>\n",
       "<style>\n",
       "    .dataframe thead tr:only-child th {\n",
       "        text-align: right;\n",
       "    }\n",
       "\n",
       "    .dataframe thead th {\n",
       "        text-align: left;\n",
       "    }\n",
       "\n",
       "    .dataframe tbody tr th {\n",
       "        vertical-align: top;\n",
       "    }\n",
       "</style>\n",
       "<table border=\"1\" class=\"dataframe\">\n",
       "  <thead>\n",
       "    <tr style=\"text-align: right;\">\n",
       "      <th></th>\n",
       "      <th>context</th>\n",
       "      <th>response</th>\n",
       "      <th>human-generated</th>\n",
       "    </tr>\n",
       "    <tr>\n",
       "      <th>id</th>\n",
       "      <th></th>\n",
       "      <th></th>\n",
       "      <th></th>\n",
       "    </tr>\n",
       "  </thead>\n",
       "  <tbody>\n",
       "    <tr>\n",
       "      <th>0</th>\n",
       "      <td>&lt;first_speaker&gt; 95 degrees with &lt;number&gt; % hum...</td>\n",
       "      <td>&lt;second_speaker&gt; &lt;at&gt; i forgot that thanksabit...</td>\n",
       "      <td>0</td>\n",
       "    </tr>\n",
       "    <tr>\n",
       "      <th>1</th>\n",
       "      <td>&lt;first_speaker&gt; &lt;at&gt; &lt;at&gt; yar ! oy just appear...</td>\n",
       "      <td>&lt;first_speaker&gt; &lt;at&gt; lol b we 'll see . we hea...</td>\n",
       "      <td>0</td>\n",
       "    </tr>\n",
       "    <tr>\n",
       "      <th>2</th>\n",
       "      <td>&lt;first_speaker&gt; ohh ! deu certo ! ! dddddddddd...</td>\n",
       "      <td>&lt;second_speaker&gt; &lt;at&gt; acordei agora , qqqqq ? ...</td>\n",
       "      <td>1</td>\n",
       "    </tr>\n",
       "    <tr>\n",
       "      <th>3</th>\n",
       "      <td>&lt;first_speaker&gt; ughhhh i wanted a pickle . non...</td>\n",
       "      <td>&lt;second_speaker&gt; &lt;at&gt; lol gm</td>\n",
       "      <td>0</td>\n",
       "    </tr>\n",
       "    <tr>\n",
       "      <th>4</th>\n",
       "      <td>&lt;first_speaker&gt; &lt;at&gt; &lt;at&gt; &lt;at&gt; need to know to...</td>\n",
       "      <td>&lt;first_speaker&gt; &lt;at&gt; ok , will do - don 't be ...</td>\n",
       "      <td>1</td>\n",
       "    </tr>\n",
       "  </tbody>\n",
       "</table>\n",
       "</div>"
      ],
      "text/plain": [
       "                                              context  \\\n",
       "id                                                      \n",
       "0   <first_speaker> 95 degrees with <number> % hum...   \n",
       "1   <first_speaker> <at> <at> yar ! oy just appear...   \n",
       "2   <first_speaker> ohh ! deu certo ! ! dddddddddd...   \n",
       "3   <first_speaker> ughhhh i wanted a pickle . non...   \n",
       "4   <first_speaker> <at> <at> <at> need to know to...   \n",
       "\n",
       "                                             response  human-generated  \n",
       "id                                                                      \n",
       "0   <second_speaker> <at> i forgot that thanksabit...                0  \n",
       "1   <first_speaker> <at> lol b we 'll see . we hea...                0  \n",
       "2   <second_speaker> <at> acordei agora , qqqqq ? ...                1  \n",
       "3                        <second_speaker> <at> lol gm                0  \n",
       "4   <first_speaker> <at> ok , will do - don 't be ...                1  "
      ]
     },
     "execution_count": 23,
     "metadata": {},
     "output_type": "execute_result"
    }
   ],
   "source": [
    "train_data.head()"
   ]
  },
  {
   "cell_type": "markdown",
   "metadata": {},
   "source": [
    "### Task 3.1 (6 pt.)"
   ]
  },
  {
   "cell_type": "markdown",
   "metadata": {},
   "source": [
    "To extract features we are going to use the **bag of words** techniques. Please read\n",
    "the documentation for `CountVectorizer` [in scikit](http://scikit-learn.org/stable/modules/generated/sklearn.feature_extraction.text.CountVectorizer.html)\n",
    "and do the following:\n",
    "\n",
    "* For both the context and the response generate a set of features using\n",
    "two separate count vectorizers.\n",
    "\n",
    "* Join this sets of features into one feature matrix (please notice that\n",
    "`CountVectorizer` returns Scipy [CSR sparse matrices](https://en.wikipedia.org/wiki/Sparse_matrix#Compressed_sparse_row_(CSR,_CRS_or_Yale_format)).\n",
    "\n",
    "* Pick the optimal $C$ for the **linear kernel** using cross valudation\n",
    "`GridSearchCV` and `ROC AUC` as the target metric.\n",
    "\n",
    "* Choose the optimal `gamma` and $C$ for the RBF kernel using cross valudation\n",
    "`GridSearchCV` targeting `ROC AUC` metric.\n",
    "\n",
    "* Take the **best models** with linear and RBF kernels, plot **their ROC curves**\n",
    "on the provided heldout test data on the same figure, and print their `ROC AUC`\n",
    "score. Which models work better on the test dataset?"
   ]
  },
  {
   "cell_type": "code",
   "execution_count": 24,
   "metadata": {
    "collapsed": true
   },
   "outputs": [],
   "source": [
    "from sklearn.feature_extraction.text import CountVectorizer\n",
    "from scipy import sparse\n",
    "from sklearn.metrics import roc_auc_score\n",
    "from sklearn.svm import SVC"
   ]
  },
  {
   "cell_type": "code",
   "execution_count": 25,
   "metadata": {
    "collapsed": true
   },
   "outputs": [],
   "source": [
    "cvec_context=CountVectorizer(analyzer='word',token_pattern='\\w{2,}', stop_words=['at', 'speaker', 'number', 'url', 'cont','heart','_', '[0-9]', 'english'], max_df=0.5)\n",
    "cvec_response=CountVectorizer(analyzer='word',token_pattern='\\w{2,}', stop_words=['at', 'speaker', 'number', 'url', 'cont','heart','_', '[0-9]', 'english'], max_df=0.5)\n",
    "#we are just moving some useless trash from text with token_pattern and stop_words"
   ]
  },
  {
   "cell_type": "markdown",
   "metadata": {},
   "source": [
    "Generate feature matricies for the context and the response. Fill free to create additional\n",
    "feature extraction objects if you like."
   ]
  },
  {
   "cell_type": "code",
   "execution_count": 26,
   "metadata": {
    "collapsed": true
   },
   "outputs": [],
   "source": [
    "y_train = train_data['human-generated']\n",
    "\n",
    "### BEGIN Solution\n",
    "x_context = cvec_context.fit_transform(train_data.context)\n",
    "\n",
    "x_respose = cvec_response.fit_transform(train_data.response)\n",
    "\n",
    "# Join the feature matrix\n",
    "x_train = sparse.hstack([x_context, x_respose])\n",
    "\n",
    "### END Solution"
   ]
  },
  {
   "cell_type": "code",
   "execution_count": 27,
   "metadata": {},
   "outputs": [
    {
     "data": {
      "text/plain": [
       "(10000, 43724)"
      ]
     },
     "execution_count": 27,
     "metadata": {},
     "output_type": "execute_result"
    }
   ],
   "source": [
    "x_train.shape"
   ]
  },
  {
   "cell_type": "markdown",
   "metadata": {},
   "source": [
    "Generate the response and contet test sets with their **relevant** feature encodings."
   ]
  },
  {
   "cell_type": "code",
   "execution_count": 28,
   "metadata": {
    "collapsed": true
   },
   "outputs": [],
   "source": [
    "y_test = test_data['human-generated']\n",
    "\n",
    "### BEGIN Solution\n",
    "x_context_test = cvec_context.transform(test_data.context)\n",
    "\n",
    "x_response_test = cvec_response.transform(test_data.response)\n",
    "\n",
    "x_test = sparse.hstack([x_context_test,x_response_test])\n",
    "### END Solution"
   ]
  },
  {
   "cell_type": "code",
   "execution_count": 29,
   "metadata": {},
   "outputs": [
    {
     "data": {
      "text/plain": [
       "(10000, 43724)"
      ]
     },
     "execution_count": 29,
     "metadata": {},
     "output_type": "execute_result"
    }
   ],
   "source": [
    "x_test.shape"
   ]
  },
  {
   "cell_type": "markdown",
   "metadata": {},
   "source": [
    "Select the best linear model among $C \\in [\\mathtt{1.e-3}, .., \\mathtt{1.e3}]$."
   ]
  },
  {
   "cell_type": "code",
   "execution_count": 30,
   "metadata": {},
   "outputs": [
    {
     "name": "stdout",
     "output_type": "stream",
     "text": [
      "Fitting 3 folds for each of 10 candidates, totalling 30 fits\n"
     ]
    },
    {
     "name": "stderr",
     "output_type": "stream",
     "text": [
      "[Parallel(n_jobs=-1)]: Done  30 out of  30 | elapsed:  8.0min finished\n"
     ]
    },
    {
     "data": {
      "text/plain": [
       "GridSearchCV(cv=None, error_score='raise',\n",
       "       estimator=SVC(C=1.0, cache_size=200, class_weight=None, coef0=0.0,\n",
       "  decision_function_shape='ovr', degree=3, gamma='auto', kernel='linear',\n",
       "  max_iter=-1, probability=False, random_state=None, shrinking=True,\n",
       "  tol=0.001, verbose=False),\n",
       "       fit_params=None, iid=True, n_jobs=-1,\n",
       "       param_grid={'C': [0.001, 0.007, 0.01, 0.03, 0.05, 0.1, 1.0, 10.0, 100.0, 1000]},\n",
       "       pre_dispatch='2*n_jobs', refit=True, return_train_score='warn',\n",
       "       scoring='roc_auc', verbose=True)"
      ]
     },
     "execution_count": 30,
     "metadata": {},
     "output_type": "execute_result"
    }
   ],
   "source": [
    "### BEGIN Solution\n",
    "# pick the best C\n",
    "\n",
    "from sklearn.model_selection import GridSearchCV\n",
    "\n",
    "best_linear_model = SVC(kernel='linear')\n",
    "\n",
    "parameters = {'C':[0.001, 0.007, 0.01, 0.03, 0.05, 0.1, 1., 10., 100., 1000]}\n",
    "best_linear_model_gs = GridSearchCV(best_linear_model, parameters, scoring='roc_auc', verbose=True, n_jobs=-1)\n",
    "best_linear_model_gs.fit(x_train, y_train)\n",
    "\n",
    "### END Solution"
   ]
  },
  {
   "cell_type": "code",
   "execution_count": 31,
   "metadata": {},
   "outputs": [
    {
     "data": {
      "text/plain": [
       "0.64916214294953212"
      ]
     },
     "execution_count": 31,
     "metadata": {},
     "output_type": "execute_result"
    }
   ],
   "source": [
    "best_linear_model_gs.best_score_"
   ]
  },
  {
   "cell_type": "code",
   "execution_count": 32,
   "metadata": {},
   "outputs": [
    {
     "data": {
      "text/plain": [
       "{'C': 0.007}"
      ]
     },
     "execution_count": 32,
     "metadata": {},
     "output_type": "execute_result"
    }
   ],
   "source": [
    "best_linear_model_gs.best_params_"
   ]
  },
  {
   "cell_type": "markdown",
   "metadata": {},
   "source": [
    "Select the best RBF kernel model among the hyperparameters\n",
    "$C \\in [\\mathtt{1.e-3}, .., \\mathtt{1.e3}]$ and $\\gamma \\in [\\mathtt{1.e-3}, .., \\mathtt{1.e3}]$."
   ]
  },
  {
   "cell_type": "code",
   "execution_count": 33,
   "metadata": {},
   "outputs": [
    {
     "name": "stdout",
     "output_type": "stream",
     "text": [
      "Fitting 3 folds for each of 70 candidates, totalling 210 fits\n"
     ]
    },
    {
     "name": "stderr",
     "output_type": "stream",
     "text": [
      "[Parallel(n_jobs=-1)]: Done  42 tasks      | elapsed: 12.1min\n",
      "[Parallel(n_jobs=-1)]: Done 192 tasks      | elapsed: 54.4min\n",
      "[Parallel(n_jobs=-1)]: Done 210 out of 210 | elapsed: 60.1min finished\n"
     ]
    },
    {
     "data": {
      "text/plain": [
       "GridSearchCV(cv=None, error_score='raise',\n",
       "       estimator=SVC(C=1.0, cache_size=200, class_weight=None, coef0=0.0,\n",
       "  decision_function_shape='ovr', degree=3, gamma='auto', kernel='rbf',\n",
       "  max_iter=-1, probability=False, random_state=None, shrinking=True,\n",
       "  tol=0.001, verbose=False),\n",
       "       fit_params=None, iid=True, n_jobs=-1,\n",
       "       param_grid={'C': [0.001, 0.007, 0.01, 0.03, 0.05, 0.1, 1.0, 10.0, 100.0, 1000], 'gamma': [0.001, 0.01, 0.1, 1.0, 10.0, 100.0, 1000]},\n",
       "       pre_dispatch='2*n_jobs', refit=True, return_train_score='warn',\n",
       "       scoring='roc_auc', verbose=True)"
      ]
     },
     "execution_count": 33,
     "metadata": {},
     "output_type": "execute_result"
    }
   ],
   "source": [
    "### BEGIN Solution\n",
    "# pick the best C and gamma\n",
    "\n",
    "best_kernel_model = SVC(kernel='rbf')\n",
    "parameters = {'C':[0.001, 0.007, 0.01, 0.03, 0.05, 0.1, 1., 10., 100., 1000], 'gamma':[0.001, 0.01, 0.1, 1., 10., 100., 1000]}\n",
    "best_kernel_model_gs = GridSearchCV(best_kernel_model, parameters, scoring='roc_auc', verbose=True, n_jobs=-1)\n",
    "best_kernel_model_gs.fit(x_train, y_train)\n",
    "\n",
    "### END Solution"
   ]
  },
  {
   "cell_type": "code",
   "execution_count": 34,
   "metadata": {},
   "outputs": [
    {
     "data": {
      "text/plain": [
       "0.64308923736691226"
      ]
     },
     "execution_count": 34,
     "metadata": {},
     "output_type": "execute_result"
    }
   ],
   "source": [
    "best_kernel_model_gs.best_score_"
   ]
  },
  {
   "cell_type": "code",
   "execution_count": 35,
   "metadata": {},
   "outputs": [
    {
     "data": {
      "text/plain": [
       "{'C': 1.0, 'gamma': 0.01}"
      ]
     },
     "execution_count": 35,
     "metadata": {},
     "output_type": "execute_result"
    }
   ],
   "source": [
    "best_kernel_model_gs.best_params_"
   ]
  },
  {
   "cell_type": "markdown",
   "metadata": {},
   "source": [
    "Plot the `ROC` curves of both models and their `ROC AUC` scores."
   ]
  },
  {
   "cell_type": "code",
   "execution_count": 36,
   "metadata": {
    "collapsed": true
   },
   "outputs": [],
   "source": [
    "best_linear_model = SVC(**best_linear_model_gs.best_params_, probability = True, kernel='linear')\n",
    "best_kernel_model = SVC(**best_kernel_model_gs.best_params_, probability = True, kernel='rbf')"
   ]
  },
  {
   "cell_type": "code",
   "execution_count": 37,
   "metadata": {
    "collapsed": true
   },
   "outputs": [],
   "source": [
    "### BEGIN Solution\n",
    "from sklearn.metrics import roc_curve, auc\n",
    "\n",
    "def get_roc_plot(model, x_test, y_test, x_train, y_train):\n",
    "    model.fit(x_train, y_train)\n",
    "    test_predictions, test_probabilities = model.predict(x_test), model.predict_proba(x_test)[:, 1]\n",
    "    training_predictions, training_probabilities = model.predict(x_train), model.predict_proba(x_train)[:, 1]\n",
    "    \n",
    "    false_positive_rates, true_positive_rates, threshold = roc_curve(y_test, test_probabilities)\n",
    "    training_false_positive_rates, training_true_positive_rates, _ = roc_curve(y_train, training_probabilities)\n",
    "    \n",
    "    plt.plot(false_positive_rates, true_positive_rates, color='darkorange', label = 'ROC-curve on test')\n",
    "    plt.plot(training_false_positive_rates, training_true_positive_rates, color='darkgreen', label = 'ROC-curve on train')\n",
    "    plt.plot([0,1],[0,1], linestyle='dotted')\n",
    "    plt.xlabel('FPR')\n",
    "    plt.ylabel('TPR')\n",
    "    plt.legend()\n",
    "    plt.grid();\n",
    "\n",
    "### END Solution"
   ]
  },
  {
   "cell_type": "code",
   "execution_count": 38,
   "metadata": {},
   "outputs": [
    {
     "data": {
      "image/png": "[encoded data removed]",
      "text/plain": [
       "<matplotlib.figure.Figure at 0x7fcb3f1aa978>"
      ]
     },
     "metadata": {},
     "output_type": "display_data"
    }
   ],
   "source": [
    "get_roc_plot(best_linear_model, x_test, y_test, x_train, y_train)\n",
    "plt.title('Best linear model');"
   ]
  },
  {
   "cell_type": "code",
   "execution_count": 39,
   "metadata": {},
   "outputs": [
    {
     "data": {
      "image/png": "[encoded data removed]",
      "text/plain": [
       "<matplotlib.figure.Figure at 0x7fcb3f26c2e8>"
      ]
     },
     "metadata": {},
     "output_type": "display_data"
    }
   ],
   "source": [
    "get_roc_plot(best_kernel_model, x_test, y_test, x_train, y_train)\n",
    "plt.title('Best kernel model');"
   ]
  },
  {
   "cell_type": "markdown",
   "metadata": {},
   "source": [
    "... and the best model is...?"
   ]
  },
  {
   "cell_type": "code",
   "execution_count": 40,
   "metadata": {},
   "outputs": [
    {
     "name": "stdout",
     "output_type": "stream",
     "text": [
      "Test ROC AUC = 0.653566333743204\n"
     ]
    }
   ],
   "source": [
    "if best_kernel_model_gs.best_score_ > best_linear_model_gs.best_score_:\n",
    "    best_model = best_kernel_model\n",
    "else:\n",
    "    best_model = best_linear_model\n",
    "    \n",
    "test_predictions = best_model.decision_function(x_test)\n",
    "test_score = roc_auc_score(y_test, test_predictions)\n",
    "print(\"Test ROC AUC = {}\".format(test_score))"
   ]
  },
  {
   "cell_type": "markdown",
   "metadata": {},
   "source": [
    "### Task 3.2 (5 pt.)"
   ]
  },
  {
   "cell_type": "markdown",
   "metadata": {},
   "source": [
    "Now you are asked to **redo the last task (3.1)**, bit this time with more advanced\n",
    "features generated by [TfidfVectorizer](https://en.wikipedia.org/wiki/Tf%E2%80%93idf).\n",
    "To do this you can use `TfidfVectorizer` from sklearn.\n"
   ]
  },
  {
   "cell_type": "code",
   "execution_count": 41,
   "metadata": {
    "collapsed": true
   },
   "outputs": [],
   "source": [
    "from sklearn.feature_extraction.text import TfidfVectorizer"
   ]
  },
  {
   "cell_type": "code",
   "execution_count": 42,
   "metadata": {
    "collapsed": true
   },
   "outputs": [],
   "source": [
    "tfid_context=TfidfVectorizer(analyzer='word',token_pattern='\\w{2,}', stop_words=['at', 'speaker', 'number', 'url', 'cont','heart','_', '[0-9]', 'english'])\n",
    "tfid_response=TfidfVectorizer(analyzer='word',token_pattern='\\w{2,}', stop_words=['at', 'speaker', 'number', 'url', 'cont','heart','_', '[0-9]', 'english'])"
   ]
  },
  {
   "cell_type": "markdown",
   "metadata": {},
   "source": [
    "Generate feature matricies for context and response. Fill free to create\n",
    "additional feature extraction object if necessary."
   ]
  },
  {
   "cell_type": "code",
   "execution_count": 43,
   "metadata": {
    "collapsed": true
   },
   "outputs": [],
   "source": [
    "### BEGIN Solution\n",
    "x_context = tfid_context.fit_transform(train_data.context)\n",
    "\n",
    "x_response = tfid_response.fit_transform(train_data.response)\n",
    "\n",
    "# Join the feature matrix\n",
    "x_train = sparse.hstack([x_context,x_response])\n",
    "\n",
    "### END Solution"
   ]
  },
  {
   "cell_type": "code",
   "execution_count": 44,
   "metadata": {
    "scrolled": true
   },
   "outputs": [
    {
     "data": {
      "text/plain": [
       "(10000, 43727)"
      ]
     },
     "execution_count": 44,
     "metadata": {},
     "output_type": "execute_result"
    }
   ],
   "source": [
    "x_train.shape"
   ]
  },
  {
   "cell_type": "markdown",
   "metadata": {},
   "source": [
    "Generate the response and contet test sets with their **relevant** feature encodings."
   ]
  },
  {
   "cell_type": "code",
   "execution_count": 45,
   "metadata": {
    "collapsed": true
   },
   "outputs": [],
   "source": [
    "### BEGIN Solution\n",
    "x_context_test = tfid_context.transform(train_data.context)\n",
    "\n",
    "x_response_test = tfid_response.transform(test_data.response)\n",
    "\n",
    "x_test = sparse.hstack([x_context_test,x_response_test])\n",
    "\n",
    "### END Solution"
   ]
  },
  {
   "cell_type": "code",
   "execution_count": 46,
   "metadata": {},
   "outputs": [
    {
     "data": {
      "text/plain": [
       "(10000, 43727)"
      ]
     },
     "execution_count": 46,
     "metadata": {},
     "output_type": "execute_result"
    }
   ],
   "source": [
    "x_test.shape"
   ]
  },
  {
   "cell_type": "markdown",
   "metadata": {},
   "source": [
    "Select the best linear model among $C \\in [\\mathtt{1.e-3}, .., \\mathtt{1.e3}]$."
   ]
  },
  {
   "cell_type": "code",
   "execution_count": 47,
   "metadata": {},
   "outputs": [
    {
     "name": "stdout",
     "output_type": "stream",
     "text": [
      "Fitting 3 folds for each of 10 candidates, totalling 30 fits\n"
     ]
    },
    {
     "name": "stderr",
     "output_type": "stream",
     "text": [
      "[Parallel(n_jobs=-1)]: Done  30 out of  30 | elapsed:  8.8min finished\n"
     ]
    },
    {
     "data": {
      "text/plain": [
       "GridSearchCV(cv=None, error_score='raise',\n",
       "       estimator=SVC(C=1.0, cache_size=200, class_weight=None, coef0=0.0,\n",
       "  decision_function_shape='ovr', degree=3, gamma='auto', kernel='linear',\n",
       "  max_iter=-1, probability=False, random_state=None, shrinking=True,\n",
       "  tol=0.001, verbose=False),\n",
       "       fit_params=None, iid=True, n_jobs=-1,\n",
       "       param_grid={'C': [0.001, 0.007, 0.01, 0.03, 0.05, 0.1, 1.0, 10.0, 100.0, 1000]},\n",
       "       pre_dispatch='2*n_jobs', refit=True, return_train_score='warn',\n",
       "       scoring='roc_auc', verbose=True)"
      ]
     },
     "execution_count": 47,
     "metadata": {},
     "output_type": "execute_result"
    }
   ],
   "source": [
    "### BEGIN Solution\n",
    "\n",
    "best_linear_model = SVC(kernel='linear')\n",
    "\n",
    "parameters = {'C':[0.001, 0.007, 0.01, 0.03, 0.05, 0.1, 1., 10., 100., 1000]}\n",
    "best_linear_model_gs = GridSearchCV(best_linear_model, parameters, scoring='roc_auc', verbose=True, n_jobs=-1)\n",
    "best_linear_model_gs.fit(x_train, y_train)\n",
    "\n",
    "### END Solution"
   ]
  },
  {
   "cell_type": "code",
   "execution_count": 48,
   "metadata": {},
   "outputs": [
    {
     "data": {
      "text/plain": [
       "0.66768055418271155"
      ]
     },
     "execution_count": 48,
     "metadata": {},
     "output_type": "execute_result"
    }
   ],
   "source": [
    "best_linear_model_gs.best_score_"
   ]
  },
  {
   "cell_type": "code",
   "execution_count": 49,
   "metadata": {},
   "outputs": [
    {
     "data": {
      "text/plain": [
       "{'C': 0.1}"
      ]
     },
     "execution_count": 49,
     "metadata": {},
     "output_type": "execute_result"
    }
   ],
   "source": [
    "best_linear_model_gs.best_params_"
   ]
  },
  {
   "cell_type": "markdown",
   "metadata": {},
   "source": [
    "Select the best RBF kernel model among the hyperparameters\n",
    "$C \\in [\\mathtt{1.e-3}, .., \\mathtt{1.e3}]$ and $\\gamma \\in [\\mathtt{1.e-3}, .., \\mathtt{1.e3}]$."
   ]
  },
  {
   "cell_type": "code",
   "execution_count": 50,
   "metadata": {},
   "outputs": [
    {
     "name": "stdout",
     "output_type": "stream",
     "text": [
      "Fitting 3 folds for each of 70 candidates, totalling 210 fits\n"
     ]
    },
    {
     "name": "stderr",
     "output_type": "stream",
     "text": [
      "[Parallel(n_jobs=-1)]: Done  42 tasks      | elapsed: 13.1min\n",
      "[Parallel(n_jobs=-1)]: Done 192 tasks      | elapsed: 57.4min\n",
      "[Parallel(n_jobs=-1)]: Done 210 out of 210 | elapsed: 62.5min finished\n"
     ]
    },
    {
     "data": {
      "text/plain": [
       "GridSearchCV(cv=None, error_score='raise',\n",
       "       estimator=SVC(C=1.0, cache_size=200, class_weight=None, coef0=0.0,\n",
       "  decision_function_shape='ovr', degree=3, gamma='auto', kernel='rbf',\n",
       "  max_iter=-1, probability=False, random_state=None, shrinking=True,\n",
       "  tol=0.001, verbose=False),\n",
       "       fit_params=None, iid=True, n_jobs=-1,\n",
       "       param_grid={'C': [0.001, 0.007, 0.01, 0.03, 0.05, 0.1, 1.0, 10.0, 100.0, 1000], 'gamma': [0.001, 0.01, 0.1, 1.0, 10.0, 100.0, 1000]},\n",
       "       pre_dispatch='2*n_jobs', refit=True, return_train_score='warn',\n",
       "       scoring='roc_auc', verbose=True)"
      ]
     },
     "execution_count": 50,
     "metadata": {},
     "output_type": "execute_result"
    }
   ],
   "source": [
    "### BEGIN Solution\n",
    "# pick the best C and gamma\n",
    "\n",
    "best_kernel_model = SVC(kernel='rbf')\n",
    "parameters = {'C':[0.001, 0.007, 0.01, 0.03, 0.05, 0.1, 1., 10., 100., 1000], 'gamma':[0.001, 0.01, 0.1, 1., 10., 100., 1000]}\n",
    "best_kernel_model_gs = GridSearchCV(best_kernel_model, parameters, scoring='roc_auc', verbose=True, n_jobs=-1)\n",
    "best_kernel_model_gs.fit(x_train, y_train)\n",
    "\n",
    "### END Solution"
   ]
  },
  {
   "cell_type": "code",
   "execution_count": 52,
   "metadata": {},
   "outputs": [
    {
     "data": {
      "text/plain": [
       "0.67953363725608673"
      ]
     },
     "execution_count": 52,
     "metadata": {},
     "output_type": "execute_result"
    }
   ],
   "source": [
    "best_kernel_model_gs.best_score_"
   ]
  },
  {
   "cell_type": "code",
   "execution_count": 53,
   "metadata": {},
   "outputs": [
    {
     "data": {
      "text/plain": [
       "{'C': 10.0, 'gamma': 1.0}"
      ]
     },
     "execution_count": 53,
     "metadata": {},
     "output_type": "execute_result"
    }
   ],
   "source": [
    "best_kernel_model_gs.best_params_"
   ]
  },
  {
   "cell_type": "markdown",
   "metadata": {},
   "source": [
    "Plot the `ROC` curves of both models and their `ROC AUC` scores."
   ]
  },
  {
   "cell_type": "code",
   "execution_count": 58,
   "metadata": {},
   "outputs": [
    {
     "data": {
      "image/png": "[encoded data removed]",
      "text/plain": [
       "<matplotlib.figure.Figure at 0x7fcb3f164860>"
      ]
     },
     "metadata": {},
     "output_type": "display_data"
    }
   ],
   "source": [
    "### BEGIN Solution\n",
    "best_linear_model = SVC(**best_linear_model_gs.best_params_, probability = True, kernel='linear')\n",
    "best_kernel_model = SVC(**best_kernel_model_gs.best_params_, probability = True, kernel = 'rbf')\n",
    "\n",
    "models,titles = [best_linear_model, best_kernel_model], ('Best linear model','Best kernel model')\n",
    "\n",
    "fig, ax = plt.subplots(1,2, figsize=(15,6))\n",
    "for i,model in enumerate(models):\n",
    "    model.fit(x_train, y_train)\n",
    "    \n",
    "    test_predictions, test_probabilities = model.predict(x_test), model.predict_proba(x_test)[:, 1]\n",
    "    false_positive_rates, true_positive_rates, threshold = roc_curve(y_test, test_probabilities)\n",
    "    \n",
    "    ax[i].plot(false_positive_rates, true_positive_rates, color='darkorange', label = 'ROC-curve on test')\n",
    "    ax[i].plot([0,1],[0,1], linestyle='dotted')\n",
    "    ax[i].set_xlabel('FPR')\n",
    "    ax[i].set_ylabel('TPR')\n",
    "    ax[i].set_title(titles[i])\n",
    "    ax[i].legend()\n",
    "    ax[i].grid();\n",
    "    \n",
    "    ### END Solution"
   ]
  },
  {
   "cell_type": "markdown",
   "metadata": {},
   "source": [
    "... and the best model is...?"
   ]
  },
  {
   "cell_type": "code",
   "execution_count": 57,
   "metadata": {},
   "outputs": [
    {
     "name": "stdout",
     "output_type": "stream",
     "text": [
      "Test ROC AUC = 0.6578541719290931\n"
     ]
    }
   ],
   "source": [
    "if best_kernel_model_gs.best_score_ > best_linear_model_gs.best_score_:\n",
    "    best_model = best_kernel_model\n",
    "else:\n",
    "    best_model = best_linear_model\n",
    "    \n",
    "test_predictions = best_model.decision_function(x_test)\n",
    "test_score = roc_auc_score(y_test, test_predictions)\n",
    "print(\"Test ROC AUC = {}\".format(test_score))"
   ]
  },
  {
   "cell_type": "markdown",
   "metadata": {},
   "source": [
    "<br/> <!--Intentionally left blank-->"
   ]
  }
 ],
 "metadata": {
  "kernelspec": {
   "display_name": "Python 3",
   "language": "python",
   "name": "python3"
  },
  "language_info": {
   "codemirror_mode": {
    "name": "ipython",
    "version": 3
   },
   "file_extension": ".py",
   "mimetype": "text/x-python",
   "name": "python",
   "nbconvert_exporter": "python",
   "pygments_lexer": "ipython3",
   "version": "3.6.3"
  }
 },
 "nbformat": 4,
 "nbformat_minor": 2
}
