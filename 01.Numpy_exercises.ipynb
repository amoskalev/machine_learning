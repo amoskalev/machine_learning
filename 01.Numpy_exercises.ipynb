{
 "cells": [
  {
   "cell_type": "markdown",
   "metadata": {},
   "source": [
    "# Artem Moskalev. Home Assignment -- 1"
   ]
  },
  {
   "cell_type": "markdown",
   "metadata": {},
   "source": [
    "In this part of the homework you are asked implement some \"interesting\" functions\n",
    "usinig Numpy. You are advised to **avoid using python loops**.\n",
    "\n",
    "At the same time you are **encouraged** to google anything and read relevant\n",
    "documentation, e.g. for [Numpy](https://docs.scipy.org/doc/numpy/reference/)\n",
    "[matlpotlib](https://matplotlib.org/) and [python](https://docs.python.org/3/)."
   ]
  },
  {
   "cell_type": "markdown",
   "metadata": {},
   "source": [
    "Please, write your solutions within the designated blocks:\n",
    "```python\n",
    "...\n",
    "### BEGIN Solution\n",
    "\n",
    "# >>> your solution here <<<\n",
    "\n",
    "### END Solution\n",
    "...\n",
    "```"
   ]
  },
  {
   "cell_type": "markdown",
   "metadata": {},
   "source": [
    "# Part 1: Numpy and (some) Matplotlib"
   ]
  },
  {
   "cell_type": "markdown",
   "metadata": {},
   "source": [
    "Let's import numpy, fix the randomness, and then import matplotlib."
   ]
  },
  {
   "cell_type": "code",
   "execution_count": 1,
   "metadata": {
    "collapsed": true
   },
   "outputs": [],
   "source": [
    "import numpy as np\n",
    "np.random.seed(42)\n",
    "\n",
    "%matplotlib inline\n",
    "import matplotlib.pyplot as plt"
   ]
  },
  {
   "cell_type": "markdown",
   "metadata": {},
   "source": [
    "<br/>"
   ]
  },
  {
   "cell_type": "markdown",
   "metadata": {},
   "source": [
    "## Task 1 (1 pt.)\n",
    "\n",
    "Write a function, that returns an $n \\times m$ integer matrix with\n",
    "a specified value on the border and another specified value inside.\n",
    "\n",
    "You might want to study numpy's indexing and [array creation](https://docs.scipy.org/doc/numpy/reference/routines.array-creation.html)."
   ]
  },
  {
   "cell_type": "code",
   "execution_count": 2,
   "metadata": {
    "collapsed": true
   },
   "outputs": [],
   "source": [
    "def make_bordered_matrix(n_rows, n_cols, fill_value=1, border_value=0):\n",
    "    \"\"\"Constructs a bordered (n x m) matrix.\n",
    "    \n",
    "    Parameters\n",
    "    ----------\n",
    "    n_rows : int\n",
    "        Nonnegative integer, spcifying the number of rows.\n",
    "    n_cols : int\n",
    "        Nonnegative integer, spcifying the number of columns.\n",
    "    fill_value : float\n",
    "        The value to fill the matrix with.\n",
    "    border_value : float\n",
    "        The value to set the border of the matrix to.\n",
    "    \n",
    "    Returns\n",
    "    -------\n",
    "    arr : array, 2 dimensional, shape = (n_rows, n_cols)\n",
    "        The final bordered matrix.\n",
    "    \"\"\"\n",
    "    ### BEGIN Solution\n",
    "    out = np.ones((n_rows,n_cols))*fill_value\n",
    "    out[0,:],out[-1,:],out[:,0],out[:,-1] = border_value,border_value,border_value,border_value\n",
    "    ### END Solution\n",
    "\n",
    "    return out"
   ]
  },
  {
   "cell_type": "code",
   "execution_count": 3,
   "metadata": {
    "collapsed": true
   },
   "outputs": [],
   "source": [
    "mat = make_bordered_matrix(5,6,7,8)"
   ]
  },
  {
   "cell_type": "code",
   "execution_count": 4,
   "metadata": {},
   "outputs": [
    {
     "data": {
      "text/plain": [
       "array([[ 8.,  8.,  8.,  8.,  8.,  8.],\n",
       "       [ 8.,  7.,  7.,  7.,  7.,  8.],\n",
       "       [ 8.,  7.,  7.,  7.,  7.,  8.],\n",
       "       [ 8.,  7.,  7.,  7.,  7.,  8.],\n",
       "       [ 8.,  8.,  8.,  8.,  8.,  8.]])"
      ]
     },
     "execution_count": 4,
     "metadata": {},
     "output_type": "execute_result"
    }
   ],
   "source": [
    "mat"
   ]
  },
  {
   "cell_type": "markdown",
   "metadata": {},
   "source": [
    "<br/>"
   ]
  },
  {
   "cell_type": "markdown",
   "metadata": {},
   "source": [
    "## Task 2 (1 pt.)\n",
    "\n",
    "Implement a routine, which creates a binary checkerboard matrix with the specified\n",
    "shape.\n",
    "\n",
    "Example 4x4:\n",
    "```python\n",
    "[[0, 1, 0, 1],\n",
    " [1, 0, 1, 0],\n",
    " [0, 1, 0, 1],\n",
    " [1, 0, 1, 0]]\n",
    "```"
   ]
  },
  {
   "cell_type": "code",
   "execution_count": 5,
   "metadata": {
    "collapsed": true
   },
   "outputs": [],
   "source": [
    "def make_binary_checkerboard_matrix(n_rows, n_cols):\n",
    "    \"\"\"Construct an n x m matrix with checkerboard pattern of 0 and 1.\n",
    "    \n",
    "    Parameters\n",
    "    ----------\n",
    "    n_rows : int\n",
    "        Nonnegative integer, spcifying the number of rows.\n",
    "    n_cols : int\n",
    "        Nonnegative integer, spcifying the number of columns.\n",
    "    \n",
    "    Returns\n",
    "    -------\n",
    "    arr : array, 2 dimensional, shape = (n_rows, n_cols)\n",
    "        The final checkerboard matrix.\n",
    "    \"\"\"\n",
    "    ### BEGIN Solution\n",
    "    ii,jj = np.meshgrid(np.arange(1,n_rows+1,1),np.arange(1,n_cols+1,1))\n",
    "    T = ii+jj\n",
    "    T_func=np.vectorize(lambda x: 1.*int(x%2!=0))\n",
    "    out = T_func(T)\n",
    "    ### END Solution\n",
    "\n",
    "    return out"
   ]
  },
  {
   "cell_type": "code",
   "execution_count": 6,
   "metadata": {},
   "outputs": [
    {
     "data": {
      "text/plain": [
       "array([[ 0.,  1.,  0.,  1.,  0.],\n",
       "       [ 1.,  0.,  1.,  0.,  1.],\n",
       "       [ 0.,  1.,  0.,  1.,  0.],\n",
       "       [ 1.,  0.,  1.,  0.,  1.]])"
      ]
     },
     "execution_count": 6,
     "metadata": {},
     "output_type": "execute_result"
    }
   ],
   "source": [
    "make_binary_checkerboard_matrix(5,4)"
   ]
  },
  {
   "cell_type": "markdown",
   "metadata": {},
   "source": [
    "<br/>"
   ]
  },
  {
   "cell_type": "markdown",
   "metadata": {},
   "source": [
    "## Task 3 (1 pt.)\n",
    "\n",
    "Write a function that shifts and scales a given array `arr` so that its values\n",
    "lie within $[0, 1]$."
   ]
  },
  {
   "cell_type": "code",
   "execution_count": 7,
   "metadata": {
    "collapsed": true
   },
   "outputs": [],
   "source": [
    "def normalize(arr):\n",
    "    \"\"\"Shift and scale the array to fit it within [0, 1].\n",
    "    \n",
    "    Parameters\n",
    "    ----------\n",
    "    arr : array, multidimensional\n",
    "        The array to be normalized.\n",
    "    \n",
    "    Returns\n",
    "    -------\n",
    "    out : array\n",
    "        The normalized array.\n",
    "    \"\"\"\n",
    "    ### BEGIN Solution\n",
    "    \n",
    "    out = arr/np.max(arr)\n",
    "\n",
    "    ### END Solution\n",
    "\n",
    "    return out"
   ]
  },
  {
   "cell_type": "code",
   "execution_count": 8,
   "metadata": {},
   "outputs": [
    {
     "data": {
      "text/plain": [
       "array([[ 1.   ,  1.   ,  1.   ,  1.   ,  1.   ,  1.   ],\n",
       "       [ 1.   ,  0.875,  0.875,  0.875,  0.875,  1.   ],\n",
       "       [ 1.   ,  0.875,  0.875,  0.875,  0.875,  1.   ],\n",
       "       [ 1.   ,  0.875,  0.875,  0.875,  0.875,  1.   ],\n",
       "       [ 1.   ,  1.   ,  1.   ,  1.   ,  1.   ,  1.   ]])"
      ]
     },
     "execution_count": 8,
     "metadata": {},
     "output_type": "execute_result"
    }
   ],
   "source": [
    "normalize(mat)"
   ]
  },
  {
   "cell_type": "markdown",
   "metadata": {},
   "source": [
    "<br/>"
   ]
  },
  {
   "cell_type": "markdown",
   "metadata": {},
   "source": [
    "## Task 4 (1 pt.)\n",
    "\n",
    "Write a function, which takes a matrix `arr` and centers each of its rows\n",
    "by the mean within that row. Check [this](https://docs.scipy.org/doc/numpy/reference/routines.statistics.html)\n",
    "out for documentation."
   ]
  },
  {
   "cell_type": "code",
   "execution_count": 9,
   "metadata": {
    "collapsed": true
   },
   "outputs": [],
   "source": [
    "def center(arr):\n",
    "    \"\"\"Center each row of a matrix by the mean value in that row.\n",
    "\n",
    "    Parameters\n",
    "    ----------\n",
    "    arr : array, shape = (n_rows, n_cols)\n",
    "        The matrix, the rows of which to center.\n",
    "\n",
    "    Returns\n",
    "    ----------\n",
    "    out : array, shape = (n_rows, n_cols)\n",
    "        The final row-centered matrix.\n",
    "    \"\"\"\n",
    "    assert arr.ndim == 2\n",
    "    n_rows, n_cols = arr.shape\n",
    "\n",
    "    ### BEGIN Solution\n",
    "    \n",
    "    out = np.apply_along_axis(lambda x: x - np.mean(x), 1, arr)\n",
    "    \n",
    "    ### END Solution\n",
    "\n",
    "    return out"
   ]
  },
  {
   "cell_type": "code",
   "execution_count": 10,
   "metadata": {},
   "outputs": [
    {
     "data": {
      "text/plain": [
       "array([[ 0.        ,  0.        ,  0.        ,  0.        ,  0.        ,\n",
       "         0.        ],\n",
       "       [ 0.66666667, -0.33333333, -0.33333333, -0.33333333, -0.33333333,\n",
       "         0.66666667],\n",
       "       [ 0.66666667, -0.33333333, -0.33333333, -0.33333333, -0.33333333,\n",
       "         0.66666667],\n",
       "       [ 0.66666667, -0.33333333, -0.33333333, -0.33333333, -0.33333333,\n",
       "         0.66666667],\n",
       "       [ 0.        ,  0.        ,  0.        ,  0.        ,  0.        ,\n",
       "         0.        ]])"
      ]
     },
     "execution_count": 10,
     "metadata": {},
     "output_type": "execute_result"
    }
   ],
   "source": [
    "center(mat)"
   ]
  },
  {
   "cell_type": "code",
   "execution_count": 11,
   "metadata": {
    "collapsed": true
   },
   "outputs": [],
   "source": [
    "t = np.array([[1,2],[6,100]])"
   ]
  },
  {
   "cell_type": "code",
   "execution_count": 12,
   "metadata": {},
   "outputs": [
    {
     "data": {
      "text/plain": [
       "array([[ -0.5,   0.5],\n",
       "       [-47. ,  47. ]])"
      ]
     },
     "execution_count": 12,
     "metadata": {},
     "output_type": "execute_result"
    }
   ],
   "source": [
    "center(t)"
   ]
  },
  {
   "cell_type": "markdown",
   "metadata": {},
   "source": [
    "<br/>"
   ]
  },
  {
   "cell_type": "markdown",
   "metadata": {},
   "source": [
    "## Task 5 (2 pt.)\n",
    "\n",
    "Implement the following fancy function:\n",
    "\\begin{equation}\n",
    "    f(x) = \\sigma\\bigl(\n",
    "                \\max\\{x + 5, 0\\} + \\max\\{5 - x, 0\\}\n",
    "                + \\max\\{\\min\\{\\cos(2 x \\pi), \\tfrac12\\}, -\\tfrac14\\}\n",
    "            \\bigr)\n",
    "         \\,,\n",
    "\\end{equation}\n",
    "where $\\sigma(x) = (1+e^{-x})^{-1}$ is the sigmoid function.\n",
    "\n",
    "<img src=\"data:image/png;base64,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\"/>"
   ]
  },
  {
   "cell_type": "code",
   "execution_count": 13,
   "metadata": {
    "collapsed": true
   },
   "outputs": [],
   "source": [
    "def fancy_function(x):\n",
    "    \"\"\"Compute some fancy function.\n",
    "    \n",
    "    Parameters\n",
    "    ----------\n",
    "    X : array, 1 dimendional, shape=(n_samples,)\n",
    "        The array argument values.\n",
    "\n",
    "    Returns\n",
    "    -------\n",
    "    y : array, 1 dimendional, shape=(n_samples,)\n",
    "        The values of the fancy function.\n",
    "    \"\"\"\n",
    "    ### BEGIN Solution \n",
    "    # clip\n",
    "    sigmoid = lambda x: (1+np.exp(-x))**(-1)\n",
    "    argument = lambda x: np.maximum(np.minimum(np.cos(2*x*np.pi),0.5),-0.25) + np.maximum(x+5,0) + np.maximum(5-x,0)\n",
    "    all_in = lambda x: sigmoid(argument(x))\n",
    "    out = all_in(x)\n",
    "    return out"
   ]
  },
  {
   "cell_type": "code",
   "execution_count": 14,
   "metadata": {},
   "outputs": [
    {
     "data": {
      "image/png": "[encoded data removed]",
      "text/plain": [
       "<matplotlib.figure.Figure at 0x7f59922e2b00>"
      ]
     },
     "metadata": {},
     "output_type": "display_data"
    }
   ],
   "source": [
    "x = np.linspace(-12.5, 12.5, num=1001)\n",
    "fig, ax = plt.subplots(figsize=(5, 5))\n",
    "ax.plot(x, fancy_function(x))\n",
    "plt.show()"
   ]
  },
  {
   "cell_type": "markdown",
   "metadata": {},
   "source": [
    "Plot the function"
   ]
  },
  {
   "cell_type": "code",
   "execution_count": 15,
   "metadata": {},
   "outputs": [
    {
     "data": {
      "image/png": "[encoded data removed]",
      "text/plain": [
       "<matplotlib.figure.Figure at 0x7f5990082f28>"
      ]
     },
     "metadata": {},
     "output_type": "display_data"
    }
   ],
   "source": [
    "x = np.linspace(-12.5, 12.5, num=1001)\n",
    "fig, ax = plt.subplots(figsize=(5, 5))\n",
    "ax.plot(x, fancy_function(x))\n",
    "plt.show()"
   ]
  },
  {
   "cell_type": "markdown",
   "metadata": {},
   "source": [
    "<br/>"
   ]
  },
  {
   "cell_type": "markdown",
   "metadata": {},
   "source": [
    "## Task 6 (2 pt.)\n",
    "\n",
    "Write a function that sorts the rows of a given matrix by the values of a\n",
    "specified column in **descending order**."
   ]
  },
  {
   "cell_type": "code",
   "execution_count": 16,
   "metadata": {
    "collapsed": true
   },
   "outputs": [],
   "source": [
    "def sort_by_column_desc(arr, col):\n",
    "    \"\"\"Sort the rows of a matrix in descending order of values in a specified column.\n",
    "\n",
    "    Parameters\n",
    "    ----------\n",
    "    arr : array, 2 dimensional\n",
    "        The array to sort.\n",
    "\n",
    "    col : int\n",
    "        The index of the column to sort the rows by.\n",
    "\n",
    "    Returns\n",
    "    ----------\n",
    "    out : array, 2 dimensional\n",
    "        The sorted array.\n",
    "    \n",
    "    \"\"\"\n",
    "    ### BEGIN Solution\n",
    "    \n",
    "    order = np.flip(np.argsort(arr[:,col]),0)\n",
    "    out = arr[[order],:].copy()\n",
    "    \n",
    "    ### END Solution\n",
    "\n",
    "    return out"
   ]
  },
  {
   "cell_type": "code",
   "execution_count": 17,
   "metadata": {},
   "outputs": [
    {
     "data": {
      "text/plain": [
       "array([[4, 5, 6],\n",
       "       [1, 2, 3],\n",
       "       [7, 8, 9]])"
      ]
     },
     "execution_count": 17,
     "metadata": {},
     "output_type": "execute_result"
    }
   ],
   "source": [
    "arr = np.array([[4,5,6],[1,2,3],[7,8,9]])\n",
    "arr"
   ]
  },
  {
   "cell_type": "code",
   "execution_count": 18,
   "metadata": {},
   "outputs": [
    {
     "data": {
      "text/plain": [
       "array([[[7, 8, 9],\n",
       "        [4, 5, 6],\n",
       "        [1, 2, 3]]])"
      ]
     },
     "execution_count": 18,
     "metadata": {},
     "output_type": "execute_result"
    }
   ],
   "source": [
    "sort_by_column_desc(arr,0)"
   ]
  },
  {
   "cell_type": "markdown",
   "metadata": {},
   "source": [
    "<br/>"
   ]
  },
  {
   "cell_type": "markdown",
   "metadata": {},
   "source": [
    "## Task 7 (4 pt.)\n",
    "\n",
    "Write a function that takes two real valued matrices $X$ and $Y$ with different\n",
    "number of rows and equal number of columns and outputs the nearest neighbours'\n",
    "indices. Specifically, each row $i$ in the output matrix indexes the rows of $Y$\n",
    "in order **from the closest to the farthest** from the $i$-th row of $X$.\n",
    "\n",
    "**Remeber** to avoid explicit loops!\n",
    "\n",
    "You might like to have a look at *np.linalg.norm* and *np.argsort*.\n",
    "Example:\n",
    "```python\n",
    ">>> X = [[0, 1], [3, 1]]\n",
    ">>> Y = [[1, 1], [2, 2], [-20, -20]]\n",
    ">>> index_of_nearest(X, Y, norm=2.0)\n",
    "array([[0, 1, 2],\n",
    "       [1, 0, 2]])\n",
    "```"
   ]
  },
  {
   "cell_type": "code",
   "execution_count": 19,
   "metadata": {
    "collapsed": true
   },
   "outputs": [],
   "source": [
    "def nearest_neighbours(X, Y, norm=2.0):\n",
    "    \"\"\"Index the rows of `Y` in increasing order of distance from each row in `X`.\n",
    "\n",
    "    Parameters\n",
    "    ----------\n",
    "    X : array, 2 dimensional, shape = (n_samples, n_dim)\n",
    "        The matrix, for the rows of which to find the closest row in `Y`.\n",
    "\n",
    "    Y : array, 2 dimensional, shape = (n_reference, n_dim)\n",
    "        The matrix, among the rows of which to seek the closest one for `X`.\n",
    "\n",
    "    norm : float, positive\n",
    "        The order of the l^p norm to use for computing the pairwise distances.\n",
    "\n",
    "    Returns\n",
    "    -------\n",
    "    index : 2 dimensional\n",
    "        The matrix of indices of the rows of `Y` for each vector in `X`\n",
    "        in increasing order of distnace with respect to the l^p norm.\n",
    "\n",
    "    \"\"\"\n",
    "    assert X.ndim == Y.ndim and X.ndim == 2\n",
    "\n",
    "    ### BEGIN Solution\n",
    "    \n",
    "    num_rows_y = Y.shape[0]\n",
    "    num_rows_x, num_cols_x = X.shape[0],X.shape[1]\n",
    "    \n",
    "    Y_repeated = np.tile(Y.T,num_rows_x).T\n",
    "    X_repeated = np.tile(X, num_rows_y).reshape(num_rows_y*num_rows_x, num_cols_x)\n",
    "\n",
    "    distances = np.linalg.norm(X_repeated-Y_repeated, ord=norm, axis=1).reshape(num_rows_x,num_rows_y)\n",
    "    \n",
    "    out = np.apply_along_axis(lambda x: np.argsort(x), axis=1, arr=distances)\n",
    "    ### END Solution\n",
    "\n",
    "    return out"
   ]
  },
  {
   "cell_type": "code",
   "execution_count": 20,
   "metadata": {
    "collapsed": true
   },
   "outputs": [],
   "source": [
    "x_ = np.array([[0, 1], [3, 1]])\n",
    "y_ = np.array([[1, 1], [2, 2], [-20, -20]])"
   ]
  },
  {
   "cell_type": "code",
   "execution_count": 21,
   "metadata": {},
   "outputs": [
    {
     "data": {
      "text/plain": [
       "array([[0, 1, 2],\n",
       "       [1, 0, 2]])"
      ]
     },
     "execution_count": 21,
     "metadata": {},
     "output_type": "execute_result"
    }
   ],
   "source": [
    "nearest_neighbours(x_,y_) #test 1 +"
   ]
  },
  {
   "cell_type": "code",
   "execution_count": 22,
   "metadata": {
    "collapsed": true
   },
   "outputs": [],
   "source": [
    "x_ = np.array([[0, 1], [3, 1]])\n",
    "y_ = np.array([[1, 1], [2, 2], [5, 5], [-20, -20]])"
   ]
  },
  {
   "cell_type": "code",
   "execution_count": 23,
   "metadata": {},
   "outputs": [
    {
     "data": {
      "text/plain": [
       "array([[0, 1, 2, 3],\n",
       "       [1, 0, 2, 3]])"
      ]
     },
     "execution_count": 23,
     "metadata": {},
     "output_type": "execute_result"
    }
   ],
   "source": [
    "nearest_neighbours(x_,y_) #test 2 +"
   ]
  },
  {
   "cell_type": "code",
   "execution_count": 24,
   "metadata": {
    "collapsed": true
   },
   "outputs": [],
   "source": [
    "x_ = np.array([[0, 1, 2], [1,1,2], [3, 1,2]])\n",
    "y_ = np.array([[1, 1,3], [2, 2,3], [5, 5,3], [-20, -20,-20]])"
   ]
  },
  {
   "cell_type": "code",
   "execution_count": 25,
   "metadata": {},
   "outputs": [
    {
     "data": {
      "text/plain": [
       "array([[0, 1, 2, 3],\n",
       "       [0, 1, 2, 3],\n",
       "       [1, 0, 2, 3]])"
      ]
     },
     "execution_count": 25,
     "metadata": {},
     "output_type": "execute_result"
    }
   ],
   "source": [
    "nearest_neighbours(x_,y_) #test 3 +"
   ]
  },
  {
   "cell_type": "markdown",
   "metadata": {},
   "source": [
    "<br/>"
   ]
  },
  {
   "cell_type": "markdown",
   "metadata": {},
   "source": [
    "## Task 8 (4+1 pt.)\n",
    "\n",
    "Plot the level sets of the $l^p$ norm\n",
    "\\begin{equation}\n",
    "    \\|z\\|_p = \\biggl(\\sum_i \\lvert x_i\\rvert^p\\biggr)^\\tfrac1{p}\n",
    "        \\,.\n",
    "\\end{equation}\n",
    "and make the contour of the unit ball in $l^p$ norm stand out. Draw plots\n",
    "for $p \\in \\{0, \\tfrac1{25}, \\tfrac12, 1, 1.5, 2, 7, \\infty\\}$.\n",
    "\n",
    "Study plotting examples on [this](https://matplotlib.org/api/_as_gen/matplotlib.pyplot.contourf.html#matplotlib.pyplot.contourf) and [this](http://scikit-learn.org/stable/auto_examples/svm/plot_oneclass.html) pages (**especially the last one**) and have a look at these functions: *np.meshgrid*, *np.linspace* in numpy's documentation. You\n",
    "will get extra points if you use *np.linalg.norm* (which is more numerically stable).\n",
    "\n",
    "Try to produce a plot that **looks like the one below**:\n",
    "<img src=\"data:image/png;base64,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\"/>"
   ]
  },
  {
   "cell_type": "code",
   "execution_count": 26,
   "metadata": {},
   "outputs": [
    {
     "data": {
      "image/png": "[encoded data removed]",
      "text/plain": [
       "<matplotlib.figure.Figure at 0x7f599009f320>"
      ]
     },
     "metadata": {},
     "output_type": "display_data"
    }
   ],
   "source": [
    "p_values = [0., 0.04, 0.5, 1, 1.5, 2, 7, np.inf]\n",
    "xx, yy = np.meshgrid(np.linspace(-3, 3, num=101),\n",
    "                     np.linspace(-3, 3, num=101))\n",
    "\n",
    "fig, axes = plt.subplots(ncols=(len(p_values) + 1)// 2,\n",
    "                         nrows=2, figsize=(14, 7))\n",
    "\n",
    "for p, ax in zip(p_values, axes.flat):\n",
    "    ### BEGIN Solution\n",
    "    z=np.c_[xx.ravel(), yy.ravel()]\n",
    "    z=np.apply_along_axis(lambda x: np.linalg.norm(x,ord=p), axis=1, arr=z).reshape(xx.shape)\n",
    "    \n",
    "    ax.contourf(xx,yy,z,levels=np.linspace(0,z.max(),20), cmap='coolwarm')\n",
    "    a=ax.contour(xx, yy, z, levels=[1],linewidths=2, colors='fuchsia')\n",
    "    #ax.contourf(xx, yy, z, levels=[0,1], colors='b')    \n",
    "    ax.legend([a.collections[0]], ['$x:|x|_{'+str(p)+'}=1$'], loc=\"upper right\")\n",
    "\n",
    "    ### END Solution\n",
    "\n",
    "plt.show()"
   ]
  },
  {
   "cell_type": "markdown",
   "metadata": {},
   "source": [
    "<br/>"
   ]
  },
  {
   "cell_type": "markdown",
   "metadata": {},
   "source": [
    "## Task 9 (4 pt.)\n",
    "\n",
    "Write a function, that accepts an array of real values, a set of splitting points\n",
    "and returns the sample mean of all values that end up within **each bin**, defined\n",
    "by two consecutive splitting points.\n",
    "\n",
    "Example for $\\mathtt{splits} = [-1, 0, 1]$ the bins are\n",
    "\\begin{equation}\n",
    "    \\mathtt{bins} = \\bigl[[-\\infty, -1), [-1, 0), [0, +1), [+1, +\\infty)\\bigr]\\,.\n",
    "\\end{equation}\n",
    "\n",
    "Look up functions *np.digitize* and *np.bincount*, and **pay close attention** to what they\n",
    "return and how to correctly use them."
   ]
  },
  {
   "cell_type": "code",
   "execution_count": 27,
   "metadata": {
    "collapsed": true
   },
   "outputs": [],
   "source": [
    "def means_in_bins(bin_splits, arr):\n",
    "    \"\"\"Compute the sample mean of the values within bins.\n",
    "\n",
    "    Parametrs\n",
    "    ---------\n",
    "    bin_splits : array, 1 dimension, shape=(n_splits,)\n",
    "        1d array of values in ascending order.\n",
    "\n",
    "    arr : arraylike, 1 dimension\n",
    "        1d array of values to be put in bins.\n",
    "    \n",
    "    Returns\n",
    "    -------\n",
    "    means : array, 1 dimensional, shape = (n_splits + 1,)\n",
    "        The sample mean within each bin defined by `bin_splits`.\n",
    "\n",
    "    Details\n",
    "    -------\n",
    "    The flat array `bin_splits` of size `n_splits` defines the following bins:\n",
    "    (-inf, B[0]), ..., [B[i-1], B[i]), ..., [B[n_splits], +inf), where B denotes\n",
    "    `bin_splits`. The vlaues in `arr` are assigned to each bin and then averages\n",
    "    within each bin are computed.\n",
    "    \"\"\"\n",
    "    bins = np.r_[-np.inf, bin_splits, +np.inf]\n",
    "\n",
    "    ### BEGIN Solution\n",
    "    \n",
    "    native_bin = np.digitize(arr, bins)\n",
    "    out = np.bincount(native_bin,arr)[1:] / np.bincount(native_bin)[1:]\n",
    "\n",
    "    ### END Solution\n",
    "\n",
    "    return out "
   ]
  },
  {
   "cell_type": "code",
   "execution_count": 28,
   "metadata": {},
   "outputs": [
    {
     "data": {
      "text/plain": [
       "array([ 2. ,  5. ,  7.5,  9. ])"
      ]
     },
     "execution_count": 28,
     "metadata": {},
     "output_type": "execute_result"
    }
   ],
   "source": [
    "t = np.array([1,2,3,4,5,6,7,8,9]) #test 1 +\n",
    "bins = np.array([3.5,6.5,9])\n",
    "means_in_bins(bins,t)"
   ]
  },
  {
   "cell_type": "code",
   "execution_count": 29,
   "metadata": {},
   "outputs": [
    {
     "data": {
      "text/plain": [
       "array([-2.5,  0.5,  5. ])"
      ]
     },
     "execution_count": 29,
     "metadata": {},
     "output_type": "execute_result"
    }
   ],
   "source": [
    "t = np.array([-3,-2,-1, 0, 1,2,5]) #test 2 +\n",
    "bins = np.array([-1,3])\n",
    "means_in_bins(bins,t)"
   ]
  },
  {
   "cell_type": "markdown",
   "metadata": {},
   "source": [
    "<br/>"
   ]
  },
  {
   "cell_type": "markdown",
   "metadata": {},
   "source": [
    "## Task 10 (2 pt.)\n",
    "\n",
    "Write a function that takes a multidimentional real valued array with\n",
    "**missing values** (represented by *NaN*) and returns its copy with the\n",
    "missing values filled with the sample mean of all nonmissing values. If\n",
    "the input array **contains nothing but missing values**, then fill it\n",
    "with zero."
   ]
  },
  {
   "cell_type": "code",
   "execution_count": 31,
   "metadata": {
    "collapsed": true
   },
   "outputs": [],
   "source": [
    "def fill_missing(arr):\n",
    "    \"\"\"Fill the missing values in an array with mean of nonmissing values.\n",
    "\n",
    "    Parameters\n",
    "    ---------\n",
    "    arr : arraylike, multidimensional\n",
    "        The real-valued array with missing values to be filled.\n",
    "\n",
    "    Returns\n",
    "    ----------\n",
    "    out : arraylike, multidimensional\n",
    "        A copy of the input array with filled missing values.\n",
    "    \"\"\"\n",
    "\n",
    "    ### BEGIN Solution\n",
    "    \n",
    "    if arr[np.isnan(arr)].shape[0] == arr.ravel().shape[0]:\n",
    "        return np.zeros(arr.shape)\n",
    "    else:\n",
    "        mean = np.nanmean(arr)\n",
    "        arr[np.isnan(arr)] = mean\n",
    "        out=arr\n",
    "    ### END Solution\n",
    "\n",
    "    return out"
   ]
  },
  {
   "cell_type": "code",
   "execution_count": 32,
   "metadata": {},
   "outputs": [
    {
     "data": {
      "text/plain": [
       "array([[  1.,   2.,  nan],\n",
       "       [ nan,   3.,   4.],\n",
       "       [  5.,  nan,   6.]])"
      ]
     },
     "execution_count": 32,
     "metadata": {},
     "output_type": "execute_result"
    }
   ],
   "source": [
    "t=np.array([[1,2,np.NaN],[np.NaN,3,4],[5,np.NaN,6]]) #test 1\n",
    "t"
   ]
  },
  {
   "cell_type": "code",
   "execution_count": 33,
   "metadata": {},
   "outputs": [
    {
     "data": {
      "text/plain": [
       "array([[ 1. ,  2. ,  3.5],\n",
       "       [ 3.5,  3. ,  4. ],\n",
       "       [ 5. ,  3.5,  6. ]])"
      ]
     },
     "execution_count": 33,
     "metadata": {},
     "output_type": "execute_result"
    }
   ],
   "source": [
    "fill_missing(t)"
   ]
  },
  {
   "cell_type": "code",
   "execution_count": 34,
   "metadata": {},
   "outputs": [
    {
     "data": {
      "text/plain": [
       "array([[ nan,  nan],\n",
       "       [ nan,  nan]])"
      ]
     },
     "execution_count": 34,
     "metadata": {},
     "output_type": "execute_result"
    }
   ],
   "source": [
    "t = np.array([[np.NaN,np.NaN],[np.NaN,np.NaN]]) #test 2\n",
    "t"
   ]
  },
  {
   "cell_type": "code",
   "execution_count": 35,
   "metadata": {},
   "outputs": [
    {
     "data": {
      "text/plain": [
       "array([[ 0.,  0.],\n",
       "       [ 0.,  0.]])"
      ]
     },
     "execution_count": 35,
     "metadata": {},
     "output_type": "execute_result"
    }
   ],
   "source": [
    "fill_missing(t)"
   ]
  },
  {
   "cell_type": "markdown",
   "metadata": {},
   "source": [
    "<br/>"
   ]
  },
  {
   "cell_type": "markdown",
   "metadata": {},
   "source": [
    "<br/>"
   ]
  },
  {
   "cell_type": "markdown",
   "metadata": {},
   "source": [
    "## Task 11 (4 pt.)\n",
    "\n",
    "Write a function that solves the following optimization problem for any\n",
    "$X \\in \\mathbb{R}^{N\\times d}$, $y\\in \\mathbb{R}^{N}$ and $C > 0$: <br><br>\n",
    "\\begin{equation}\n",
    "    \\begin{aligned}\n",
    "        & \\underset{\\beta, \\beta_0}{\\text{minimize}}\n",
    "          & & \\tfrac12 \\|X \\beta + \\mathbf{1}\\beta_0 - y\\|^2 + \\tfrac{C}2\\|\\beta\\|^2\n",
    "              \\,,\n",
    "    \\end{aligned}\n",
    "\\end{equation}<br>\n",
    "where $\\|\\cdot\\|^2$ is the squared $l^2$ norm, and $\\mathbf{1}$ is a column vector of ones.\n",
    "You will have to derive the explicit solution and implement it using numpy."
   ]
  },
  {
   "cell_type": "markdown",
   "metadata": {},
   "source": [
    "### Solution\n",
    "\n",
    "1. Write out the FOC for $\\beta_0$ and solve it for $\\beta_0$.\n",
    "\n",
    "2. Plug $\\beta_0$ into the objective and write out the new optimization problem. Observe how $X$ and $y$ are augmented.\n",
    "\n",
    "3. Get the FOC for $\\beta$ for the new problem and solve it.\n",
    "\n",
    "4. Recover $\\beta_0$ from the known solution for $\\beta$.\n"
   ]
  },
  {
   "cell_type": "markdown",
   "metadata": {},
   "source": [
    "Implement the function."
   ]
  },
  {
   "cell_type": "code",
   "execution_count": 143,
   "metadata": {
    "collapsed": true
   },
   "outputs": [],
   "source": [
    "def ridge_leastsq(X, y, alpha=1.0):\n",
    "    \"\"\"Find the Ridge regression solution for the given dataset (X, y).\n",
    "    \n",
    "    Parameters\n",
    "    ----------\n",
    "    X : array, 2 dimensional, shape = (n_samples, n_features)\n",
    "        The input feature matrix.\n",
    "\n",
    "    y : array, 1 dimensional, shape = (n_samples,)\n",
    "        The target values for the regression task.\n",
    "\n",
    "    alpha : float\n",
    "        The value of the ridge regularization coefficient.\n",
    "    \n",
    "    Returns\n",
    "    -------\n",
    "    intercept : float\n",
    "        The optimal intercept term.\n",
    "    beta : array, shape = (n_features,)\n",
    "        The optimal ridge regression coefficients.\n",
    "    \"\"\"\n",
    "    assert X.ndim == 2\n",
    "\n",
    "    n_samples, n_features = X.shape\n",
    "    assert y.ndim == 1 and len(y) == n_samples\n",
    "\n",
    "    ### BEGIN Solution\n",
    "    \n",
    "    N = n_samples\n",
    "    I = np.eye(n_features,n_features)\n",
    "    ones_vec = np.ones((n_samples, 1))\n",
    "    A = ones_vec@ones_vec.T\n",
    "    \n",
    "    beta = np.linalg.inv((X.T@X - (1/N)*X.T@A@X + alpha*I))@(X.T@y - (1/N)*X.T@A@y)\n",
    "    \n",
    "    beta_0 = (1/N)*ones_vec.T@(y-X@beta)\n",
    "    \n",
    "    ### END Solution\n",
    "    \n",
    "    return beta_0, beta\n"
   ]
  },
  {
   "cell_type": "markdown",
   "metadata": {},
   "source": [
    "##### Test"
   ]
  },
  {
   "cell_type": "code",
   "execution_count": 144,
   "metadata": {
    "scrolled": true
   },
   "outputs": [
    {
     "data": {
      "image/png": "[encoded data removed]",
      "text/plain": [
       "<matplotlib.figure.Figure at 0x7fda852f5d68>"
      ]
     },
     "metadata": {},
     "output_type": "display_data"
    }
   ],
   "source": [
    "x = np.arange(0,20, dtype=np.float32).reshape(20, 1) #create data\n",
    "x.dtype\n",
    "y = np.apply_along_axis(lambda x: 2*x+3, 0,x.copy()).ravel()\n",
    "y+=np.random.uniform(low=1.5, high = 9., size = y.shape)\n",
    "\n",
    "plt.scatter(x.ravel(),y.ravel());"
   ]
  },
  {
   "cell_type": "code",
   "execution_count": 145,
   "metadata": {
    "collapsed": true
   },
   "outputs": [],
   "source": [
    "beta_0, beta = ridge_leastsq(x,y)"
   ]
  },
  {
   "cell_type": "code",
   "execution_count": 146,
   "metadata": {
    "collapsed": true
   },
   "outputs": [],
   "source": [
    "x_ridge = np.array([0,19])\n",
    "y_ridge = np.apply_along_axis(lambda x: beta_0 + beta*x,0,arr=x_ridge.copy())"
   ]
  },
  {
   "cell_type": "code",
   "execution_count": 147,
   "metadata": {},
   "outputs": [
    {
     "data": {
      "image/png": "[encoded data removed]",
      "text/plain": [
       "<matplotlib.figure.Figure at 0x7fda852f55c0>"
      ]
     },
     "metadata": {},
     "output_type": "display_data"
    }
   ],
   "source": [
    "plt.scatter(x.ravel(),y.ravel(), label = 'Noized data')\n",
    "plt.plot(x_ridge, y_ridge, color ='r', label = 'Ridge')\n",
    "plt.legend();"
   ]
  },
  {
   "cell_type": "markdown",
   "metadata": {},
   "source": [
    "###### Let's also check the correcteness of our solution with sklearn ridge regression. It should yeild the same result:"
   ]
  },
  {
   "cell_type": "code",
   "execution_count": 148,
   "metadata": {},
   "outputs": [
    {
     "data": {
      "text/plain": [
       "Ridge(alpha=1.0, copy_X=True, fit_intercept=True, max_iter=None,\n",
       "   normalize=False, random_state=None, solver='auto', tol=0.001)"
      ]
     },
     "execution_count": 148,
     "metadata": {},
     "output_type": "execute_result"
    }
   ],
   "source": [
    "from sklearn.linear_model import Ridge\n",
    "\n",
    "model = Ridge(alpha=1.0,copy_X=True)\n",
    "model.fit(x,y)"
   ]
  },
  {
   "cell_type": "code",
   "execution_count": 149,
   "metadata": {},
   "outputs": [
    {
     "name": "stdout",
     "output_type": "stream",
     "text": [
      "sklearn beta: [ 1.9836868]\n",
      "our beta: [ 1.98368668] \n",
      "\n",
      "sklearn beta_0: 9.41129\n",
      "our beta_0: [ 9.41129028]\n"
     ]
    }
   ],
   "source": [
    "beta_sk, beta_0_sk = model.coef_, model.intercept_\n",
    "\n",
    "print('sklearn beta:',beta_sk)\n",
    "print('our beta:',beta,'\\n')\n",
    "print('sklearn beta_0:',beta_0_sk)\n",
    "print('our beta_0:',beta_0)"
   ]
  },
  {
   "cell_type": "markdown",
   "metadata": {},
   "source": [
    "###### Correct, cheers."
   ]
  },
  {
   "cell_type": "markdown",
   "metadata": {},
   "source": [
    "<br/>"
   ]
  },
  {
   "cell_type": "markdown",
   "metadata": {},
   "source": [
    "## Task 12 (6 pt., optional)\n",
    "\n",
    "In this exercise you are asked to remember and use the\n",
    "[Singular Value Decomposition](https://en.wikipedia.org/wiki/Singular-value_decomposition)\n",
    "to solve the previous task not for just one value of $C$,\n",
    "but for an arbitrary flat array of positive regularization\n",
    "coefficients.\n",
    "\n",
    "**Hint** Carefully study the capabilities of [np.einsum](https://docs.scipy.org/doc/numpy/reference/generated/numpy.einsum.html)\n",
    "and the parameters of [np.svd](https://docs.scipy.org/doc/numpy/reference/generated/numpy.linalg.svd.html)\n",
    "Then figure out a way to use just one call to SVD instead of multiple\n",
    "matrix inversions.\n",
    "\n",
    "**Remember**: avoid using python loops!"
   ]
  },
  {
   "cell_type": "markdown",
   "metadata": {},
   "source": [
    "In the last task, we found $\\beta$ and $\\beta_0$ analiticaly: <br><br>\n",
    "\n",
    "$ \\beta = (X^TX - \\frac 1 N X^T \\mathbf{1}\\mathbf{1}^T X + cI)^{-1} (X^T y - \\frac 1 N X^T \\mathbf{1}\\mathbf{1}^Ty)$\n",
    "\n",
    "$\\beta_0 = \\frac 1 N \\mathbf{1}^T (y - X \\beta)$\n",
    "\n",
    "We can use SVD to prevent multiple matrix inversions:\n",
    "\n",
    "Let $Z = (X^TX - \\frac 1 N X^T \\mathbf{1}\\mathbf{1}^T X)$\n",
    "\n",
    "Knowing $Z = U \\Sigma V^T$, we can compute matrix inversion very efficient with the following trick:\n",
    "\n",
    "$ \\beta = U(\\Sigma + cI)^{-1}V^T (X^T y - \\frac 1 N X^T \\mathbf{1}\\mathbf{1}^Ty)$, where $\\Sigma + cI$ is a diagonal matrix, so we can calculate its inverse, taking just its reciprocal, which is much cheaper."
   ]
  },
  {
   "cell_type": "code",
   "execution_count": 65,
   "metadata": {
    "collapsed": true
   },
   "outputs": [],
   "source": [
    "def ridge_path(X, y, alpha=(1.0,)):\n",
    "    \"\"\"Find the Ridge regression solution for the given dataset (X, y).\n",
    "    \n",
    "    Parameters\n",
    "    ----------\n",
    "    X : array, 2 dimensional, shape = (n_samples, n_features)\n",
    "        The input feature matrix.\n",
    "\n",
    "    y : array, 1 dimensional, shape = (n_samples,)\n",
    "        The target values for the regression task.\n",
    "\n",
    "    alpha : arraylike, 1 dimensional, shape = (n_coefficients,)\n",
    "        The value of the ridge regularization coefficient.\n",
    "    \n",
    "    Returns\n",
    "    -------\n",
    "    intercept : array, 1 dimensional, shape = (n_coefficients,)\n",
    "        The optimal intercept term for each value in `C`.\n",
    "    beta : array, shape = (n_features, n_coefficients)\n",
    "        The optimal ridge regression coefficients for each value in `C`.\n",
    "    \"\"\"\n",
    "    assert X.ndim == 2\n",
    "\n",
    "    n_samples, n_features = X.shape\n",
    "    assert y.ndim == 1 and len(y) == n_samples\n",
    "    \n",
    "    alpha = np.asarray(alpha, dtype=float).ravel()\n",
    "    assert np.all(alpha > 0)\n",
    "\n",
    "    N = n_samples\n",
    "    I = np.eye(n_features,n_features)\n",
    "    ones_vec = np.ones((n_samples, 1))\n",
    "    A = ones_vec@ones_vec.T\n",
    "    \n",
    "    Z = X.T@X - (1/N)*X.T@A@X\n",
    "    U,S,V = np.linalg.svd(Z)\n",
    "    S = np.diag(S)\n",
    "    Z_reciprocal = np.reciprocal(S+alpha*I)\n",
    "    \n",
    "    \n",
    "    beta = U@Z_reciprocal@V@(X.T@y - (1/N)*X.T@A@y)\n",
    "    beta_0 = (1/N)*ones_vec.T@(y-X@beta)\n",
    "    \n",
    "    \n",
    "    return beta[0], beta_0[0]"
   ]
  },
  {
   "cell_type": "code",
   "execution_count": 66,
   "metadata": {},
   "outputs": [
    {
     "data": {
      "image/png": "[encoded data removed]",
      "text/plain": [
       "<matplotlib.figure.Figure at 0x7f0f4ebe3b00>"
      ]
     },
     "metadata": {},
     "output_type": "display_data"
    }
   ],
   "source": [
    "x = np.arange(0,20, dtype=np.float32).reshape(20, 1) #create data\n",
    "x.dtype\n",
    "y = np.apply_along_axis(lambda x: 2*x+3, 0,x.copy()).ravel()\n",
    "y+=np.random.normal(scale = 5.,size = y.shape)\n",
    "\n",
    "plt.scatter(x.ravel(),y.ravel());"
   ]
  },
  {
   "cell_type": "code",
   "execution_count": 67,
   "metadata": {
    "collapsed": true
   },
   "outputs": [],
   "source": [
    "alphas = np.array([1.0,2.0,5.0])"
   ]
  },
  {
   "cell_type": "code",
   "execution_count": 70,
   "metadata": {
    "collapsed": true
   },
   "outputs": [],
   "source": [
    "beta, beta_0 = ridge_path(x,y,1.)"
   ]
  },
  {
   "cell_type": "code",
   "execution_count": 71,
   "metadata": {
    "collapsed": true
   },
   "outputs": [],
   "source": [
    "x_ridge = np.array([0,19])\n",
    "y_ridge = np.apply_along_axis(lambda x: beta_0 + beta*x,0,arr=x_ridge.copy())"
   ]
  },
  {
   "cell_type": "code",
   "execution_count": 72,
   "metadata": {},
   "outputs": [
    {
     "data": {
      "image/png": "[encoded data removed]",
      "text/plain": [
       "<matplotlib.figure.Figure at 0x7f0f4eb1d940>"
      ]
     },
     "metadata": {},
     "output_type": "display_data"
    }
   ],
   "source": [
    "x = np.arange(0,20, dtype=np.float32).reshape(20, 1) #create data\n",
    "x.dtype\n",
    "y = np.apply_along_axis(lambda x: 2*x+3, 0,x.copy()).ravel()\n",
    "y+=np.random.normal(scale = 5.,size = y.shape)\n",
    "\n",
    "plt.scatter(x.ravel(),y.ravel());\n",
    "plt.plot(x_ridge, y_ridge, color ='r', label = 'Ridge')\n",
    "plt.legend();"
   ]
  },
  {
   "cell_type": "markdown",
   "metadata": {},
   "source": [
    "###### Unfortunately, I didn't understand how to use einstein notation, so I tried to vectorized all operations to avoid the usage of loops"
   ]
  },
  {
   "cell_type": "code",
   "execution_count": 73,
   "metadata": {
    "collapsed": true
   },
   "outputs": [],
   "source": [
    "def ridge_path(X, y, alpha=(1.0,)):\n",
    "    \"\"\"Find the Ridge regression solution for the given dataset (X, y).\n",
    "    \n",
    "    Parameters\n",
    "    ----------\n",
    "    X : array, 2 dimensional, shape = (n_samples, n_features)\n",
    "        The input feature matrix.\n",
    "\n",
    "    y : array, 1 dimensional, shape = (n_samples,)\n",
    "        The target values for the regression task.\n",
    "\n",
    "    alpha : arraylike, 1 dimensional, shape = (n_coefficients,)\n",
    "        The value of the ridge regularization coefficient.\n",
    "    \n",
    "    Returns\n",
    "    -------\n",
    "    intercept : array, 1 dimensional, shape = (n_coefficients,)\n",
    "        The optimal intercept term for each value in `C`.\n",
    "    beta : array, shape = (n_features, n_coefficients)\n",
    "        The optimal ridge regression coefficients for each value in `C`.\n",
    "    \"\"\"\n",
    "    assert X.ndim == 2\n",
    "\n",
    "    n_samples, n_features = X.shape\n",
    "    assert y.ndim == 1 and len(y) == n_samples\n",
    "    \n",
    "    alpha = np.asarray(alpha, dtype=float).ravel()\n",
    "    assert np.all(alpha > 0)\n",
    "\n",
    "    N = n_samples\n",
    "    I = np.eye(n_features,n_features)\n",
    "    ones_vec = np.ones((n_samples, 1))\n",
    "    A = ones_vec@ones_vec.T\n",
    "    \n",
    "    Z = X.T@X - (1/N)*X.T@A@X\n",
    "    U,S,V = np.linalg.svd(Z)\n",
    "    S = np.diag(S)\n",
    "    \n",
    "    def get_beta(C):\n",
    "        Z_reciprocal = np.reciprocal(S+C*I)\n",
    "        beta = U@Z_reciprocal@V@(X.T@y - (1/N)*X.T@A@y)\n",
    "        return beta[0]\n",
    "    \n",
    "    get_multiple_beta = np.vectorize(lambda x: get_beta(x))\n",
    "    beta = get_multiple_beta(alpha)\n",
    "    \n",
    "    def get_beta_0(b):\n",
    "        beta_0 = (1/N)*ones_vec.T@(y-X@b)\n",
    "        return beta_0[0]\n",
    "    \n",
    "    get_multiple_beta_0 = np.vectorize(lambda x: get_beta_0(x))\n",
    "    beta_0 = get_multiple_beta_0(np.copy(beta))\n",
    "    \n",
    "    #beta_0 = (1/N)*ones_vec.T@(y-X@beta)\n",
    "    \n",
    "    \n",
    "    return beta, beta_0"
   ]
  },
  {
   "cell_type": "code",
   "execution_count": 74,
   "metadata": {},
   "outputs": [
    {
     "data": {
      "image/png": "[encoded data removed]",
      "text/plain": [
       "<matplotlib.figure.Figure at 0x7f0f4e8a5e10>"
      ]
     },
     "metadata": {},
     "output_type": "display_data"
    }
   ],
   "source": [
    "x = np.arange(0,20, dtype=np.float32).reshape(20, 1) #create data\n",
    "x.dtype\n",
    "y = np.apply_along_axis(lambda x: 2*x+3, 0,x.copy()).ravel()\n",
    "y+=np.random.normal(scale = 5.,size = y.shape)\n",
    "\n",
    "plt.scatter(x.ravel(),y.ravel());"
   ]
  },
  {
   "cell_type": "code",
   "execution_count": null,
   "metadata": {
    "collapsed": true
   },
   "outputs": [],
   "source": [
    "alphas = np.array([1.0,2.0,5.0])\n",
    "ridge_path(x,y,alphas)"
   ]
  }
 ],
 "metadata": {
  "kernelspec": {
   "display_name": "Python 3",
   "language": "python",
   "name": "python3"
  },
  "language_info": {
   "codemirror_mode": {
    "name": "ipython",
    "version": 3
   },
   "file_extension": ".py",
   "mimetype": "text/x-python",
   "name": "python",
   "nbconvert_exporter": "python",
   "pygments_lexer": "ipython3",
   "version": "3.6.3"
  }
 },
 "nbformat": 4,
 "nbformat_minor": 2
}
