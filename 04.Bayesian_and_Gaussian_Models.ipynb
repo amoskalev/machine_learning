{
 "cells": [
  {
   "cell_type": "markdown",
   "metadata": {},
   "source": [
    "# Artem Moskalev. Home Assignment 4"
   ]
  },
  {
   "cell_type": "markdown",
   "metadata": {},
   "source": [
    "Please, write your implementation within the designated blocks:\n",
    "```python\n",
    "...\n",
    "### BEGIN Solution\n",
    "\n",
    "# >>> your solution here <<<\n",
    "\n",
    "### END Solution\n",
    "...\n",
    "```\n",
    "\n",
    "Write your theoretical derivations within such blocks:\n",
    "```markdown\n",
    "**BEGIN Solution**\n",
    "\n",
    "<!-- >>> your derivation here <<< -->\n",
    "\n",
    "**END Solution**\n",
    "```"
   ]
  },
  {
   "cell_type": "markdown",
   "metadata": {},
   "source": [
    "## $\\LaTeX$ in Jupyter\n",
    "Jupyter has constantly improving $\\LaTeX$ support. Below are the basic methods to\n",
    "write **neat, tidy, and well typeset** equations in your notebooks:\n",
    "* to write an **inline** equation use \n",
    "```markdown\n",
    "$ you latex equation here $\n",
    "```\n",
    "* to write an equation, that is **displayed on a separate line** use \n",
    "```markdown\n",
    "$$ you latex equation here $$\n",
    "```\n",
    "* to write a **block of equations** use \n",
    "```markdown\n",
    "\\begin{align}\n",
    "    left-hand-side\n",
    "        &= right-hand-side on line 1\n",
    "        \\\\\n",
    "        &= right-hand-side on line 2\n",
    "        \\\\\n",
    "        &= right-hand-side on the last line\n",
    "\\end{align}\n",
    "```\n",
    "The **ampersand** (`&`) aligns the equations horizontally and the **double backslash**\n",
    "(`\\\\`) creates a new line."
   ]
  },
  {
   "cell_type": "markdown",
   "metadata": {},
   "source": [
    "<br/> <!--Intentionally left blank-->"
   ]
  },
  {
   "cell_type": "markdown",
   "metadata": {},
   "source": [
    "# GLM Bayesian Models"
   ]
  },
  {
   "cell_type": "code",
   "execution_count": 1,
   "metadata": {
    "collapsed": true
   },
   "outputs": [],
   "source": [
    "import numpy as np\n",
    "import pandas as pd\n",
    "\n",
    "import torch\n",
    "\n",
    "%matplotlib inline\n",
    "import matplotlib.pyplot as plt"
   ]
  },
  {
   "cell_type": "markdown",
   "metadata": {},
   "source": [
    "## Task 1: Theoretical problem\n",
    "\n",
    "Consider a univariate Gaussian distribution $\\mathcal{N}(x; \\mu, \\tau^{-1})$.\n",
    "Let's define Gaussian-Gamma prior for parameters $(\\mu, \\tau)$:\n",
    "\n",
    "\\begin{equation}\n",
    "    p(\\mu, \\tau)\n",
    "        = \\mathcal{N}(\\mu; \\mu_0, (\\beta \\tau)^{-1})\n",
    "            \\otimes \\text{Gamma}(\\tau; a, b)\n",
    "        \\,.\n",
    "\\end{equation}\n",
    "\n",
    "Find the posterior distribution of $(\\mu, \\tau)$ after observing $X = (x_1, \\dots, x_n)$."
   ]
  },
  {
   "cell_type": "markdown",
   "metadata": {},
   "source": [
    "**BEGIN Solution**\n",
    "\n",
    "$Gamma(\\tau;a,b) = \\frac 1 {Г(a)b}\\tau^{(a-1)}e^{- \\frac \\tau b}$\n",
    "\n",
    "$\\mathcal{N}(\\mu; \\mu_0, (\\beta\\tau)^{-1}) = \\frac 1 {(\\beta \\tau)^{-1}\\sqrt{2\\pi}} e^{\\frac {(\\mu - \\mu_0)^2} {2(\\beta \\tau)^{-2}}}$\n",
    "<br><br><br>\n",
    "\n",
    "$\n",
    "p(\\mu, \\tau |X) \\propto p(X|\\mu,\\tau)p(\\mu, \\tau) = \\frac {\\tau^{n+1}} {(\\sqrt{2\\pi})^n+1} \n",
    "\\prod_{i=1}^n e^{- \\frac {(x_i-\\mu)^2\\tau^2} {2}} \\frac 1 {(\\beta \\tau)^{-1}\\sqrt{2\\pi}} e^{\\frac {(\\mu - \\mu_0)^2} {2(\\beta \\tau)^{-2}}} \\frac 1 {Г(a)b}\\tau^{(a-1)}e^{- \\frac \\tau b} =\n",
    "$\n",
    "\n",
    "$\n",
    "\\frac {\\beta \\tau^{a+n}} {(\\sqrt{2\\pi})^n+1} exp[- \\frac {\\tau^2} 2 \\sum_{i=1}^n (x_i - \\mu)^2 - \\frac {(\\mu-\\mu_0)^2} {\\beta \\tau^2} - \\tau \\beta^{-1}] \\frac 1 {Г(a)b}\\tau^{(a-1)}e^{- \\frac \\tau b}\n",
    "$\n",
    "\n",
    "\n",
    "Our posterior appeared to be Gaussian-Gamma as well, which seems to be reasonable\n",
    "\n",
    "\n",
    "**END Solution**"
   ]
  },
  {
   "cell_type": "markdown",
   "metadata": {},
   "source": [
    "<br/> <!--Intentionally left blank-->"
   ]
  },
  {
   "cell_type": "markdown",
   "metadata": {
    "collapsed": true
   },
   "source": [
    "## Task 2: Practical problem\n",
    "\n",
    "Evaluate the following integral using the Laplace approximation:\n",
    "\\begin{equation}\n",
    "    x \\mapsto \\int \\sigma(w^T x) \\mathcal{N}(w; 0, \\Sigma) dw \\,,\n",
    "\\end{equation}\n",
    "for $x = \\bigl(\\tfrac23, \\tfrac16, \\tfrac16\\bigr)\\in \\mathbb{R}^3$ and \n",
    "\\begin{equation}\n",
    "    \\Sigma\n",
    "        = \\begin{pmatrix}\n",
    "             1    & -0.25 & 0.75 \\\\\n",
    "            -0.25 &  1    & 0.5  \\\\\n",
    "             0.75 &  0.5  & 2\n",
    "           \\end{pmatrix}\n",
    "        \\,.\n",
    "\\end{equation}"
   ]
  },
  {
   "cell_type": "markdown",
   "metadata": {
    "collapsed": true
   },
   "source": [
    "### Part 2.1\n",
    "Use the Hessian matrix computed numericaly via finite differences. (Check out [Numdifftools](https://pypi.python.org/pypi/Numdifftools))"
   ]
  },
  {
   "cell_type": "code",
   "execution_count": 2,
   "metadata": {
    "collapsed": true
   },
   "outputs": [],
   "source": [
    "import numdifftools as ndt\n",
    "import scipy.stats as stats\n",
    "import scipy.optimize as opt\n",
    "from torch.autograd import Variable"
   ]
  },
  {
   "cell_type": "code",
   "execution_count": 3,
   "metadata": {
    "collapsed": true
   },
   "outputs": [],
   "source": [
    "### BEGIN Solution\n",
    "\n",
    "S = np.array([[1.,-.25,.75], [-.25,1.,.5], [.75,.5,2.]])\n",
    "x_init = np.array([2/3, 1/6, 1/6])\n",
    "\n",
    "def F(x, x_init, cov):\n",
    "    denom = np.exp(-1.*x@x_init)+1.\n",
    "    nrm = stats.multivariate_normal.pdf(x, cov=cov)\n",
    "    return nrm/denom\n",
    "\n",
    "def logF(x):\n",
    "    return -1*np.log(F(x, x_init, S))"
   ]
  },
  {
   "cell_type": "code",
   "execution_count": 4,
   "metadata": {
    "collapsed": true
   },
   "outputs": [],
   "source": [
    "optW = opt.minimize(logF,np.zeros(3)).x\n",
    "\n",
    "deter = np.linalg.det(ndt.Hessian(logF)(optW))\n",
    "int_val = F(optW,x_init,S)*np.sqrt(np.power(np.pi*2,3)/deter)"
   ]
  },
  {
   "cell_type": "code",
   "execution_count": 5,
   "metadata": {},
   "outputs": [
    {
     "name": "stdout",
     "output_type": "stream",
     "text": [
      "Integral value: 0.497919722304\n"
     ]
    }
   ],
   "source": [
    "print('Integral value:', int_val)"
   ]
  },
  {
   "cell_type": "markdown",
   "metadata": {},
   "source": [
    "<br/> <!--Intentionally left blank-->"
   ]
  },
  {
   "cell_type": "markdown",
   "metadata": {
    "collapsed": true
   },
   "source": [
    "### Part 2.2\n",
    "Use the diagonal approximation of the Hessian computed by autodifferentiation\n",
    "in **pytorch**."
   ]
  },
  {
   "cell_type": "code",
   "execution_count": 6,
   "metadata": {
    "collapsed": true
   },
   "outputs": [],
   "source": [
    "def torchLog(x):\n",
    "    x_var, sigma_var = Variable(torch.FloatTensor(x_init)), Variable(torch.FloatTensor(np.linalg.inv(S)))\n",
    "    det_S = np.sqrt(np.linalg.det(S))\n",
    "    \n",
    "    exp_n = torch.exp(-.5*x@sigma_var@x)*(np.power(np.power(np.sqrt(np.pi*2),3),-1) / det_S)\n",
    "    \n",
    "    return torch.log(torch.mul(torch.sigmoid(torch.dot(x,x_var)),exp_n))"
   ]
  },
  {
   "cell_type": "code",
   "execution_count": 7,
   "metadata": {
    "collapsed": true
   },
   "outputs": [],
   "source": [
    "def HessianTorch(x, sol):\n",
    "    gr_param, out = torch.autograd.grad(sol, x, create_graph=True)[0], torch.zeros((3,3))\n",
    "    for i in range(3):\n",
    "        out[i] = torch.autograd.grad(gr_param[i],x,create_graph=True)[0].data\n",
    "    return out.numpy().T"
   ]
  },
  {
   "cell_type": "code",
   "execution_count": 8,
   "metadata": {
    "collapsed": true
   },
   "outputs": [],
   "source": [
    "optW_var = Variable(torch.FloatTensor(optW), requires_grad=True)\n",
    "deter = np.absolute(np.linalg.det(HessianTorch(optW_var, torchLog(optW_var))))\n",
    "int_val_torch = F(optW,x_init,S)*np.sqrt(np.power(np.pi*2,3)/deter)"
   ]
  },
  {
   "cell_type": "code",
   "execution_count": 9,
   "metadata": {},
   "outputs": [
    {
     "name": "stdout",
     "output_type": "stream",
     "text": [
      "Integral Val. with PyTorch: 0.497919811884\n"
     ]
    }
   ],
   "source": [
    "print('Integral Val. with PyTorch:', int_val_torch)"
   ]
  },
  {
   "cell_type": "markdown",
   "metadata": {},
   "source": [
    "<br/> <!--Intentionally left blank-->"
   ]
  },
  {
   "cell_type": "markdown",
   "metadata": {
    "collapsed": true
   },
   "source": [
    "### Part 2.3\n",
    "\n",
    "Compare the results"
   ]
  },
  {
   "cell_type": "markdown",
   "metadata": {},
   "source": [
    "It's hard to compare results directly with each other, we need one more element in one comparison to see are our results are adequate at all. For this purpose, we can, for example, try to use monte carlo estimation:"
   ]
  },
  {
   "cell_type": "code",
   "execution_count": 28,
   "metadata": {
    "collapsed": true
   },
   "outputs": [],
   "source": [
    "def intMC(N):\n",
    "    return np.mean(1./(np.exp(-stats.multivariate_normal.rvs(np.zeros(3), S, size=N)@x_init)+1))"
   ]
  },
  {
   "cell_type": "code",
   "execution_count": 48,
   "metadata": {},
   "outputs": [
    {
     "name": "stdout",
     "output_type": "stream",
     "text": [
      "numdifftools: 0.497919722304\n",
      "Monte Carlo: 0.50022013895\n",
      "PyTorch: 0.497919811884\n"
     ]
    }
   ],
   "source": [
    "print('numdifftools:', int_val)\n",
    "print('Monte Carlo:', intMC(1000000))\n",
    "print('PyTorch:', int_val_torch)"
   ]
  },
  {
   "cell_type": "code",
   "execution_count": 49,
   "metadata": {},
   "outputs": [
    {
     "name": "stdout",
     "output_type": "stream",
     "text": [
      "0.00211325199733\n",
      "0.00202320997674\n"
     ]
    }
   ],
   "source": [
    "print(intMC(1000000) - int_val_torch)\n",
    "print(intMC(1000000) - int_val)"
   ]
  },
  {
   "cell_type": "markdown",
   "metadata": {},
   "source": [
    "<br/> <!--Intentionally left blank-->"
   ]
  },
  {
   "cell_type": "markdown",
   "metadata": {},
   "source": [
    "## Task 3: Gaussian Process (theoretical)"
   ]
  },
  {
   "cell_type": "markdown",
   "metadata": {},
   "source": [
    "### Part 3.1\n",
    "\n",
    "Assuimng the matrices $A \\in \\mathbb{R}^{n \\times n}$ and $D \\in \\mathbb{R}^{d \\times d}$\n",
    "are invertable, using **gaussian elimination** find the inverse matrix for the following\n",
    "block matrix:\n",
    "\\begin{equation}\n",
    "    \\begin{pmatrix} A & B \\\\ C & D \\end{pmatrix} \\,,\n",
    "\\end{equation}\n",
    "where $C \\in \\mathbb{R}^{d \\times n}$ and $B \\in \\mathbb{R}^{n \\times d}$."
   ]
  },
  {
   "cell_type": "markdown",
   "metadata": {},
   "source": [
    "**BEGIN Solution**\n",
    "\n",
    "$\n",
    "\\begin{pmatrix} \n",
    "A & B & I & 0\\\\ \n",
    "C & D & 0 & I\n",
    "\\end{pmatrix} \\rightarrow [row2-CA^{-1}*row1] \\rightarrow \n",
    "\\begin{pmatrix} \n",
    "A & B          & I & 0\\\\ \n",
    "0 & D-CA^{-1}B & -CA^{-1} & I\n",
    "\\end{pmatrix} \\rightarrow [row1-B(D-CA^{-1}B)^{-1}*row2] \\rightarrow \n",
    "$\n",
    "<br><br><br>\n",
    "$\n",
    "\\begin{pmatrix} \n",
    "A & 0          & I+B(D-CA^{-1}B)^{-1}CA^{-1} & -B(D-CA^{-1}B)^{-1}\\\\ \n",
    "0 & D-CA^{-1}B & -CA^{-1}                    & I\n",
    "\\end{pmatrix} \\rightarrow [row1*A^{-1}; row2*(D-CA^{-1}B)^{-1}] \\rightarrow \n",
    "$ \n",
    "<br><br><br>\n",
    "$\n",
    "\\begin{pmatrix} \n",
    "I & 0 & A^{-1}+A^{-1}B(D-CA^{-1}B)^{-1}CA^{-1} & -A^{-1}B(D-CA^{-1}B)^{-1}\\\\ \n",
    "0 & I & -(D-CA^{-1}B)^{-1}CA^{-1}              & (D-CA^{-1}B)^{-1}\n",
    "\\end{pmatrix} \\Rightarrow \n",
    "$ \n",
    "<br><br><br>\n",
    "$\n",
    "\\begin{pmatrix} \n",
    "A^{-1}+A^{-1}B(D-CA^{-1}B)^{-1}CA^{-1} & -A^{-1}B(D-CA^{-1}B)^{-1}\\\\ \n",
    "-(D-CA^{-1}B)^{-1}CA^{-1}              & (D-CA^{-1}B)^{-1}\n",
    "\\end{pmatrix}\n",
    "$ is the inverse matrix we are looking for. However, to claim that this inverse exists it's not sufficient to say that just A and D are invertible, we have to be sure that $D-CA^{-1}B$ is also invertible and, unfortunately, there is no way that invertible A and D guarantees that (there exist such 2x2 matricies that both A and D are invertible, but whole matrix is singular).\n",
    "\n",
    "**END Solution**"
   ]
  },
  {
   "cell_type": "markdown",
   "metadata": {},
   "source": [
    "<br/> <!--Intentionally left blank-->"
   ]
  },
  {
   "cell_type": "markdown",
   "metadata": {},
   "source": [
    "## Task 4: Gaussian Process (practical)"
   ]
  },
  {
   "cell_type": "markdown",
   "metadata": {},
   "source": [
    "> In the late 1950’s Charles Keeling invented an accurate way to measure atmospheric $CO_2$ concentration and began taking regular measurements at the Mauna Loa observatory.\n",
    "\n",
    "Download the data from http://scrippsco2.ucsd.edu/data/atmospheric_co2/mlo"
   ]
  },
  {
   "cell_type": "markdown",
   "metadata": {},
   "source": [
    "### Part 4.1: Preprocessing\n",
    "\n",
    "Take `monthly_in_situ_co2_mlo.csv` dataset, load it and prepare the data.\n",
    "\n",
    "**ATTENTION** The first couple of lines of the file contain the description of\n",
    "the dataset. Make sure to **read it** carefully."
   ]
  },
  {
   "cell_type": "markdown",
   "metadata": {},
   "source": [
    "Here is what the dataset might look like when loaded:\n",
    "<table border=\"1\" class=\"dataframe\">\n",
    "  <thead>\n",
    "    <tr>\n",
    "      <th></th>\n",
    "      <th>Yr</th>\n",
    "      <th>Mn</th>\n",
    "      <th>Date</th>\n",
    "      <th>Date</th>\n",
    "      <th>CO2</th>\n",
    "      <th>seasonally</th>\n",
    "      <th>fit</th>\n",
    "      <th>seasonally</th>\n",
    "      <th>CO2</th>\n",
    "      <th>seasonally</th>\n",
    "    </tr>\n",
    "    <tr>\n",
    "      <th></th>\n",
    "      <th></th>\n",
    "      <th></th>\n",
    "      <th></th>\n",
    "      <th></th>\n",
    "      <th></th>\n",
    "      <th>adjusted</th>\n",
    "      <th></th>\n",
    "      <th>adjusted fit</th>\n",
    "      <th>filled</th>\n",
    "      <th>adjusted filled</th>\n",
    "    </tr>\n",
    "    <tr>\n",
    "      <th></th>\n",
    "      <th></th>\n",
    "      <th></th>\n",
    "      <th>Excel</th>\n",
    "      <th></th>\n",
    "      <th>[ppm]</th>\n",
    "      <th>[ppm]</th>\n",
    "      <th>[ppm]</th>\n",
    "      <th>[ppm]</th>\n",
    "      <th>[ppm]</th>\n",
    "      <th>[ppm]</th>\n",
    "    </tr>\n",
    "  </thead>\n",
    "  <tbody>\n",
    "    <tr>\n",
    "      <th>45</th>\n",
    "      <td>1961</td>\n",
    "      <td>10</td>\n",
    "      <td>22569</td>\n",
    "      <td>1961.7890</td>\n",
    "      <td>315.31</td>\n",
    "      <td>318.31</td>\n",
    "      <td>314.93</td>\n",
    "      <td>317.92</td>\n",
    "      <td>315.31</td>\n",
    "      <td>318.31</td>\n",
    "    </tr>\n",
    "    <tr>\n",
    "      <th>142</th>\n",
    "      <td>1969</td>\n",
    "      <td>11</td>\n",
    "      <td>25522</td>\n",
    "      <td>1969.8740</td>\n",
    "      <td>322.85</td>\n",
    "      <td>324.80</td>\n",
    "      <td>323.15</td>\n",
    "      <td>325.08</td>\n",
    "      <td>322.85</td>\n",
    "      <td>324.80</td>\n",
    "    </tr>\n",
    "    <tr>\n",
    "      <th>168</th>\n",
    "      <td>1972</td>\n",
    "      <td>1</td>\n",
    "      <td>26313</td>\n",
    "      <td>1972.0410</td>\n",
    "      <td>326.77</td>\n",
    "      <td>326.74</td>\n",
    "      <td>326.82</td>\n",
    "      <td>326.78</td>\n",
    "      <td>326.77</td>\n",
    "      <td>326.74</td>\n",
    "    </tr>\n",
    "    <tr>\n",
    "      <th>179</th>\n",
    "      <td>1972</td>\n",
    "      <td>12</td>\n",
    "      <td>26648</td>\n",
    "      <td>1972.9563</td>\n",
    "      <td>327.55</td>\n",
    "      <td>328.36</td>\n",
    "      <td>327.71</td>\n",
    "      <td>328.51</td>\n",
    "      <td>327.55</td>\n",
    "      <td>328.36</td>\n",
    "    </tr>\n",
    "    <tr>\n",
    "      <th>249</th>\n",
    "      <td>1978</td>\n",
    "      <td>10</td>\n",
    "      <td>28778</td>\n",
    "      <td>1978.7890</td>\n",
    "      <td>332.55</td>\n",
    "      <td>335.74</td>\n",
    "      <td>332.71</td>\n",
    "      <td>335.89</td>\n",
    "      <td>332.55</td>\n",
    "      <td>335.74</td>\n",
    "    </tr>\n",
    "  </tbody>\n",
    "</table>"
   ]
  },
  {
   "cell_type": "markdown",
   "metadata": {},
   "source": [
    "Your task:\n",
    "0. Load the `CO2 [ppm]` time series\n",
    "1. Replace $-99.99$ with **NaN** and drop the missing observations\n",
    "2. Construct a *decimal years time index*: **January** of the year of the first observation must correspond to $0.0$\n",
    "3. Split the time series into train and test\n",
    "4. Normalize the target value by fitting a transformation on the train\n",
    "5. Plot the resulting target against the time index"
   ]
  },
  {
   "cell_type": "code",
   "execution_count": 50,
   "metadata": {
    "collapsed": true
   },
   "outputs": [],
   "source": [
    "### BEGIN Solution\n",
    "import pandas as pd\n",
    "from sklearn.model_selection import train_test_split\n",
    "from sklearn.preprocessing import StandardScaler\n",
    "import matplotlib.pyplot as plt\n",
    "%matplotlib inline\n",
    "\n",
    "data = pd.read_csv('http://scrippsco2.ucsd.edu/assets/data/atmospheric/stations/in_situ_co2/monthly/monthly_in_situ_co2_mlo.csv', \n",
    "                   comment='\"', na_values=-99.99, skiprows=[54,55,56], names=['Yr','Mn','Date','Date','CO2',\n",
    "                                                                              'seasonally','fit','seasonally',\n",
    "                                                                              'CO2','seasonally'])\n",
    "data.dropna(inplace=True)"
   ]
  },
  {
   "cell_type": "code",
   "execution_count": 51,
   "metadata": {
    "collapsed": true
   },
   "outputs": [],
   "source": [
    "data['decimal'] = data.Yr + (data.Mn-1)/12 - data.Yr.min()\n",
    "data.set_index('decimal', inplace=True)"
   ]
  },
  {
   "cell_type": "code",
   "execution_count": 52,
   "metadata": {},
   "outputs": [
    {
     "data": {
      "text/html": [
       "<div>\n",
       "<style>\n",
       "    .dataframe thead tr:only-child th {\n",
       "        text-align: right;\n",
       "    }\n",
       "\n",
       "    .dataframe thead th {\n",
       "        text-align: left;\n",
       "    }\n",
       "\n",
       "    .dataframe tbody tr th {\n",
       "        vertical-align: top;\n",
       "    }\n",
       "</style>\n",
       "<table border=\"1\" class=\"dataframe\">\n",
       "  <thead>\n",
       "    <tr style=\"text-align: right;\">\n",
       "      <th></th>\n",
       "      <th>Yr</th>\n",
       "      <th>Mn</th>\n",
       "      <th>Date</th>\n",
       "      <th>Date.1</th>\n",
       "      <th>CO2</th>\n",
       "      <th>seasonally</th>\n",
       "      <th>fit</th>\n",
       "      <th>seasonally.1</th>\n",
       "      <th>CO2.1</th>\n",
       "      <th>seasonally.2</th>\n",
       "    </tr>\n",
       "    <tr>\n",
       "      <th>decimal</th>\n",
       "      <th></th>\n",
       "      <th></th>\n",
       "      <th></th>\n",
       "      <th></th>\n",
       "      <th></th>\n",
       "      <th></th>\n",
       "      <th></th>\n",
       "      <th></th>\n",
       "      <th></th>\n",
       "      <th></th>\n",
       "    </tr>\n",
       "  </thead>\n",
       "  <tbody>\n",
       "    <tr>\n",
       "      <th>0.166667</th>\n",
       "      <td>1958</td>\n",
       "      <td>3</td>\n",
       "      <td>21259</td>\n",
       "      <td>1958.2027</td>\n",
       "      <td>315.70</td>\n",
       "      <td>314.43</td>\n",
       "      <td>316.18</td>\n",
       "      <td>314.90</td>\n",
       "      <td>315.70</td>\n",
       "      <td>314.43</td>\n",
       "    </tr>\n",
       "    <tr>\n",
       "      <th>0.250000</th>\n",
       "      <td>1958</td>\n",
       "      <td>4</td>\n",
       "      <td>21290</td>\n",
       "      <td>1958.2877</td>\n",
       "      <td>317.46</td>\n",
       "      <td>315.15</td>\n",
       "      <td>317.30</td>\n",
       "      <td>314.98</td>\n",
       "      <td>317.46</td>\n",
       "      <td>315.15</td>\n",
       "    </tr>\n",
       "    <tr>\n",
       "      <th>0.333333</th>\n",
       "      <td>1958</td>\n",
       "      <td>5</td>\n",
       "      <td>21320</td>\n",
       "      <td>1958.3699</td>\n",
       "      <td>317.51</td>\n",
       "      <td>314.73</td>\n",
       "      <td>317.84</td>\n",
       "      <td>315.06</td>\n",
       "      <td>317.51</td>\n",
       "      <td>314.73</td>\n",
       "    </tr>\n",
       "    <tr>\n",
       "      <th>0.500000</th>\n",
       "      <td>1958</td>\n",
       "      <td>7</td>\n",
       "      <td>21381</td>\n",
       "      <td>1958.5370</td>\n",
       "      <td>315.86</td>\n",
       "      <td>315.18</td>\n",
       "      <td>315.87</td>\n",
       "      <td>315.22</td>\n",
       "      <td>315.86</td>\n",
       "      <td>315.18</td>\n",
       "    </tr>\n",
       "    <tr>\n",
       "      <th>0.583333</th>\n",
       "      <td>1958</td>\n",
       "      <td>8</td>\n",
       "      <td>21412</td>\n",
       "      <td>1958.6219</td>\n",
       "      <td>314.93</td>\n",
       "      <td>316.17</td>\n",
       "      <td>314.01</td>\n",
       "      <td>315.29</td>\n",
       "      <td>314.93</td>\n",
       "      <td>316.17</td>\n",
       "    </tr>\n",
       "  </tbody>\n",
       "</table>\n",
       "</div>"
      ],
      "text/plain": [
       "            Yr  Mn   Date     Date.1     CO2  seasonally     fit  \\\n",
       "decimal                                                            \n",
       "0.166667  1958   3  21259  1958.2027  315.70      314.43  316.18   \n",
       "0.250000  1958   4  21290  1958.2877  317.46      315.15  317.30   \n",
       "0.333333  1958   5  21320  1958.3699  317.51      314.73  317.84   \n",
       "0.500000  1958   7  21381  1958.5370  315.86      315.18  315.87   \n",
       "0.583333  1958   8  21412  1958.6219  314.93      316.17  314.01   \n",
       "\n",
       "          seasonally.1   CO2.1  seasonally.2  \n",
       "decimal                                       \n",
       "0.166667        314.90  315.70        314.43  \n",
       "0.250000        314.98  317.46        315.15  \n",
       "0.333333        315.06  317.51        314.73  \n",
       "0.500000        315.22  315.86        315.18  \n",
       "0.583333        315.29  314.93        316.17  "
      ]
     },
     "execution_count": 52,
     "metadata": {},
     "output_type": "execute_result"
    }
   ],
   "source": [
    "data.head()"
   ]
  },
  {
   "cell_type": "code",
   "execution_count": 53,
   "metadata": {
    "collapsed": true
   },
   "outputs": [],
   "source": [
    "co2 = data.CO2\n",
    "idx = np.array(co2.index.tolist())\n",
    "co2_series = co2.values"
   ]
  },
  {
   "cell_type": "code",
   "execution_count": 54,
   "metadata": {
    "collapsed": true
   },
   "outputs": [],
   "source": [
    "X_train, X_test, y_train, y_test = train_test_split(idx, co2_series, test_size=0.2, random_state=1011, shuffle=False)"
   ]
  },
  {
   "cell_type": "code",
   "execution_count": 55,
   "metadata": {
    "collapsed": true
   },
   "outputs": [],
   "source": [
    "scaler = StandardScaler()\n",
    "y_train = scaler.fit_transform(y_train.reshape(-1,1)).ravel()\n",
    "y_test = scaler.transform(y_test.reshape(-1,1)).ravel()"
   ]
  },
  {
   "cell_type": "code",
   "execution_count": 56,
   "metadata": {},
   "outputs": [
    {
     "data": {
      "image/png": "[encoded data removed]",
      "text/plain": [
       "<matplotlib.figure.Figure at 0x7fef1ee94b38>"
      ]
     },
     "metadata": {},
     "output_type": "display_data"
    }
   ],
   "source": [
    "plt.plot(X_train, y_train, label='train')\n",
    "plt.plot(X_test, y_test, label='test')\n",
    "plt.legend()\n",
    "plt.xlabel('Time')\n",
    "plt.ylabel('CO2')\n",
    "plt.title('CO2 / Time');"
   ]
  },
  {
   "cell_type": "markdown",
   "metadata": {},
   "source": [
    "<br/> <!--Intentionally left blank-->"
   ]
  },
  {
   "cell_type": "markdown",
   "metadata": {},
   "source": [
    "### Part 4.2\n",
    "\n",
    "Use [**GPy**](https://pypi.python.org/pypi/GPy) library for training and prediction.\n",
    "Make sure you've read the documentation!. Consult with the seminar if necessary."
   ]
  },
  {
   "cell_type": "markdown",
   "metadata": {},
   "source": [
    "Your general task is:\n",
    "* to fit a GP and run the predict on the test:\n",
    "    * useful kernels to combine: `GPy.kern.RBF`, `GPy.kern.Poly`, `GPy.kern.StdPeriodic`, `GPy.kern.White`\n",
    "* to plot residuals. Inspect them on normality by QQ-plot, try to make them as \"normal\" as possible\n",
    "* to provide a point-estimate of $R^2$ score on the test part"
   ]
  },
  {
   "cell_type": "code",
   "execution_count": 57,
   "metadata": {
    "collapsed": true
   },
   "outputs": [],
   "source": [
    "import GPy\n",
    "from sklearn.metrics import r2_score\n",
    "from scipy.stats import probplot\n",
    "#m = GPy.models.GPRegression(X, Y)\n",
    "\n",
    "rbf, poly, stdp, white = GPy.kern.RBF(1), GPy.kern.Poly(1), GPy.kern.StdPeriodic(1), GPy.kern.White(1)"
   ]
  },
  {
   "cell_type": "code",
   "execution_count": 58,
   "metadata": {
    "collapsed": true
   },
   "outputs": [],
   "source": [
    "GPmodel_rbf = GPy.models.GPRegression(X_train.reshape(-1,1), y_train.reshape(-1,1), kernel=rbf)\n",
    "GPmodel_poly = GPy.models.GPRegression(X_train.reshape(-1,1), y_train.reshape(-1,1), kernel=poly)\n",
    "GPmodel_stdp = GPy.models.GPRegression(X_train.reshape(-1,1), y_train.reshape(-1,1), kernel=stdp)\n",
    "GPmodel_white = GPy.models.GPRegression(X_train.reshape(-1,1), y_train.reshape(-1,1), kernel=white)\n",
    "\n",
    "GPmodel_rbf.optimize()\n",
    "GPmodel_poly.optimize()\n",
    "GPmodel_stdp.optimize()\n",
    "GPmodel_white.optimize()\n",
    "\n",
    "mean_rbf, var_rbf = GPmodel_rbf.predict(X_test.reshape(-1,1))\n",
    "mean_poly, var_poly = GPmodel_poly.predict(X_test.reshape(-1,1))\n",
    "mean_stdp, var_stdp = GPmodel_stdp.predict(X_test.reshape(-1,1))\n",
    "mean_white, var_white = GPmodel_white.predict(X_test.reshape(-1,1))"
   ]
  },
  {
   "cell_type": "code",
   "execution_count": 59,
   "metadata": {},
   "outputs": [
    {
     "data": {
      "image/png": "[encoded data removed]",
      "text/plain": [
       "<matplotlib.figure.Figure at 0x7fef1edbefd0>"
      ]
     },
     "metadata": {},
     "output_type": "display_data"
    }
   ],
   "source": [
    "resids_rbf = (y_test - mean_rbf.ravel())# / (var_rbf.ravel())**(.5)\n",
    "resids_poly = y_test - mean_poly.ravel()# / (var_poly.ravel())**(.5)\n",
    "resids_stdp = y_test - mean_stdp.ravel()# / (var_stdp.ravel())**(.5)\n",
    "resids_white = y_test - mean_white.ravel()# / (var_white.ravel())**(.5)\n",
    "\n",
    "plt.plot(X_test, resids_rbf, label='rbf')\n",
    "plt.plot(X_test, resids_poly, label='poly')\n",
    "plt.plot(X_test, resids_stdp,label='Std periodic')\n",
    "plt.plot(X_test, resids_white, label='white')\n",
    "plt.legend()\n",
    "plt.xlabel('Time')\n",
    "plt.ylabel('Residual')\n",
    "plt.title('Residuals of GPs with different kernels');"
   ]
  },
  {
   "cell_type": "markdown",
   "metadata": {},
   "source": [
    "We saw residuals (unnormalized) for different kernels. Let's now try to combine several kernels:"
   ]
  },
  {
   "cell_type": "code",
   "execution_count": 60,
   "metadata": {
    "collapsed": true
   },
   "outputs": [],
   "source": [
    "combined_kernel = rbf+poly+stdp+white"
   ]
  },
  {
   "cell_type": "code",
   "execution_count": 61,
   "metadata": {
    "collapsed": true
   },
   "outputs": [],
   "source": [
    "GPmodel_combined = GPy.models.GPRegression(X_train.reshape(-1,1), y_train.reshape(-1,1), kernel=combined_kernel)\n",
    "GPmodel_combined.optimize()\n",
    "\n",
    "mean_com, var_com = GPmodel_combined.predict(X_test.reshape(-1,1))"
   ]
  },
  {
   "cell_type": "code",
   "execution_count": 62,
   "metadata": {},
   "outputs": [
    {
     "data": {
      "image/png": "[encoded data removed]",
      "text/plain": [
       "<matplotlib.figure.Figure at 0x7fef1ecf07f0>"
      ]
     },
     "metadata": {},
     "output_type": "display_data"
    }
   ],
   "source": [
    "resids_com = y_test - mean_com.ravel()\n",
    "resids_com_normalized = resids_com / (var_com.ravel())**(.5) #normalized residual\n",
    "\n",
    "plt.plot(X_test, resids_com)\n",
    "plt.xlabel('Time')\n",
    "plt.ylabel('Residual')\n",
    "plt.title('CO2 / Time');"
   ]
  },
  {
   "cell_type": "code",
   "execution_count": 63,
   "metadata": {},
   "outputs": [
    {
     "data": {
      "image/png": "[encoded data removed]",
      "text/plain": [
       "<matplotlib.figure.Figure at 0x7fef1ecf7a20>"
      ]
     },
     "metadata": {},
     "output_type": "display_data"
    }
   ],
   "source": [
    "fig,ax = plt.subplots(1)\n",
    "probplot(resids_com_normalized, dist=\"norm\", plot=ax)\n",
    "plt.show()"
   ]
  },
  {
   "cell_type": "code",
   "execution_count": 64,
   "metadata": {},
   "outputs": [
    {
     "name": "stdout",
     "output_type": "stream",
     "text": [
      "R2 score: 0.849909132798\n"
     ]
    }
   ],
   "source": [
    "print('R2 score:', r2_score(y_test, mean_com))"
   ]
  }
 ],
 "metadata": {
  "kernelspec": {
   "display_name": "Python 3",
   "language": "python",
   "name": "python3"
  },
  "language_info": {
   "codemirror_mode": {
    "name": "ipython",
    "version": 3
   },
   "file_extension": ".py",
   "mimetype": "text/x-python",
   "name": "python",
   "nbconvert_exporter": "python",
   "pygments_lexer": "ipython3",
   "version": "3.6.3"
  }
 },
 "nbformat": 4,
 "nbformat_minor": 2
}
