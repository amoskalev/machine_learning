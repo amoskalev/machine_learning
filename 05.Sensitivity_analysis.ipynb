{
 "cells": [
  {
   "cell_type": "markdown",
   "metadata": {},
   "source": [
    "# Artem Moskalev. Home Assignment -- 5"
   ]
  },
  {
   "cell_type": "markdown",
   "metadata": {},
   "source": [
    "# Part 1 (19 pt.): Model selection and sensitivity analysis"
   ]
  },
  {
   "cell_type": "markdown",
   "metadata": {},
   "source": [
    "## Task 1 (2 pt.): Information criteria"
   ]
  },
  {
   "cell_type": "markdown",
   "metadata": {},
   "source": [
    "Assume that regression model is\n",
    "$$y = \\sum_{i=1}^k \\beta_i x_i + \\varepsilon,$$\n",
    "and $\\varepsilon$ is dictributed as normally: $\\varepsilon \\sim \\mathcal{N}(0, \\sigma^2)$, $\\sigma^2$ is known.\n",
    "\n",
    "Prove that the model with highest Akaike information criterion is the model with smallest Mallow's $C_p$."
   ]
  },
  {
   "cell_type": "markdown",
   "metadata": {},
   "source": [
    "**BEGIN Solution**\n",
    "\n",
    "From lectures:\n",
    "\n",
    "$AIC = k\\ln(\\frac 1 {\\sqrt{2\\pi}\\sigma}) - \\frac 1 {2\\sigma^2} \\sum_{i=1}^k(y_i - f(\\beta_J;x_{i,J}))^2 - |J|$\n",
    "\n",
    "$C_p = \\frac 1 k \\sum_{i=1}^k(y_i - f(\\beta_J;x_{i,J}))^2 + 2 \\frac {\\sigma^2} k |J|$\n",
    "\n",
    "As we are comparing an estimation of these criterions for the same model, we can get rid of all constants: \n",
    "\n",
    "$AIC^{'} = - \\sum_{i=1}^k(y_i - f(\\beta_J;x_{i,J}))^2 - |J|$\n",
    "\n",
    "$C_p^{'} = \\sum_{i=1}^k(y_i - f(\\beta_J;x_{i,J}))^2 + |J|$ \n",
    "\n",
    "From here we can vividly see that $\\max_{|J|} AIC = \\min_{|J|} C_p$\n",
    "\n",
    "**END Solution**"
   ]
  },
  {
   "cell_type": "markdown",
   "metadata": {},
   "source": [
    "<br/> <!--Intentionally left blank-->"
   ]
  },
  {
   "cell_type": "markdown",
   "metadata": {},
   "source": [
    "## Task 2 (17 pt.): Sensitivity analysis and optimization for rotating disk problem"
   ]
  },
  {
   "cell_type": "markdown",
   "metadata": {},
   "source": [
    "In this tsk, you are proposed to solve a problem of optimization of a rotating disc. You will use approximation techniques, sensitivity analysis and optimization. For sensitivity analysis you are recommended to use SALib library (https://github.com/SALib/SALib), and scipy for optimization."
   ]
  },
  {
   "cell_type": "markdown",
   "metadata": {},
   "source": [
    "1. Parameters `r1,t1,r2,r3,t3,r4` are input variables that define a geometrical shape of a disk. Parameters `mass,smax,u2` are mass of a disk, maximal radial stress, and contact stress, respectively. **Those are the\n",
    "target variables to predict (yes there are three regression targets).**\n",
    "2. The `problem` Pythonic dict is used for SALib methods and defines bounds for parameters."
   ]
  },
  {
   "cell_type": "markdown",
   "metadata": {},
   "source": [
    "### Necessary imports"
   ]
  },
  {
   "cell_type": "markdown",
   "metadata": {},
   "source": [
    "Run the following command in the next empty code cell."
   ]
  },
  {
   "cell_type": "markdown",
   "metadata": {
    "collapsed": true
   },
   "source": [
    "```python\n",
    "!pip install salib\n",
    "```"
   ]
  },
  {
   "cell_type": "markdown",
   "metadata": {},
   "source": [
    "Other imports"
   ]
  },
  {
   "cell_type": "code",
   "execution_count": 1,
   "metadata": {
    "collapsed": true
   },
   "outputs": [],
   "source": [
    "%matplotlib inline\n",
    "from SALib.analyze import sobol as sobol_analyzer\n",
    "from SALib.analyze import morris as morris_analyzer\n",
    "\n",
    "from SALib.sample import saltelli as saltelli_sampler\n",
    "from SALib.sample import morris as morris_sampler\n",
    "\n",
    "from scipy.optimize import minimize\n",
    "\n",
    "import numpy as np\n",
    "import pandas as pd\n",
    "\n",
    "from matplotlib import pyplot\n",
    "\n",
    "from sklearn.model_selection import GridSearchCV\n",
    "from sklearn.preprocessing import StandardScaler\n",
    "\n",
    "import matplotlib.pyplot as plt\n",
    "%matplotlib inline"
   ]
  },
  {
   "cell_type": "markdown",
   "metadata": {},
   "source": [
    "### Define problem"
   ]
  },
  {
   "cell_type": "markdown",
   "metadata": {},
   "source": [
    "Problem is defined as a simple Pythonic dict, where you should number of input variables,\n",
    "bounds for each input variable and their names. This will be helpful for sensitivity analysis.\n",
    "Note, that bounds defined here are true for **standardized data**."
   ]
  },
  {
   "cell_type": "code",
   "execution_count": 2,
   "metadata": {
    "collapsed": true
   },
   "outputs": [],
   "source": [
    "data = pd.read_csv('data/doe_100.csv')\n",
    "\n",
    "problem = {\n",
    "    'num_vars': 6,\n",
    "    'names': data.columns.values[:6],\n",
    "    'bounds': np.array([[-1.7321, 1.7321],\n",
    "                        [-1.7321, 1.7321],\n",
    "                        [-1.7321, 1.7321],\n",
    "                        [-1.7321, 1.7321],\n",
    "                        [-1.7321, 1.7321],\n",
    "                        [-1.7321, 1.7321]]),\n",
    "    'groups': None\n",
    "    }"
   ]
  },
  {
   "cell_type": "code",
   "execution_count": 3,
   "metadata": {
    "collapsed": true
   },
   "outputs": [],
   "source": [
    "sscaler = StandardScaler()\n",
    "\n",
    "X = pd.DataFrame(sscaler.fit_transform(data[problem['names']].copy()), columns=problem['names'])\n",
    "y = data[list(set(data.columns.values) - set(X.columns.values))]\n",
    "t1, t2, t3 = y.iloc[:,0], y.iloc[:,1], y.iloc[:,2]"
   ]
  },
  {
   "cell_type": "markdown",
   "metadata": {},
   "source": [
    "<br/> <!--Intentionally left blank-->"
   ]
  },
  {
   "cell_type": "markdown",
   "metadata": {},
   "source": [
    "### Task 2.1 (7 pt.): Surrogate modelling"
   ]
  },
  {
   "cell_type": "markdown",
   "metadata": {},
   "source": [
    "The actual dependency is not given, only a data set of inputs and outputs.\n",
    "Surrogate modelling is an approach that allows to construct approximations of the real dependecy, and use them for optimization and modelling.\n",
    "To perform sensitivity analysis and optimization we are going to use a regression model.\n",
    "\n",
    "Your tasks:\n",
    "\n",
    "* Load the data set from `data/doe_100.csv`.\n",
    "* Build several regression models using different techniques: Gaussian Process Regression, Kernel Ridge regression, SVR.\n",
    "* Perform k-fold cross-validation for each model and choose the best.\n",
    "\n",
    "The most accurate models will be used in **all subsequent excersices**."
   ]
  },
  {
   "cell_type": "markdown",
   "metadata": {},
   "source": [
    "<span style=\"color:green\">**NOTE**</span> sklearn has a convenient GP implementation.\n",
    "\n",
    "```python\n",
    "from sklearn.gaussian_process import GaussianProcessRegressor\n",
    "from sklearn.gaussian_process.kernels import My, Favourite, Kernels, ...\n",
    "```"
   ]
  },
  {
   "cell_type": "code",
   "execution_count": 4,
   "metadata": {
    "collapsed": true
   },
   "outputs": [],
   "source": [
    "np.random.seed(1011)\n",
    "\n",
    "from sklearn.gaussian_process import GaussianProcessRegressor\n",
    "from sklearn.kernel_ridge import KernelRidge\n",
    "from sklearn.svm import SVR\n",
    "from sklearn.multioutput import MultiOutputRegressor\n",
    "from sklearn.gaussian_process.kernels import RBF, WhiteKernel, Matern\n",
    "from sklearn.model_selection import cross_val_score"
   ]
  },
  {
   "cell_type": "markdown",
   "metadata": {},
   "source": [
    "#### Model per target:"
   ]
  },
  {
   "cell_type": "markdown",
   "metadata": {},
   "source": [
    "- Target 1"
   ]
  },
  {
   "cell_type": "code",
   "execution_count": 5,
   "metadata": {},
   "outputs": [
    {
     "data": {
      "text/plain": [
       "GridSearchCV(cv=None, error_score='raise',\n",
       "       estimator=KernelRidge(alpha=1, coef0=1, degree=3, gamma=None, kernel='linear',\n",
       "      kernel_params=None),\n",
       "       fit_params=None, iid=True, n_jobs=-1,\n",
       "       param_grid={'alpha': [0.001, 0.05, 0.1, 0.5, 0.8, 1.0, 1.5], 'kernel': ['linear', 'poly', 'rbf'], 'degree': array([1, 2, 3, 4, 5, 6, 7]), 'gamma': array([1, 2, 3, 4, 5, 6, 7]), 'coef0': array([ 0.1    ,  0.41667,  0.73333,  1.05   ,  1.36667,  1.68333,  2.     ])},\n",
       "       pre_dispatch='2*n_jobs', refit=True, return_train_score='warn',\n",
       "       scoring='r2', verbose=0)"
      ]
     },
     "execution_count": 5,
     "metadata": {},
     "output_type": "execute_result"
    }
   ],
   "source": [
    "kridge = KernelRidge()\n",
    "kridge_params = {'alpha':[1e-3,.05,.1,.5,.8,1.,1.5],\n",
    "                                  'kernel':['linear','poly','rbf'],\n",
    "                                  'degree':np.arange(1,8),\n",
    "                                  'gamma':np.arange(1,8),\n",
    "                                  'coef0':np.linspace(0.1,2,7)}\n",
    "    \n",
    "kridge_gs = GridSearchCV(kridge, kridge_params, scoring='r2',n_jobs=-1, verbose=0)\n",
    "kridge_gs.fit(X, t1)\n",
    "#print('KernelRidge 3-CV r2 score for t1:', kridge_gs.best_score_, ' with params:', kridge_gs.best_params_)"
   ]
  },
  {
   "cell_type": "code",
   "execution_count": 6,
   "metadata": {},
   "outputs": [
    {
     "name": "stderr",
     "output_type": "stream",
     "text": [
      "/home/art_mos/anaconda3/lib/python3.6/site-packages/sklearn/gaussian_process/gpr.py:457: UserWarning: fmin_l_bfgs_b terminated abnormally with the  state: {'grad': array([ 2.93263869]), 'task': b'ABNORMAL_TERMINATION_IN_LNSRCH', 'funcalls': 47, 'nit': 4, 'warnflag': 2}\n",
      "  \" state: %s\" % convergence_dict)\n"
     ]
    },
    {
     "data": {
      "text/plain": [
       "GridSearchCV(cv=None, error_score='raise',\n",
       "       estimator=GaussianProcessRegressor(alpha=1e-10, copy_X_train=True, kernel=None,\n",
       "             n_restarts_optimizer=0, normalize_y=False,\n",
       "             optimizer='fmin_l_bfgs_b', random_state=None),\n",
       "       fit_params=None, iid=True, n_jobs=-1,\n",
       "       param_grid={'kernel': [RBF(length_scale=2), RBF(length_scale=4), RBF(length_scale=5), RBF(length_scale=7), Matern(length_scale=2, nu=1.5), Matern(length_scale=4, nu=1.5), Matern(length_scale=7, nu=0.8), Matern(length_scale=7, nu=1), Matern(length_scale=7, nu=0.6), Matern(length_scale=7, nu=0.6)], 'alpha': [1e-10, 1e-06, 0.001, 0.1, 1.0, 2.0]},\n",
       "       pre_dispatch='2*n_jobs', refit=True, return_train_score='warn',\n",
       "       scoring='r2', verbose=0)"
      ]
     },
     "execution_count": 6,
     "metadata": {},
     "output_type": "execute_result"
    }
   ],
   "source": [
    "gpr = GaussianProcessRegressor()\n",
    "gpt_params = {'kernel':[RBF(2), RBF(4), RBF(5), RBF(7),\n",
    "                                      Matern(2), Matern(4), Matern(7, nu=0.8), Matern(7, nu=1.),\n",
    "                                      Matern(7, nu=0.6), Matern(7, nu=0.6)],\n",
    "                            'alpha':[1e-10, 1e-6, 1e-3,1e-1,1.,2.]}\n",
    "\n",
    "\n",
    "gpr_gs = GridSearchCV(gpr, gpt_params, scoring='r2',n_jobs=-1, verbose=0)\n",
    "gpr_gs.fit(X,t1)\n",
    "#print('GaussianProcessRegressor 3-CV r2 score for t1:', gpr_gs.best_score_, ' with params:', gpr_gs.best_params_)"
   ]
  },
  {
   "cell_type": "code",
   "execution_count": 7,
   "metadata": {},
   "outputs": [
    {
     "ename": "KeyboardInterrupt",
     "evalue": "",
     "output_type": "error",
     "traceback": [
      "\u001b[0;31m---------------------------------------------------------------------------\u001b[0m",
      "\u001b[0;31mKeyboardInterrupt\u001b[0m                         Traceback (most recent call last)",
      "\u001b[0;32m<ipython-input-7-30f55541af6f>\u001b[0m in \u001b[0;36m<module>\u001b[0;34m()\u001b[0m\n\u001b[1;32m      9\u001b[0m \u001b[0;34m\u001b[0m\u001b[0m\n\u001b[1;32m     10\u001b[0m \u001b[0msvr_gs\u001b[0m \u001b[0;34m=\u001b[0m \u001b[0mGridSearchCV\u001b[0m\u001b[0;34m(\u001b[0m\u001b[0msvr\u001b[0m\u001b[0;34m,\u001b[0m \u001b[0msvr_params\u001b[0m\u001b[0;34m,\u001b[0m \u001b[0mscoring\u001b[0m\u001b[0;34m=\u001b[0m\u001b[0;34m'r2'\u001b[0m\u001b[0;34m,\u001b[0m\u001b[0mn_jobs\u001b[0m\u001b[0;34m=\u001b[0m\u001b[0;34m-\u001b[0m\u001b[0;36m1\u001b[0m\u001b[0;34m,\u001b[0m \u001b[0mverbose\u001b[0m\u001b[0;34m=\u001b[0m\u001b[0;36m0\u001b[0m\u001b[0;34m)\u001b[0m\u001b[0;34m\u001b[0m\u001b[0m\n\u001b[0;32m---> 11\u001b[0;31m \u001b[0msvr_gs\u001b[0m\u001b[0;34m.\u001b[0m\u001b[0mfit\u001b[0m\u001b[0;34m(\u001b[0m\u001b[0mX\u001b[0m\u001b[0;34m,\u001b[0m\u001b[0mt1\u001b[0m\u001b[0;34m)\u001b[0m\u001b[0;34m\u001b[0m\u001b[0m\n\u001b[0m\u001b[1;32m     12\u001b[0m \u001b[0mprint\u001b[0m\u001b[0;34m(\u001b[0m\u001b[0;34m'KernelRidge 3-CV r2 score for t1:'\u001b[0m\u001b[0;34m,\u001b[0m \u001b[0mkridge_gs\u001b[0m\u001b[0;34m.\u001b[0m\u001b[0mbest_score_\u001b[0m\u001b[0;34m,\u001b[0m \u001b[0;34m' with params:'\u001b[0m\u001b[0;34m,\u001b[0m \u001b[0mkridge_gs\u001b[0m\u001b[0;34m.\u001b[0m\u001b[0mbest_params_\u001b[0m\u001b[0;34m)\u001b[0m\u001b[0;34m\u001b[0m\u001b[0m\n\u001b[1;32m     13\u001b[0m \u001b[0mprint\u001b[0m\u001b[0;34m(\u001b[0m\u001b[0;34m'GaussianProcessRegressor 3-CV r2 score for t1:'\u001b[0m\u001b[0;34m,\u001b[0m \u001b[0mgpr_gs\u001b[0m\u001b[0;34m.\u001b[0m\u001b[0mbest_score_\u001b[0m\u001b[0;34m,\u001b[0m \u001b[0;34m' with params:'\u001b[0m\u001b[0;34m,\u001b[0m \u001b[0mgpr_gs\u001b[0m\u001b[0;34m.\u001b[0m\u001b[0mbest_params_\u001b[0m\u001b[0;34m)\u001b[0m\u001b[0;34m\u001b[0m\u001b[0m\n",
      "\u001b[0;32m~/anaconda3/lib/python3.6/site-packages/sklearn/model_selection/_search.py\u001b[0m in \u001b[0;36mfit\u001b[0;34m(self, X, y, groups, **fit_params)\u001b[0m\n\u001b[1;32m    637\u001b[0m                                   error_score=self.error_score)\n\u001b[1;32m    638\u001b[0m           for parameters, (train, test) in product(candidate_params,\n\u001b[0;32m--> 639\u001b[0;31m                                                    cv.split(X, y, groups)))\n\u001b[0m\u001b[1;32m    640\u001b[0m \u001b[0;34m\u001b[0m\u001b[0m\n\u001b[1;32m    641\u001b[0m         \u001b[0;31m# if one choose to see train score, \"out\" will contain train score info\u001b[0m\u001b[0;34m\u001b[0m\u001b[0;34m\u001b[0m\u001b[0m\n",
      "\u001b[0;32m~/anaconda3/lib/python3.6/site-packages/sklearn/externals/joblib/parallel.py\u001b[0m in \u001b[0;36m__call__\u001b[0;34m(self, iterable)\u001b[0m\n\u001b[1;32m    787\u001b[0m                 \u001b[0;31m# consumption.\u001b[0m\u001b[0;34m\u001b[0m\u001b[0;34m\u001b[0m\u001b[0m\n\u001b[1;32m    788\u001b[0m                 \u001b[0mself\u001b[0m\u001b[0;34m.\u001b[0m\u001b[0m_iterating\u001b[0m \u001b[0;34m=\u001b[0m \u001b[0;32mFalse\u001b[0m\u001b[0;34m\u001b[0m\u001b[0m\n\u001b[0;32m--> 789\u001b[0;31m             \u001b[0mself\u001b[0m\u001b[0;34m.\u001b[0m\u001b[0mretrieve\u001b[0m\u001b[0;34m(\u001b[0m\u001b[0;34m)\u001b[0m\u001b[0;34m\u001b[0m\u001b[0m\n\u001b[0m\u001b[1;32m    790\u001b[0m             \u001b[0;31m# Make sure that we get a last message telling us we are done\u001b[0m\u001b[0;34m\u001b[0m\u001b[0;34m\u001b[0m\u001b[0m\n\u001b[1;32m    791\u001b[0m             \u001b[0melapsed_time\u001b[0m \u001b[0;34m=\u001b[0m \u001b[0mtime\u001b[0m\u001b[0;34m.\u001b[0m\u001b[0mtime\u001b[0m\u001b[0;34m(\u001b[0m\u001b[0;34m)\u001b[0m \u001b[0;34m-\u001b[0m \u001b[0mself\u001b[0m\u001b[0;34m.\u001b[0m\u001b[0m_start_time\u001b[0m\u001b[0;34m\u001b[0m\u001b[0m\n",
      "\u001b[0;32m~/anaconda3/lib/python3.6/site-packages/sklearn/externals/joblib/parallel.py\u001b[0m in \u001b[0;36mretrieve\u001b[0;34m(self)\u001b[0m\n\u001b[1;32m    697\u001b[0m             \u001b[0;32mtry\u001b[0m\u001b[0;34m:\u001b[0m\u001b[0;34m\u001b[0m\u001b[0m\n\u001b[1;32m    698\u001b[0m                 \u001b[0;32mif\u001b[0m \u001b[0mgetattr\u001b[0m\u001b[0;34m(\u001b[0m\u001b[0mself\u001b[0m\u001b[0;34m.\u001b[0m\u001b[0m_backend\u001b[0m\u001b[0;34m,\u001b[0m \u001b[0;34m'supports_timeout'\u001b[0m\u001b[0;34m,\u001b[0m \u001b[0;32mFalse\u001b[0m\u001b[0;34m)\u001b[0m\u001b[0;34m:\u001b[0m\u001b[0;34m\u001b[0m\u001b[0m\n\u001b[0;32m--> 699\u001b[0;31m                     \u001b[0mself\u001b[0m\u001b[0;34m.\u001b[0m\u001b[0m_output\u001b[0m\u001b[0;34m.\u001b[0m\u001b[0mextend\u001b[0m\u001b[0;34m(\u001b[0m\u001b[0mjob\u001b[0m\u001b[0;34m.\u001b[0m\u001b[0mget\u001b[0m\u001b[0;34m(\u001b[0m\u001b[0mtimeout\u001b[0m\u001b[0;34m=\u001b[0m\u001b[0mself\u001b[0m\u001b[0;34m.\u001b[0m\u001b[0mtimeout\u001b[0m\u001b[0;34m)\u001b[0m\u001b[0;34m)\u001b[0m\u001b[0;34m\u001b[0m\u001b[0m\n\u001b[0m\u001b[1;32m    700\u001b[0m                 \u001b[0;32melse\u001b[0m\u001b[0;34m:\u001b[0m\u001b[0;34m\u001b[0m\u001b[0m\n\u001b[1;32m    701\u001b[0m                     \u001b[0mself\u001b[0m\u001b[0;34m.\u001b[0m\u001b[0m_output\u001b[0m\u001b[0;34m.\u001b[0m\u001b[0mextend\u001b[0m\u001b[0;34m(\u001b[0m\u001b[0mjob\u001b[0m\u001b[0;34m.\u001b[0m\u001b[0mget\u001b[0m\u001b[0;34m(\u001b[0m\u001b[0;34m)\u001b[0m\u001b[0;34m)\u001b[0m\u001b[0;34m\u001b[0m\u001b[0m\n",
      "\u001b[0;32m~/anaconda3/lib/python3.6/multiprocessing/pool.py\u001b[0m in \u001b[0;36mget\u001b[0;34m(self, timeout)\u001b[0m\n\u001b[1;32m    636\u001b[0m \u001b[0;34m\u001b[0m\u001b[0m\n\u001b[1;32m    637\u001b[0m     \u001b[0;32mdef\u001b[0m \u001b[0mget\u001b[0m\u001b[0;34m(\u001b[0m\u001b[0mself\u001b[0m\u001b[0;34m,\u001b[0m \u001b[0mtimeout\u001b[0m\u001b[0;34m=\u001b[0m\u001b[0;32mNone\u001b[0m\u001b[0;34m)\u001b[0m\u001b[0;34m:\u001b[0m\u001b[0;34m\u001b[0m\u001b[0m\n\u001b[0;32m--> 638\u001b[0;31m         \u001b[0mself\u001b[0m\u001b[0;34m.\u001b[0m\u001b[0mwait\u001b[0m\u001b[0;34m(\u001b[0m\u001b[0mtimeout\u001b[0m\u001b[0;34m)\u001b[0m\u001b[0;34m\u001b[0m\u001b[0m\n\u001b[0m\u001b[1;32m    639\u001b[0m         \u001b[0;32mif\u001b[0m \u001b[0;32mnot\u001b[0m \u001b[0mself\u001b[0m\u001b[0;34m.\u001b[0m\u001b[0mready\u001b[0m\u001b[0;34m(\u001b[0m\u001b[0;34m)\u001b[0m\u001b[0;34m:\u001b[0m\u001b[0;34m\u001b[0m\u001b[0m\n\u001b[1;32m    640\u001b[0m             \u001b[0;32mraise\u001b[0m \u001b[0mTimeoutError\u001b[0m\u001b[0;34m\u001b[0m\u001b[0m\n",
      "\u001b[0;32m~/anaconda3/lib/python3.6/multiprocessing/pool.py\u001b[0m in \u001b[0;36mwait\u001b[0;34m(self, timeout)\u001b[0m\n\u001b[1;32m    633\u001b[0m \u001b[0;34m\u001b[0m\u001b[0m\n\u001b[1;32m    634\u001b[0m     \u001b[0;32mdef\u001b[0m \u001b[0mwait\u001b[0m\u001b[0;34m(\u001b[0m\u001b[0mself\u001b[0m\u001b[0;34m,\u001b[0m \u001b[0mtimeout\u001b[0m\u001b[0;34m=\u001b[0m\u001b[0;32mNone\u001b[0m\u001b[0;34m)\u001b[0m\u001b[0;34m:\u001b[0m\u001b[0;34m\u001b[0m\u001b[0m\n\u001b[0;32m--> 635\u001b[0;31m         \u001b[0mself\u001b[0m\u001b[0;34m.\u001b[0m\u001b[0m_event\u001b[0m\u001b[0;34m.\u001b[0m\u001b[0mwait\u001b[0m\u001b[0;34m(\u001b[0m\u001b[0mtimeout\u001b[0m\u001b[0;34m)\u001b[0m\u001b[0;34m\u001b[0m\u001b[0m\n\u001b[0m\u001b[1;32m    636\u001b[0m \u001b[0;34m\u001b[0m\u001b[0m\n\u001b[1;32m    637\u001b[0m     \u001b[0;32mdef\u001b[0m \u001b[0mget\u001b[0m\u001b[0;34m(\u001b[0m\u001b[0mself\u001b[0m\u001b[0;34m,\u001b[0m \u001b[0mtimeout\u001b[0m\u001b[0;34m=\u001b[0m\u001b[0;32mNone\u001b[0m\u001b[0;34m)\u001b[0m\u001b[0;34m:\u001b[0m\u001b[0;34m\u001b[0m\u001b[0m\n",
      "\u001b[0;32m~/anaconda3/lib/python3.6/threading.py\u001b[0m in \u001b[0;36mwait\u001b[0;34m(self, timeout)\u001b[0m\n\u001b[1;32m    549\u001b[0m             \u001b[0msignaled\u001b[0m \u001b[0;34m=\u001b[0m \u001b[0mself\u001b[0m\u001b[0;34m.\u001b[0m\u001b[0m_flag\u001b[0m\u001b[0;34m\u001b[0m\u001b[0m\n\u001b[1;32m    550\u001b[0m             \u001b[0;32mif\u001b[0m \u001b[0;32mnot\u001b[0m \u001b[0msignaled\u001b[0m\u001b[0;34m:\u001b[0m\u001b[0;34m\u001b[0m\u001b[0m\n\u001b[0;32m--> 551\u001b[0;31m                 \u001b[0msignaled\u001b[0m \u001b[0;34m=\u001b[0m \u001b[0mself\u001b[0m\u001b[0;34m.\u001b[0m\u001b[0m_cond\u001b[0m\u001b[0;34m.\u001b[0m\u001b[0mwait\u001b[0m\u001b[0;34m(\u001b[0m\u001b[0mtimeout\u001b[0m\u001b[0;34m)\u001b[0m\u001b[0;34m\u001b[0m\u001b[0m\n\u001b[0m\u001b[1;32m    552\u001b[0m             \u001b[0;32mreturn\u001b[0m \u001b[0msignaled\u001b[0m\u001b[0;34m\u001b[0m\u001b[0m\n\u001b[1;32m    553\u001b[0m \u001b[0;34m\u001b[0m\u001b[0m\n",
      "\u001b[0;32m~/anaconda3/lib/python3.6/threading.py\u001b[0m in \u001b[0;36mwait\u001b[0;34m(self, timeout)\u001b[0m\n\u001b[1;32m    293\u001b[0m         \u001b[0;32mtry\u001b[0m\u001b[0;34m:\u001b[0m    \u001b[0;31m# restore state no matter what (e.g., KeyboardInterrupt)\u001b[0m\u001b[0;34m\u001b[0m\u001b[0m\n\u001b[1;32m    294\u001b[0m             \u001b[0;32mif\u001b[0m \u001b[0mtimeout\u001b[0m \u001b[0;32mis\u001b[0m \u001b[0;32mNone\u001b[0m\u001b[0;34m:\u001b[0m\u001b[0;34m\u001b[0m\u001b[0m\n\u001b[0;32m--> 295\u001b[0;31m                 \u001b[0mwaiter\u001b[0m\u001b[0;34m.\u001b[0m\u001b[0macquire\u001b[0m\u001b[0;34m(\u001b[0m\u001b[0;34m)\u001b[0m\u001b[0;34m\u001b[0m\u001b[0m\n\u001b[0m\u001b[1;32m    296\u001b[0m                 \u001b[0mgotit\u001b[0m \u001b[0;34m=\u001b[0m \u001b[0;32mTrue\u001b[0m\u001b[0;34m\u001b[0m\u001b[0m\n\u001b[1;32m    297\u001b[0m             \u001b[0;32melse\u001b[0m\u001b[0;34m:\u001b[0m\u001b[0;34m\u001b[0m\u001b[0m\n",
      "\u001b[0;31mKeyboardInterrupt\u001b[0m: "
     ]
    }
   ],
   "source": [
    "svr = SVR()\n",
    "svr_params = {'C':np.linspace(0.1, 2., 5),\n",
    "                            'epsilon':np.linspace(0.01,1,7),\n",
    "                            'kernel':['linear','poly','rbf'],\n",
    "                            'degree':np.arange(2,8),\n",
    "                            'gamma':list(np.arange(2,8))+['auto'],\n",
    "                            'coef0':np.linspace(0.,2,7)}\n",
    "\n",
    "\n",
    "svr_gs = GridSearchCV(svr, svr_params, scoring='r2',n_jobs=-1, verbose=0)\n",
    "svr_gs.fit(X,t1)\n",
    "print('KernelRidge 3-CV r2 score for t1:', kridge_gs.best_score_, ' with params:', kridge_gs.best_params_)\n",
    "print('GaussianProcessRegressor 3-CV r2 score for t1:', gpr_gs.best_score_, ' with params:', gpr_gs.best_params_)\n",
    "print('SVR 3-CV r2 score for t1:', svr_gs.best_score_, ' with params:', svr_gs.best_params_)"
   ]
  },
  {
   "cell_type": "markdown",
   "metadata": {},
   "source": [
    "- Target 2"
   ]
  },
  {
   "cell_type": "code",
   "execution_count": null,
   "metadata": {
    "collapsed": true
   },
   "outputs": [],
   "source": [
    "kridge_gs = GridSearchCV(kridge, kridge_params, scoring='r2',n_jobs=-1, verbose=0)\n",
    "kridge_gs.fit(X, t2)\n",
    "print('KernelRidge 3-CV r2 score for t2:', kridge_gs.best_score_, ' with params:', kridge_gs.best_params_)\n",
    "\n",
    "gpr_gs = GridSearchCV(gpr, gpt_params, scoring='r2',n_jobs=-1, verbose=0)\n",
    "gpr_gs.fit(X,t2)\n",
    "print('GaussianProcessRegressor 3-CV r2 score for t2:', gpr_gs.best_score_, ' with params:', gpr_gs.best_params_)\n",
    "\n",
    "svr_gs = GridSearchCV(svr, svr_params, scoring='r2',n_jobs=-1, verbose=0)\n",
    "svr_gs.fit(X,t2)\n",
    "print('SVR 3-CV r2 score for t2:', svr_gs.best_score_, ' with params:', svr_gs.best_params_)"
   ]
  },
  {
   "cell_type": "markdown",
   "metadata": {},
   "source": [
    "- Target 3"
   ]
  },
  {
   "cell_type": "code",
   "execution_count": null,
   "metadata": {
    "collapsed": true
   },
   "outputs": [],
   "source": [
    "kridge_gs = GridSearchCV(kridge, kridge_params, scoring='r2',n_jobs=-1, verbose=0)\n",
    "kridge_gs.fit(X, t3)\n",
    "print('KernelRidge 3-CV r2 score for t3:', kridge_gs.best_score_, ' with params:', kridge_gs.best_params_)\n",
    "\n",
    "gpr_gs = GridSearchCV(gpr, gpt_params, scoring='r2',n_jobs=-1, verbose=0)\n",
    "gpr_gs.fit(X,t3)\n",
    "print('GaussianProcessRegressor 3-CV r2 score for t3:', gpr_gs.best_score_, ' with params:', gpr_gs.best_params_)\n",
    "\n",
    "svr_gs = GridSearchCV(svr, svr_params, scoring='r2',n_jobs=-1, verbose=0)\n",
    "svr_gs.fit(X,t3)\n",
    "print('SVR 3-CV r2 score for t3:', svr_gs.best_score_, ' with params:', svr_gs.best_params_)"
   ]
  },
  {
   "cell_type": "markdown",
   "metadata": {},
   "source": [
    " - Thus, the model per target will be:"
   ]
  },
  {
   "cell_type": "code",
   "execution_count": 30,
   "metadata": {},
   "outputs": [
    {
     "data": {
      "text/plain": [
       "KernelRidge(alpha=0.5, coef0=2.0, degree=2, gamma=7, kernel='poly',\n",
       "      kernel_params=None)"
      ]
     },
     "execution_count": 30,
     "metadata": {},
     "output_type": "execute_result"
    }
   ],
   "source": [
    "model1= SVR(**{'C': 2.0, 'coef0': 2.0, 'degree': 3, 'epsilon': 0.01, 'gamma': 'auto', 'kernel': 'poly'}) #first target\n",
    "model1.fit(X,t1)\n",
    "\n",
    "model2= SVR(**{'C': 2.0, 'coef0': 2.0, 'degree': 3, 'epsilon': 0.01, 'gamma': 'auto', 'kernel': 'poly'}) #second target\n",
    "model2.fit(X,t2)\n",
    "\n",
    "model3= KernelRidge(**{'alpha': 0.5, 'coef0': 2.0, 'degree': 2, 'gamma': 7, 'kernel': 'poly'}) #third target\n",
    "model3.fit(X,t3)"
   ]
  },
  {
   "cell_type": "markdown",
   "metadata": {},
   "source": [
    "<br/> <!--Intentionally left blank-->"
   ]
  },
  {
   "cell_type": "markdown",
   "metadata": {},
   "source": [
    "### Task 2.2 (6 pt.): Sensitivity analysis"
   ]
  },
  {
   "cell_type": "markdown",
   "metadata": {},
   "source": [
    "SALib is a python library for sensitivity analysis.\n",
    "\n",
    "It implements some popular global sensitivity analysis methods: \n",
    "* Morris method - that may be thought of as crude estimation of average absolute value of partial derivative. \n",
    "* Sobol indicies - that show portion of variance in the output that is explained by input.\n",
    "\n",
    "Each method takes **x** and **y** samples as input. But the samples must be properly generated.\n",
    "There are special functions in SALib library to do exactly that.\n",
    "\n",
    "Using the **best model per target** your task is to\n",
    "\n",
    "* calculate Sobol indices:\n",
    "    * Generate **x** and **y** samples using Saltelli’s extension of the Sobol sequence\n",
    "    * Calculate Sobol indices using obtained samples\n",
    "* calculate screening indices\n",
    "    * Generate **x** and **y** samples for Morris method\n",
    "    * Apply Morris method to generated samples to obtain screening indices\n",
    "\n",
    "\n",
    "* Using your judgement and based on the analysis results choose variables have the most influence on the output.\n",
    "\n",
    "**NOTE** Make sure to use the *same sample* for all three targets."
   ]
  },
  {
   "cell_type": "markdown",
   "metadata": {},
   "source": [
    "### Sobol:"
   ]
  },
  {
   "cell_type": "code",
   "execution_count": 31,
   "metadata": {
    "collapsed": true
   },
   "outputs": [],
   "source": [
    "X_gen = saltelli_sampler.sample(problem,100)\n",
    "\n",
    "Y1,Y2,Y3 = np.zeros([X_gen.shape[0]]),np.zeros([X_gen.shape[0]]),np.zeros([X_gen.shape[0]])\n",
    "\n",
    "for i, samp in enumerate(X_gen):\n",
    "    Y1[i] = model1.predict(samp.reshape(1,-1))\n",
    "    Y2[i] = model2.predict(samp.reshape(1,-1))\n",
    "    Y3[i] = model3.predict(samp.reshape(1,-1))"
   ]
  },
  {
   "cell_type": "code",
   "execution_count": 32,
   "metadata": {
    "collapsed": true
   },
   "outputs": [],
   "source": [
    "Si1 = sobol_analyzer.analyze(problem, Y1, conf_level=0.95)\n",
    "Si2 = sobol_analyzer.analyze(problem, Y2, conf_level=0.95)\n",
    "Si3 = sobol_analyzer.analyze(problem, Y3, conf_level=0.95)"
   ]
  },
  {
   "cell_type": "markdown",
   "metadata": {},
   "source": [
    "- ###### Target 1:"
   ]
  },
  {
   "cell_type": "code",
   "execution_count": 33,
   "metadata": {},
   "outputs": [
    {
     "name": "stdout",
     "output_type": "stream",
     "text": [
      "[ 0.02040063  0.95613619 -0.00410823  0.02849199  0.01538022  0.01790955]\n"
     ]
    }
   ],
   "source": [
    "print(Si1['S1'])"
   ]
  },
  {
   "cell_type": "markdown",
   "metadata": {},
   "source": [
    "Here, we see that x2 exhibits huge first-order sensitivity, other variables have low first-order effects."
   ]
  },
  {
   "cell_type": "code",
   "execution_count": 34,
   "metadata": {},
   "outputs": [
    {
     "name": "stdout",
     "output_type": "stream",
     "text": [
      "[ 0.02518007  0.96685884  0.00160019  0.01921074  0.02785201  0.00295729]\n"
     ]
    }
   ],
   "source": [
    "print(Si1['ST'])"
   ]
  },
  {
   "cell_type": "markdown",
   "metadata": {},
   "source": [
    "We see that the total-order indices don't substantially differ from the first-order indices, that means that there are weak or no higher-order interactions occurring. So, there should not be strong interactions between variables. Let's see second-order Sobol indices to check this:"
   ]
  },
  {
   "cell_type": "code",
   "execution_count": 35,
   "metadata": {},
   "outputs": [
    {
     "name": "stdout",
     "output_type": "stream",
     "text": [
      "[[        nan -0.02110259 -0.02577954 -0.02603588 -0.01649683 -0.02682967]\n",
      " [        nan         nan -0.01081665 -0.03226091 -0.01209764 -0.03641273]\n",
      " [        nan         nan         nan  0.01374413  0.01508208  0.01365356]\n",
      " [        nan         nan         nan         nan -0.01950479 -0.0240186 ]\n",
      " [        nan         nan         nan         nan         nan  0.0250705 ]\n",
      " [        nan         nan         nan         nan         nan         nan]]\n"
     ]
    }
   ],
   "source": [
    "print(Si1['S2'])"
   ]
  },
  {
   "cell_type": "markdown",
   "metadata": {},
   "source": [
    "Exactly as we thought - no second order strong interactions."
   ]
  },
  {
   "cell_type": "markdown",
   "metadata": {},
   "source": [
    "- ###### Target 2:"
   ]
  },
  {
   "cell_type": "code",
   "execution_count": 36,
   "metadata": {},
   "outputs": [
    {
     "name": "stdout",
     "output_type": "stream",
     "text": [
      "[ 0.35525996  0.37616483  0.00862226  0.01541164  0.11158853  0.00868669] <- S1 \n",
      "\n",
      "[ 0.3666493   0.50880888  0.00572913  0.00571769  0.17833519  0.01294143] <- ST \n",
      "\n",
      "[[        nan -0.03103713 -0.10831783 -0.11478058 -0.08949731 -0.09934107]\n",
      " [        nan         nan  0.0930696   0.07478713  0.15162494  0.08496891]\n",
      " [        nan         nan         nan -0.00438774 -0.0142448  -0.00151468]\n",
      " [        nan         nan         nan         nan -0.03031057 -0.02706972]\n",
      " [        nan         nan         nan         nan         nan  0.04851508]\n",
      " [        nan         nan         nan         nan         nan         nan]]\n"
     ]
    }
   ],
   "source": [
    "print(Si2['S1'], '<- S1','\\n')\n",
    "print(Si2['ST'], '<- ST','\\n')\n",
    "print(Si2['S2'])"
   ]
  },
  {
   "cell_type": "markdown",
   "metadata": {},
   "source": [
    "For the model, evaluating target 2. Firstly, we see that first, second and fifths variables have significant first-order sensitivity. Second, we see that some of the total-order indices are substantially larger than corresponding first-order indices, it might signal that there are some higher-order interactions occurring."
   ]
  },
  {
   "cell_type": "markdown",
   "metadata": {},
   "source": [
    "- ###### Target 3:"
   ]
  },
  {
   "cell_type": "code",
   "execution_count": 37,
   "metadata": {},
   "outputs": [
    {
     "name": "stdout",
     "output_type": "stream",
     "text": [
      "[ 0.1361182   0.40440074  0.00923017  0.0106445   0.44356553  0.0133641 ] <- S1 \n",
      "\n",
      "[ 0.107001    0.4966764   0.00249246  0.00196676  0.48587901  0.00631838] <- ST \n",
      "\n",
      "[[        nan -0.05899648 -0.1202899  -0.1261944  -0.08673347 -0.12066573]\n",
      " [        nan         nan  0.0155911   0.02057242  0.09649109  0.0156277 ]\n",
      " [        nan         nan         nan -0.01778483 -0.01996824 -0.01814842]\n",
      " [        nan         nan         nan         nan -0.00279791 -0.01198684]\n",
      " [        nan         nan         nan         nan         nan  0.01602667]\n",
      " [        nan         nan         nan         nan         nan         nan]]\n"
     ]
    }
   ],
   "source": [
    "print(Si3['S1'], '<- S1','\\n')\n",
    "print(Si3['ST'], '<- ST','\\n')\n",
    "print(Si3['S2'])"
   ]
  },
  {
   "cell_type": "markdown",
   "metadata": {},
   "source": [
    "For the model, evaluating target 3, again, first, second and fifth variables is considerably first-order sensitive, others are not - they probably do not give more or less significant contribution. As for the total-order indices, an increased second variable's index may signal that there are also some high-order interactions occurring with this variable. In interaction matrix, as well as with the model 2, we see that there are no significant connections between variables."
   ]
  },
  {
   "cell_type": "markdown",
   "metadata": {},
   "source": [
    " - ###### Conclusion:"
   ]
  },
  {
   "cell_type": "markdown",
   "metadata": {},
   "source": [
    "Here, we see that first, second and fifth variable are ones with the highest interactions, so I suggest to keep them for reduced feature space. Let's check, what Morris will tell us."
   ]
  },
  {
   "cell_type": "markdown",
   "metadata": {},
   "source": [
    "### Morris:"
   ]
  },
  {
   "cell_type": "code",
   "execution_count": 38,
   "metadata": {
    "collapsed": true
   },
   "outputs": [],
   "source": [
    "X_gen = morris_sampler.sample(problem,100, num_levels=4, grid_jump=2)\n",
    "\n",
    "Y1,Y2,Y3 = np.zeros([X_gen.shape[0]]),np.zeros([X_gen.shape[0]]),np.zeros([X_gen.shape[0]])\n",
    "\n",
    "for i, samp in enumerate(X_gen):\n",
    "    Y1[i] = model1.predict(samp.reshape(1,-1))\n",
    "    Y2[i] = model2.predict(samp.reshape(1,-1))\n",
    "    Y3[i] = model3.predict(samp.reshape(1,-1))"
   ]
  },
  {
   "cell_type": "code",
   "execution_count": 39,
   "metadata": {
    "collapsed": true
   },
   "outputs": [],
   "source": [
    "Mi1 = morris_analyzer.analyze(problem, X_gen, Y1, num_levels=4,grid_jump=2)\n",
    "Mi2 = morris_analyzer.analyze(problem, X_gen, Y2, num_levels=4,grid_jump=2)\n",
    "Mi3 = morris_analyzer.analyze(problem, X_gen, Y3, num_levels=4,grid_jump=2)"
   ]
  },
  {
   "cell_type": "code",
   "execution_count": 40,
   "metadata": {},
   "outputs": [
    {
     "data": {
      "image/png": "[encoded data removed]",
      "text/plain": [
       "<Figure size 936x504 with 4 Axes>"
      ]
     },
     "metadata": {},
     "output_type": "display_data"
    }
   ],
   "source": [
    "fig, ax = plt.subplots(2,2, figsize=(13,7))\n",
    "ax[0,0].barh(Mi1['names'],Mi1['mu'])\n",
    "ax[0,0].set_title('$\\mu_1$')\n",
    "ax[0,1].barh(Mi1['names'],Mi1['mu_star'])\n",
    "ax[0,1].set_title('$\\mu^*_1$')\n",
    "ax[1,0].barh(Mi1['names'],Mi1['sigma'])\n",
    "ax[1,0].set_title('$\\sigma_1$')\n",
    "ax[1,1].barh(Mi1['names'],Mi1['mu_star_conf'])\n",
    "ax[1,1].set_title('$\\mu^*_{conf 1}$');"
   ]
  },
  {
   "cell_type": "code",
   "execution_count": 41,
   "metadata": {},
   "outputs": [
    {
     "data": {
      "image/png": "[encoded data removed]",
      "text/plain": [
       "<Figure size 936x504 with 8 Axes>"
      ]
     },
     "metadata": {},
     "output_type": "display_data"
    }
   ],
   "source": [
    "fig, ax = plt.subplots(2,4, figsize=(13,7))\n",
    "ax[0,0].barh(Mi2['names'],Mi2['mu'])\n",
    "ax[0,0].set_title('$\\mu_2$')\n",
    "ax[0,1].barh(Mi2['names'],Mi2['mu_star'])\n",
    "ax[0,1].set_title('$\\mu^*_2$')\n",
    "ax[1,0].barh(Mi2['names'],Mi2['sigma'])\n",
    "ax[1,0].set_title('$\\sigma_1$')\n",
    "ax[1,1].barh(Mi2['names'],Mi2['mu_star_conf'])\n",
    "ax[1,1].set_title('$\\mu^*_{conf 2}$')\n",
    "\n",
    "ax[0,2].barh(Mi3['names'],Mi3['mu'])\n",
    "ax[0,2].set_title('$\\mu_3$')\n",
    "ax[0,3].barh(Mi3['names'],Mi3['mu_star'])\n",
    "ax[0,3].set_title('$\\mu^*_3$')\n",
    "ax[1,2].barh(Mi3['names'],Mi3['sigma'])\n",
    "ax[1,2].set_title('$\\sigma_3$')\n",
    "ax[1,3].barh(Mi3['names'],Mi3['mu_star_conf'])\n",
    "ax[1,3].set_title('$\\mu^*_{conf 3}$');\n",
    "\n",
    "plt.tight_layout();"
   ]
  },
  {
   "cell_type": "markdown",
   "metadata": {},
   "source": [
    " - ###### Conclusion:"
   ]
  },
  {
   "cell_type": "markdown",
   "metadata": {},
   "source": [
    "Here, basically, we see the same. High $\\mu^*$ depicts factor with high overall influence, we see that it's again first, second and fifth variable, while their high $\\sigma$ detects either their interactions with other variables or non-linear effect on output. Anyway, both $\\mu^*$ and $\\sigma$ say that first, second and fifth features are the most influential, what coincides with conclusions we made in Sobol SA."
   ]
  },
  {
   "cell_type": "markdown",
   "metadata": {},
   "source": [
    "<br/> <!--Intentionally left blank-->"
   ]
  },
  {
   "cell_type": "markdown",
   "metadata": {},
   "source": [
    "### Task 2.3 (4 pt.): Optimization"
   ]
  },
  {
   "cell_type": "markdown",
   "metadata": {},
   "source": [
    "The final goal is to optimize the **mass** of the rotating disk. It will be done with scipy optimizer via approximation, provided by the surrogate model. We assume that surrogate model is of reasonable quality. The optimization problem for full parameter space is prepared for you.\n",
    "\n",
    "The following optimization problem should be solved:\n",
    "\n",
    "$$\n",
    "{\\rm mass} \\rightarrow \\min_x \\\\\n",
    "\\mbox{subject to} \\quad S_{max}(x) \\le 600 \\\\\n",
    "\\qquad \\qquad U_2(x) \\le 0.3\n",
    "$$\n",
    "\n",
    "Your tasks:\n",
    "\n",
    "* Perform optimization by running the code below\n",
    "* After performing sensitivity analysis you got the most influential features. Reestimate your models on the reduced feature space\n",
    "* Change the optimization problem statement so that it usess only the selected variables\n",
    "* Compare the optimal results for two formulations considered and make a conclusion"
   ]
  },
  {
   "cell_type": "code",
   "execution_count": 42,
   "metadata": {
    "collapsed": true
   },
   "outputs": [],
   "source": [
    "best_models = [model1, model2, model3]"
   ]
  },
  {
   "cell_type": "code",
   "execution_count": 46,
   "metadata": {},
   "outputs": [
    {
     "name": "stdout",
     "output_type": "stream",
     "text": [
      "     fun: 2281319.680499761\n",
      "     jac: array([  45513.46875, -111982.75   ,   38772.25   ,    7540.5    ,\n",
      "         -7740.09375,   -2517.28125])\n",
      " message: 'Inequality constraints incompatible'\n",
      "    nfev: 8\n",
      "     nit: 1\n",
      "    njev: 1\n",
      "  status: 4\n",
      " success: False\n",
      "       x: array([ 109.,   32.,  123.,  154.,    6.,  198.])\n"
     ]
    }
   ],
   "source": [
    "result = minimize(lambda x: best_models[0].predict(x.reshape(1, -1)),\n",
    "                  [109.0, 32.0, 123.0, 154.0, 6.0, 198.0],\n",
    "                  bounds=problem['bounds'],\n",
    "                  constraints=[{'type': 'ineq',\n",
    "                                'fun' : lambda x: 600 - best_models[1].predict(x.reshape(1, -1))\n",
    "                               },\n",
    "                               {'type': 'ineq',\n",
    "                                'fun' : lambda x: 0.3 - best_models[2].predict(x.reshape(1, -1))\n",
    "                               }])\n",
    "print(result)"
   ]
  },
  {
   "cell_type": "markdown",
   "metadata": {},
   "source": [
    " - After performing sensitivity analysis you got the most influential features. Reestimate your models on the reduced feature space:"
   ]
  },
  {
   "cell_type": "code",
   "execution_count": null,
   "metadata": {
    "collapsed": true
   },
   "outputs": [],
   "source": [
    "X_reduced = X[['r1','t1','t3']].copy()"
   ]
  },
  {
   "cell_type": "code",
   "execution_count": 47,
   "metadata": {},
   "outputs": [
    {
     "name": "stdout",
     "output_type": "stream",
     "text": [
      "Model 1 reestimation on reduced feature space:  0.730796443208\n",
      "Model 2 reestimation on reduced feature space:  0.954497828066\n",
      "Model 3 reestimation on reduced feature space:  0.988671048291\n"
     ]
    }
   ],
   "source": [
    "model1= SVR(**{'C': 2.0, 'coef0': 2.0, 'degree': 3, 'epsilon': 0.01, 'gamma': 'auto', 'kernel': 'poly'}) #first target\n",
    "model1.fit(X_reduced,t1)\n",
    "\n",
    "model2= SVR(**{'C': 2.0, 'coef0': 2.0, 'degree': 3, 'epsilon': 0.01, 'gamma': 'auto', 'kernel': 'poly'}) #second target\n",
    "model2.fit(X_reduced,t2)\n",
    "\n",
    "model3= KernelRidge(**{'alpha': 0.5, 'coef0': 2.0, 'degree': 2, 'gamma': 7, 'kernel': 'poly'}) #third target\n",
    "model3.fit(X_reduced,t3)\n",
    "\n",
    "print('Model 1 reestimation on reduced feature space: ',cross_val_score(model1, X_reduced, t1).mean())\n",
    "print('Model 2 reestimation on reduced feature space: ',cross_val_score(model2, X_reduced, t2).mean())\n",
    "print('Model 3 reestimation on reduced feature space: ',cross_val_score(model3, X_reduced, t3).mean())"
   ]
  },
  {
   "cell_type": "markdown",
   "metadata": {},
   "source": [
    " - Change the optimization problem statement so that it usess only the selected variables:"
   ]
  },
  {
   "cell_type": "code",
   "execution_count": 48,
   "metadata": {
    "collapsed": true
   },
   "outputs": [],
   "source": [
    "best_models = [model1, model2, model3]\n",
    "\n",
    "problem_red = {\n",
    "    'num_vars': 3,\n",
    "    'names':['r1','t1','t3'],\n",
    "    'bounds': np.array([[-1.7321, 1.7321],\n",
    "                        [-1.7321, 1.7321],\n",
    "                        [-1.7321, 1.7321]]),\n",
    "    'groups': None\n",
    "    }"
   ]
  },
  {
   "cell_type": "code",
   "execution_count": 49,
   "metadata": {},
   "outputs": [
    {
     "name": "stdout",
     "output_type": "stream",
     "text": [
      "     fun: -5866553.26043456\n",
      "     jac: array([-43608.4375, -23559.4375, -99255.4375])\n",
      " message: 'Inequality constraints incompatible'\n",
      "    nfev: 5\n",
      "     nit: 1\n",
      "    njev: 1\n",
      "  status: 4\n",
      " success: False\n",
      "       x: array([ 109.,   32.,  123.])\n"
     ]
    }
   ],
   "source": [
    "result = minimize(lambda x: best_models[0].predict(x.reshape(1, -1)),\n",
    "                  [109.0, 32.0, 123.0],\n",
    "                  bounds=problem_red['bounds'],\n",
    "                  constraints=[{'type': 'ineq',\n",
    "                                'fun' : lambda x: 600 - best_models[1].predict(x.reshape(1, -1))\n",
    "                               },\n",
    "                               {'type': 'ineq',\n",
    "                                'fun' : lambda x: 0.3 - best_models[2].predict(x.reshape(1, -1))\n",
    "                               }])\n",
    "print(result)"
   ]
  },
  {
   "cell_type": "markdown",
   "metadata": {},
   "source": [
    "- Compare the optimal results for two formulations considered and make a conclusion:"
   ]
  },
  {
   "cell_type": "markdown",
   "metadata": {
    "collapsed": true
   },
   "source": [
    "We see that, we that for variables of reduced feature space optimization in both cases gives approximately same results. These variables carry a lot of information. If we, for example, try to exclude the second variable but leave all others, our overall performance would not be so great. However, using first, second and fifth features, (in fact, we reduce our feature space by a half!) we achieve amazing performance, which is only slightly (0.5-1%) worse than the full feature space performance."
   ]
  },
  {
   "cell_type": "code",
   "execution_count": null,
   "metadata": {
    "collapsed": true
   },
   "outputs": [],
   "source": []
  }
 ],
 "metadata": {
  "anaconda-cloud": {},
  "kernelspec": {
   "display_name": "Python 3",
   "language": "python",
   "name": "python3"
  },
  "language_info": {
   "codemirror_mode": {
    "name": "ipython",
    "version": 3
   },
   "file_extension": ".py",
   "mimetype": "text/x-python",
   "name": "python",
   "nbconvert_exporter": "python",
   "pygments_lexer": "ipython3",
   "version": "3.6.3"
  }
 },
 "nbformat": 4,
 "nbformat_minor": 1
}
