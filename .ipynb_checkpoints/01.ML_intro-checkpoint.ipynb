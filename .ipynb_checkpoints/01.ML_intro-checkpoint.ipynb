{
 "cells": [
  {
   "cell_type": "markdown",
   "metadata": {},
   "source": [
    "# Artem Moskalev. Assignment -- 1"
   ]
  },
  {
   "cell_type": "markdown",
   "metadata": {},
   "source": [
    "## Part 2: Free range practical classification\n",
    "\n",
    "In this assignment you are asked to apply different classifiers to the dataset:"
   ]
  },
  {
   "cell_type": "code",
   "execution_count": 1,
   "metadata": {
    "collapsed": true
   },
   "outputs": [],
   "source": [
    "from sklearn.datasets import make_classification\n",
    "\n",
    "from sklearn.model_selection import train_test_split\n",
    "\n",
    "X_full, y_full = make_classification(n_samples=2400, n_features=20, n_informative=18,\n",
    "                                     n_redundant=0, n_classes=2, random_state=2319)"
   ]
  },
  {
   "cell_type": "markdown",
   "metadata": {},
   "source": [
    "You are asked to play around with these binary classification models from\n",
    "the third lecture:\n",
    "* logistic regression\n",
    "* $k$-nearest neighbours\n",
    "* Decision Tree\n",
    "\n",
    "and check out different calssification quality measures.\n",
    "\n",
    "You are free to use **sklearn**, **pandas**, **numpy** or any other library to the\n",
    "fullest. Try to avoid writing code, and instead rely on the already implemented and\n",
    "validated solutions.\n",
    "\n",
    "Your goal is to **explore and experiment** with the dataset using these models."
   ]
  },
  {
   "cell_type": "markdown",
   "metadata": {},
   "source": [
    "### Make train / test split (2 pts.)\n",
    "\n",
    "This step is just it: split the sample $(X, y)$ into a **train** and **test**\n",
    "sample. The trick is to make the split arbitrarily random, yet **replayable**,\n",
    "i.e. each separate run of your notebook **must yield exactly the same results**."
   ]
  },
  {
   "cell_type": "code",
   "execution_count": 2,
   "metadata": {
    "collapsed": true
   },
   "outputs": [],
   "source": [
    "import numpy as np\n",
    "import pandas as pd\n",
    "from sklearn.model_selection import train_test_split\n",
    "from sklearn.linear_model import LogisticRegression\n",
    "from sklearn.neighbors import KNeighborsClassifier\n",
    "from sklearn.tree import DecisionTreeClassifier\n",
    "\n",
    "from sklearn.model_selection import cross_val_score\n",
    "from sklearn.model_selection import GridSearchCV\n",
    "from sklearn.metrics import confusion_matrix, roc_curve, precision_recall_curve, auc\n",
    "from sklearn.metrics import f1_score, accuracy_score, average_precision_score, recall_score, precision_score\n",
    "\n",
    "import itertools\n",
    "\n",
    "import matplotlib.pyplot as plt\n",
    "%matplotlib inline"
   ]
  },
  {
   "cell_type": "code",
   "execution_count": 3,
   "metadata": {
    "collapsed": true
   },
   "outputs": [],
   "source": [
    "np.random.seed(42)"
   ]
  },
  {
   "cell_type": "code",
   "execution_count": 4,
   "metadata": {
    "collapsed": true
   },
   "outputs": [],
   "source": [
    "X_train, X_test, y_train, y_test = train_test_split(X_full, y_full, test_size=0.5, random_state=42)"
   ]
  },
  {
   "cell_type": "markdown",
   "metadata": {},
   "source": [
    "<br/>"
   ]
  },
  {
   "cell_type": "markdown",
   "metadata": {},
   "source": [
    "### Model selection\n",
    "\n",
    "In this step you are asked to perform hyperparameter selection with $k$-fold cross\n",
    "validation on the **training sample**.\n",
    "\n",
    "Again, make sure that the folds are generated randomly, yet **replayable** as in the previous step.\n",
    "\n",
    "Tutorial on cross validation in [sklearn](http://scikit-learn.org/stable/tutorial/statistical_inference/model_selection.html)\n",
    "\n",
    "Basically you need to:\n",
    "1. Select a range of the hyperparameter you are tuning:\n",
    "    * penalty type, regularization coefficient for Logistic Regression;\n",
    "    * Tree depth, number of features per split for Decision Trees;\n",
    "    * the number of neighbours in $k$-NN, etc.\n",
    "2. Pick a metric to evaluate with (Accuracy, precision, recall, $F_1$, or custom etc.)\n",
    "3. Search for the best parameter using cross-validation and save the best model\n",
    "4. rinse and repeat for another model / parameter settings.\n",
    "\n",
    "You get extra points if you tune more than one hyperparameter.\n",
    "To do this you will have to decide either\n",
    "* to test all possible combinations of parameters\n",
    "* or to employ a greedy optimization strategy"
   ]
  },
  {
   "cell_type": "markdown",
   "metadata": {},
   "source": [
    "## Explore data"
   ]
  },
  {
   "cell_type": "code",
   "execution_count": 5,
   "metadata": {},
   "outputs": [
    {
     "name": "stdout",
     "output_type": "stream",
     "text": [
      "class:  ndarray\n",
      "shape:  (2400, 20)\n",
      "strides:  (160, 8)\n",
      "itemsize:  8\n",
      "aligned:  True\n",
      "contiguous:  True\n",
      "fortran:  False\n",
      "data pointer: 0x5652aff3d060\n",
      "byteorder:  little\n",
      "byteswap:  False\n",
      "type: float64\n"
     ]
    }
   ],
   "source": [
    "np.info(X_full)"
   ]
  },
  {
   "cell_type": "code",
   "execution_count": 6,
   "metadata": {},
   "outputs": [
    {
     "data": {
      "text/plain": [
       "0"
      ]
     },
     "execution_count": 6,
     "metadata": {},
     "output_type": "execute_result"
    }
   ],
   "source": [
    "np.isnan(X_full).sum()"
   ]
  },
  {
   "cell_type": "code",
   "execution_count": 7,
   "metadata": {},
   "outputs": [
    {
     "name": "stdout",
     "output_type": "stream",
     "text": [
      "# of 0's: 1199\n",
      "# of 1's: 1201\n"
     ]
    }
   ],
   "source": [
    "print(\"# of 0's:\",y_full[y_full==0].shape[0])\n",
    "print(\"# of 1's:\",y_full[y_full==1].shape[0])"
   ]
  },
  {
   "cell_type": "markdown",
   "metadata": {},
   "source": [
    "It turns out that our data is pretty balanced, so the common accuracy metric or roc-auc will be okay, I guess. However, we also will try other metrics such as precision, recall, roc auc, but anyway I suggest roc-auc as the main one (because in the next task we are asked to compare models by this metric), which we also will be using for hyperparameters tuning.\n",
    "\n",
    "In addition, since data is more or less balanced I suggest using an orinary non-stratified 5 fold cross validation."
   ]
  },
  {
   "cell_type": "markdown",
   "metadata": {
    "collapsed": true
   },
   "source": [
    "## Model 1. Logistic regression"
   ]
  },
  {
   "cell_type": "markdown",
   "metadata": {},
   "source": [
    " - #### Step 1. Test baseline"
   ]
  },
  {
   "cell_type": "code",
   "execution_count": 8,
   "metadata": {
    "collapsed": true
   },
   "outputs": [],
   "source": [
    "logreg = LogisticRegression(random_state=42)"
   ]
  },
  {
   "cell_type": "code",
   "execution_count": 9,
   "metadata": {},
   "outputs": [
    {
     "name": "stdout",
     "output_type": "stream",
     "text": [
      "ROC AUC: 0.921052845875\n"
     ]
    },
    {
     "data": {
      "image/png": "[encoded data removed]",
      "text/plain": [
       "<matplotlib.figure.Figure at 0x7faf8eb177b8>"
      ]
     },
     "metadata": {},
     "output_type": "display_data"
    }
   ],
   "source": [
    "metrics = ('accuracy', 'f1', 'roc_auc', 'recall', 'precision')\n",
    "metrics_pos = np.arange(len(metrics))\n",
    "scores = list()\n",
    "\n",
    "for each_metric in metrics:\n",
    "    scores.append(cross_val_score(logreg, X_train, y_train, scoring=each_metric, cv=5).mean())\n",
    "\n",
    "fig, ax = plt.subplots()\n",
    "ax.barh(metrics_pos, scores, align='center', color='green')\n",
    "ax.barh(metrics_pos[2], scores[2], align='center', color='y')\n",
    "ax.set_yticks(metrics_pos)\n",
    "ax.set_yticklabels(metrics)\n",
    "ax.invert_yaxis()  # labels read top-to-bottom\n",
    "ax.set_xlabel('Metrics')\n",
    "ax.set_title('Metrics scores comparison:');\n",
    "\n",
    "print('ROC AUC:',scores[2])"
   ]
  },
  {
   "cell_type": "markdown",
   "metadata": {},
   "source": [
    "###### Let's build a confusion matrix, so we can see, where our classifier make its mistakes (the function plot_confusion_matrix below was taken from sklearn documentation, it's not my implementation):"
   ]
  },
  {
   "cell_type": "code",
   "execution_count": 10,
   "metadata": {
    "collapsed": true
   },
   "outputs": [],
   "source": [
    "def plot_confusion_matrix(cm, classes, normalize=False, title='Confusion matrix', cmap=plt.cm.Blues):\n",
    "\n",
    "    if normalize:\n",
    "        cm = cm.astype('float') / cm.sum(axis=1)[:, np.newaxis]\n",
    "        print(\"Normalized confusion matrix\")\n",
    "    else:\n",
    "        print('Confusion matrix, without normalization')\n",
    "\n",
    "    print(cm)\n",
    "\n",
    "    plt.imshow(cm, interpolation='nearest', cmap=cmap)\n",
    "    plt.title(title)\n",
    "    plt.colorbar()\n",
    "    tick_marks = np.arange(len(classes))\n",
    "    plt.xticks(tick_marks, classes, rotation=45)\n",
    "    plt.yticks(tick_marks, classes)\n",
    "\n",
    "    fmt = '.2f' if normalize else 'd'\n",
    "    thresh = cm.max() / 2.\n",
    "    for i, j in itertools.product(range(cm.shape[0]), range(cm.shape[1])):\n",
    "        plt.text(j, i, format(cm[i, j], fmt),\n",
    "                 horizontalalignment=\"center\",\n",
    "                 color=\"white\" if cm[i, j] > thresh else \"black\")\n",
    "\n",
    "    plt.tight_layout()\n",
    "    plt.ylabel('True label')\n",
    "    plt.xlabel('Predicted label')"
   ]
  },
  {
   "cell_type": "code",
   "execution_count": 11,
   "metadata": {},
   "outputs": [
    {
     "name": "stdout",
     "output_type": "stream",
     "text": [
      "Normalized confusion matrix\n",
      "[[ 0.84913793  0.15086207]\n",
      " [ 0.16129032  0.83870968]]\n"
     ]
    },
    {
     "data": {
      "image/png": "[encoded data removed]",
      "text/plain": [
       "<matplotlib.figure.Figure at 0x7faf8eab8b70>"
      ]
     },
     "metadata": {},
     "output_type": "display_data"
    }
   ],
   "source": [
    "X_train_, X_test_, y_train_, y_test_ = train_test_split(X_train, y_train, test_size=0.4, random_state=42)\n",
    "logreg.fit(X_train_,y_train_)\n",
    "\n",
    "logreg_cm = confusion_matrix(y_true=y_test_,y_pred=logreg.predict(X_test_))\n",
    "plot_confusion_matrix(logreg_cm, classes=['0','1'], normalize=True, title='Logreg confusion matrix')"
   ]
  },
  {
   "cell_type": "markdown",
   "metadata": {},
   "source": [
    "###### Let's also visualize ROC-curve:"
   ]
  },
  {
   "cell_type": "code",
   "execution_count": 12,
   "metadata": {
    "collapsed": true
   },
   "outputs": [],
   "source": [
    "def get_roc_plot(model):\n",
    "    test_predictions_log, test_probabilities_log = model.predict(X_test_),model.predict_proba(X_test_)[:, 1]\n",
    "    training_predictions_log, training_probabilities_log = model.predict(X_train_), model.predict_proba(X_train_)[:, 1]\n",
    "    \n",
    "    false_positive_rates_log, true_positive_rates_log, threshold_log = roc_curve(y_test_, test_probabilities_log)\n",
    "    training_false_positive_rates_log, training_true_positive_rates_log, _ = roc_curve(y_train_, training_probabilities_log)\n",
    "    \n",
    "    plt.plot(false_positive_rates_log, true_positive_rates_log, color='darkorange', label = 'ROC-curve on test')\n",
    "    plt.plot(training_false_positive_rates_log, training_true_positive_rates_log, color='darkgreen', label = 'ROC-curve on train')\n",
    "    plt.plot([0,1],[0,1], linestyle='dotted')\n",
    "    plt.xlabel('FPR')\n",
    "    plt.ylabel('TPR')\n",
    "    plt.legend()\n",
    "    plt.grid();"
   ]
  },
  {
   "cell_type": "code",
   "execution_count": 13,
   "metadata": {},
   "outputs": [
    {
     "data": {
      "image/png": "[encoded data removed]",
      "text/plain": [
       "<matplotlib.figure.Figure at 0x7faf8e924c88>"
      ]
     },
     "metadata": {},
     "output_type": "display_data"
    }
   ],
   "source": [
    "get_roc_plot(logreg)\n",
    "plt.title('ROC curve for untuned logistic regression');"
   ]
  },
  {
   "cell_type": "markdown",
   "metadata": {},
   "source": [
    "Next, I see no sense in visualizing Precision-Recall curve. Anyway, we are using neither precision nor recall as our evaluation metric, however, as I mentioned above, we are going to use a simple accuracy metrics here, so let's better switch for hyperparameters tuning"
   ]
  },
  {
   "cell_type": "markdown",
   "metadata": {},
   "source": [
    " - #### Step 2. Tune hyperparameters"
   ]
  },
  {
   "cell_type": "code",
   "execution_count": 14,
   "metadata": {},
   "outputs": [
    {
     "data": {
      "text/plain": [
       "GridSearchCV(cv=5, error_score='raise',\n",
       "       estimator=LogisticRegression(C=1.0, class_weight=None, dual=False, fit_intercept=True,\n",
       "          intercept_scaling=1, max_iter=100, multi_class='ovr', n_jobs=1,\n",
       "          penalty='l2', random_state=42, solver='liblinear', tol=0.0001,\n",
       "          verbose=0, warm_start=False),\n",
       "       fit_params=None, iid=True, n_jobs=1,\n",
       "       param_grid={'penalty': ['l1', 'l2'], 'C': array([ 0.1,  0.2, ...,  9.8,  9.9])},\n",
       "       pre_dispatch='2*n_jobs', refit=True, return_train_score='warn',\n",
       "       scoring='roc_auc', verbose=0)"
      ]
     },
     "execution_count": 14,
     "metadata": {},
     "output_type": "execute_result"
    }
   ],
   "source": [
    "logreg = LogisticRegression(random_state=42)\n",
    "\n",
    "parameters = {'penalty':['l1','l2'],'C':np.arange(0.1,10,0.1)}\n",
    "logreg_gs = GridSearchCV(logreg, parameters,cv=5, scoring='roc_auc')\n",
    "logreg_gs.fit(X_train, y_train)"
   ]
  },
  {
   "cell_type": "code",
   "execution_count": 15,
   "metadata": {},
   "outputs": [
    {
     "data": {
      "text/plain": [
       "0.92192249292760176"
      ]
     },
     "execution_count": 15,
     "metadata": {},
     "output_type": "execute_result"
    }
   ],
   "source": [
    "logreg_gs.best_score_"
   ]
  },
  {
   "cell_type": "code",
   "execution_count": 16,
   "metadata": {},
   "outputs": [
    {
     "data": {
      "text/plain": [
       "{'C': 0.10000000000000001, 'penalty': 'l1'}"
      ]
     },
     "execution_count": 16,
     "metadata": {},
     "output_type": "execute_result"
    }
   ],
   "source": [
    "logreg_gs.best_params_"
   ]
  },
  {
   "cell_type": "markdown",
   "metadata": {},
   "source": [
    "## Model 2. k-nearest neighbours"
   ]
  },
  {
   "cell_type": "markdown",
   "metadata": {},
   "source": [
    " - #### Step 1. Test baseline"
   ]
  },
  {
   "cell_type": "code",
   "execution_count": 17,
   "metadata": {
    "collapsed": true
   },
   "outputs": [],
   "source": [
    "knn = KNeighborsClassifier()"
   ]
  },
  {
   "cell_type": "code",
   "execution_count": 18,
   "metadata": {},
   "outputs": [
    {
     "name": "stdout",
     "output_type": "stream",
     "text": [
      "ROC AUC: 0.984426270996\n"
     ]
    },
    {
     "data": {
      "image/png": "[encoded data removed]",
      "text/plain": [
       "<matplotlib.figure.Figure at 0x7faf8e9477b8>"
      ]
     },
     "metadata": {},
     "output_type": "display_data"
    }
   ],
   "source": [
    "metrics = ('accuracy', 'f1', 'roc_auc', 'recall', 'precision')\n",
    "metrics_pos = np.arange(len(metrics))\n",
    "scores = list()\n",
    "\n",
    "for each_metric in metrics:\n",
    "    scores.append(cross_val_score(knn, X_train, y_train, scoring=each_metric, cv=5).mean())\n",
    "\n",
    "fig, ax = plt.subplots()\n",
    "ax.barh(metrics_pos, scores, align='center', color='green')\n",
    "ax.barh(metrics_pos[2], scores[2], align='center', color='y')\n",
    "ax.set_yticks(metrics_pos)\n",
    "ax.set_yticklabels(metrics)\n",
    "ax.invert_yaxis()  # labels read top-to-bottom\n",
    "ax.set_xlabel('Metrics')\n",
    "ax.set_title('Metrics scores comparison:');\n",
    "\n",
    "print('ROC AUC:',scores[2])"
   ]
  },
  {
   "cell_type": "markdown",
   "metadata": {},
   "source": [
    "###### Let's build a confusion matrix, so we can see, where our classifier make its mistakes:"
   ]
  },
  {
   "cell_type": "code",
   "execution_count": 19,
   "metadata": {},
   "outputs": [
    {
     "name": "stdout",
     "output_type": "stream",
     "text": [
      "Normalized confusion matrix\n",
      "[[ 0.97844828  0.02155172]\n",
      " [ 0.07258065  0.92741935]]\n"
     ]
    },
    {
     "data": {
      "image/png": "[encoded data removed]",
      "text/plain": [
       "<matplotlib.figure.Figure at 0x7faf8e936e48>"
      ]
     },
     "metadata": {},
     "output_type": "display_data"
    }
   ],
   "source": [
    "X_train_, X_test_, y_train_, y_test_ = train_test_split(X_train, y_train, test_size=0.4, random_state=42)\n",
    "knn.fit(X_train_,y_train_)\n",
    "\n",
    "knn_cm = confusion_matrix(y_true=y_test_,y_pred=knn.predict(X_test_))\n",
    "plot_confusion_matrix(knn_cm, classes=['0','1'], normalize=True, title='KNN confusion matrix')"
   ]
  },
  {
   "cell_type": "markdown",
   "metadata": {},
   "source": [
    "###### Let's visualize ROC-curve:"
   ]
  },
  {
   "cell_type": "code",
   "execution_count": 20,
   "metadata": {},
   "outputs": [
    {
     "data": {
      "image/png": "[encoded data removed]",
      "text/plain": [
       "<matplotlib.figure.Figure at 0x7faf8e87c438>"
      ]
     },
     "metadata": {},
     "output_type": "display_data"
    }
   ],
   "source": [
    "get_roc_plot(knn)\n",
    "plt.title('ROC curve for untuned KNN');"
   ]
  },
  {
   "cell_type": "markdown",
   "metadata": {},
   "source": [
    " - #### Step 2. Tune hyperparameters"
   ]
  },
  {
   "cell_type": "code",
   "execution_count": 21,
   "metadata": {},
   "outputs": [
    {
     "data": {
      "text/plain": [
       "GridSearchCV(cv=5, error_score='raise',\n",
       "       estimator=KNeighborsClassifier(algorithm='auto', leaf_size=30, metric='minkowski',\n",
       "           metric_params=None, n_jobs=1, n_neighbors=5, p=2,\n",
       "           weights='uniform'),\n",
       "       fit_params=None, iid=True, n_jobs=1,\n",
       "       param_grid={'n_neighbors': array([ 1,  2,  3,  4,  5,  6,  7,  8,  9, 10, 11, 12, 13, 14, 15, 16, 17,\n",
       "       18, 19, 20, 21, 22, 23, 24, 25, 26, 27, 28, 29, 30, 31, 32, 33, 34]), 'p': [1, 2]},\n",
       "       pre_dispatch='2*n_jobs', refit=True, return_train_score='warn',\n",
       "       scoring='roc_auc', verbose=0)"
      ]
     },
     "execution_count": 21,
     "metadata": {},
     "output_type": "execute_result"
    }
   ],
   "source": [
    "knn = KNeighborsClassifier()\n",
    "\n",
    "parameters = {'n_neighbors':np.arange(1,35,1), 'p':[1,2]}\n",
    "knn_gs = GridSearchCV(knn, parameters,cv=5, scoring='roc_auc')\n",
    "knn_gs.fit(X_train, y_train)"
   ]
  },
  {
   "cell_type": "code",
   "execution_count": 22,
   "metadata": {},
   "outputs": [
    {
     "data": {
      "text/plain": [
       "0.99105901270983987"
      ]
     },
     "execution_count": 22,
     "metadata": {},
     "output_type": "execute_result"
    }
   ],
   "source": [
    "knn_gs.best_score_"
   ]
  },
  {
   "cell_type": "code",
   "execution_count": 23,
   "metadata": {},
   "outputs": [
    {
     "data": {
      "text/plain": [
       "{'n_neighbors': 15, 'p': 2}"
      ]
     },
     "execution_count": 23,
     "metadata": {},
     "output_type": "execute_result"
    }
   ],
   "source": [
    "knn_gs.best_params_"
   ]
  },
  {
   "cell_type": "markdown",
   "metadata": {},
   "source": [
    "## Model 3. Decision Tree"
   ]
  },
  {
   "cell_type": "markdown",
   "metadata": {},
   "source": [
    " - #### Step 1. Test baseline"
   ]
  },
  {
   "cell_type": "code",
   "execution_count": 24,
   "metadata": {
    "collapsed": true
   },
   "outputs": [],
   "source": [
    "DTC = DecisionTreeClassifier(random_state=42)"
   ]
  },
  {
   "cell_type": "code",
   "execution_count": 25,
   "metadata": {},
   "outputs": [
    {
     "data": {
      "text/plain": [
       "15"
      ]
     },
     "execution_count": 25,
     "metadata": {},
     "output_type": "execute_result"
    }
   ],
   "source": [
    "#let's check what's the depth of our tree if we don't resctrict it\n",
    "DTC.fit(X_train, y_train)\n",
    "DTC.tree_.max_depth"
   ]
  },
  {
   "cell_type": "code",
   "execution_count": 26,
   "metadata": {},
   "outputs": [
    {
     "name": "stdout",
     "output_type": "stream",
     "text": [
      "ROC AUC: 0.776784522466\n"
     ]
    },
    {
     "data": {
      "image/png": "[encoded data removed]",
      "text/plain": [
       "<matplotlib.figure.Figure at 0x7faf8e6a09b0>"
      ]
     },
     "metadata": {},
     "output_type": "display_data"
    }
   ],
   "source": [
    "DTC = DecisionTreeClassifier(random_state=42)\n",
    "metrics = ('accuracy', 'f1', 'roc_auc', 'recall', 'precision')\n",
    "metrics_pos = np.arange(len(metrics))\n",
    "scores = list()\n",
    "\n",
    "for each_metric in metrics:\n",
    "    scores.append(cross_val_score(DTC, X_train, y_train, scoring=each_metric, cv=5).mean())\n",
    "\n",
    "fig, ax = plt.subplots()\n",
    "ax.barh(metrics_pos, scores, align='center', color='green')\n",
    "ax.barh(metrics_pos[2], scores[2], align='center', color='y')\n",
    "ax.set_yticks(metrics_pos)\n",
    "ax.set_yticklabels(metrics)\n",
    "ax.invert_yaxis()  # labels read top-to-bottom\n",
    "ax.set_xlabel('Metrics')\n",
    "ax.set_title('Metrics scores comparison:');\n",
    "\n",
    "print('ROC AUC:',scores[2])"
   ]
  },
  {
   "cell_type": "markdown",
   "metadata": {},
   "source": [
    "###### Let's build a confusion matrix, so we can see, where our classifier make its mistakes:"
   ]
  },
  {
   "cell_type": "code",
   "execution_count": 27,
   "metadata": {},
   "outputs": [
    {
     "name": "stdout",
     "output_type": "stream",
     "text": [
      "Normalized confusion matrix\n",
      "[[ 0.76293103  0.23706897]\n",
      " [ 0.24193548  0.75806452]]\n"
     ]
    },
    {
     "data": {
      "image/png": "[encoded data removed]",
      "text/plain": [
       "<matplotlib.figure.Figure at 0x7faf8e5f9198>"
      ]
     },
     "metadata": {},
     "output_type": "display_data"
    }
   ],
   "source": [
    "X_train_, X_test_, y_train_, y_test_ = train_test_split(X_train, y_train, test_size=0.4, random_state=42)\n",
    "DTC.fit(X_train_,y_train_)\n",
    "\n",
    "DTC_cm = confusion_matrix(y_true=y_test_,y_pred=DTC.predict(X_test_))\n",
    "plot_confusion_matrix(DTC_cm, classes=['0','1'], normalize=True, title='DecisionTreeClassifier confusion matrix')"
   ]
  },
  {
   "cell_type": "markdown",
   "metadata": {},
   "source": [
    "###### Let's visualize ROC-curve:"
   ]
  },
  {
   "cell_type": "code",
   "execution_count": 28,
   "metadata": {},
   "outputs": [
    {
     "data": {
      "image/png": "[encoded data removed]",
      "text/plain": [
       "<matplotlib.figure.Figure at 0x7faf8e5f9400>"
      ]
     },
     "metadata": {},
     "output_type": "display_data"
    }
   ],
   "source": [
    "get_roc_plot(DTC)\n",
    "plt.title('ROC curve for untuned DecisionTreeClassifier');"
   ]
  },
  {
   "cell_type": "markdown",
   "metadata": {},
   "source": [
    " - #### Step 2. Tune hyperparameters"
   ]
  },
  {
   "cell_type": "code",
   "execution_count": 29,
   "metadata": {},
   "outputs": [
    {
     "data": {
      "text/plain": [
       "GridSearchCV(cv=5, error_score='raise',\n",
       "       estimator=DecisionTreeClassifier(class_weight=None, criterion='gini', max_depth=None,\n",
       "            max_features=None, max_leaf_nodes=None,\n",
       "            min_impurity_decrease=0.0, min_impurity_split=None,\n",
       "            min_samples_leaf=1, min_samples_split=2,\n",
       "            min_weight_fraction_leaf=0.0, presort=False, random_state=42,\n",
       "            splitter='best'),\n",
       "       fit_params=None, iid=True, n_jobs=1,\n",
       "       param_grid={'criterion': ['gini', 'entropy'], 'splitter': ['best', 'random'], 'max_depth': [11, 12, 13, 14], 'min_samples_split': [2, 3, 4], 'min_samples_leaf': [1, 2, 3]},\n",
       "       pre_dispatch='2*n_jobs', refit=True, return_train_score='warn',\n",
       "       scoring='roc_auc', verbose=0)"
      ]
     },
     "execution_count": 29,
     "metadata": {},
     "output_type": "execute_result"
    }
   ],
   "source": [
    "DTC = DecisionTreeClassifier(random_state=42)\n",
    "\n",
    "parameters = {'criterion':['gini','entropy'], 'splitter':['best', 'random'], 'max_depth':[11,12,13,14], 'min_samples_split':[2,3,4],'min_samples_leaf':[1,2,3]}\n",
    "DTC_gs = GridSearchCV(DTC, parameters,cv=5, scoring='roc_auc')\n",
    "DTC_gs.fit(X_train, y_train)"
   ]
  },
  {
   "cell_type": "code",
   "execution_count": 30,
   "metadata": {},
   "outputs": [
    {
     "data": {
      "text/plain": [
       "0.8148888127208429"
      ]
     },
     "execution_count": 30,
     "metadata": {},
     "output_type": "execute_result"
    }
   ],
   "source": [
    "DTC_gs.best_score_"
   ]
  },
  {
   "cell_type": "code",
   "execution_count": 31,
   "metadata": {},
   "outputs": [
    {
     "data": {
      "text/plain": [
       "{'criterion': 'gini',\n",
       " 'max_depth': 11,\n",
       " 'min_samples_leaf': 3,\n",
       " 'min_samples_split': 2,\n",
       " 'splitter': 'best'}"
      ]
     },
     "execution_count": 31,
     "metadata": {},
     "output_type": "execute_result"
    }
   ],
   "source": [
    "DTC_gs.best_params_"
   ]
  },
  {
   "cell_type": "markdown",
   "metadata": {},
   "source": [
    "<br/>"
   ]
  },
  {
   "cell_type": "markdown",
   "metadata": {},
   "source": [
    "### Compare the best models (4 pt.)\n",
    "\n",
    "In this step you are to plot the [ROC curve](http://scikit-learn.org/stable/auto_examples/model_selection/plot_roc.html) of\n",
    "the best models on the **test sample**. Then using the ROC-AUC (or any\n",
    "**other metric** you like) to decide which model is **the best of\n",
    "the best**.\n",
    "\n",
    "Try to be creative and not just copy the provided reference tutorials.\n",
    "Don't worry if the final overall performance metric is not that high."
   ]
  },
  {
   "cell_type": "code",
   "execution_count": 32,
   "metadata": {
    "collapsed": true
   },
   "outputs": [],
   "source": [
    "log_reg_best = LogisticRegression(**logreg_gs.best_params_)\n",
    "log_reg_best.fit(X_train, y_train)\n",
    "\n",
    "knn_best = KNeighborsClassifier(**knn_gs.best_params_)\n",
    "knn_best.fit(X_train, y_train)\n",
    "\n",
    "dtc_best = DecisionTreeClassifier(**DTC_gs.best_params_)\n",
    "dtc_best.fit(X_train, y_train)\n",
    "\n",
    "classifiers = (log_reg_best, knn_best, dtc_best)\n",
    "classifiers_labels = ('Logistic regression', 'KNN', 'Decision Tree')"
   ]
  },
  {
   "cell_type": "code",
   "execution_count": 33,
   "metadata": {},
   "outputs": [
    {
     "data": {
      "image/png": "[encoded data removed]",
      "text/plain": [
       "<matplotlib.figure.Figure at 0x7faf8e651f60>"
      ]
     },
     "metadata": {},
     "output_type": "display_data"
    }
   ],
   "source": [
    "fig, axes = plt.subplots(1,3, figsize=(15,5))\n",
    "for i,model in enumerate(classifiers):\n",
    "    \n",
    "    test_predictions, test_probabilities = model.predict(X_test), model.predict_proba(X_test)[:, 1]\n",
    "    training_predictions, training_probabilities = model.predict(X_train), model.predict_proba(X_train)[:, 1]\n",
    "    \n",
    "    false_positive_rates, true_positive_rates, threshold = roc_curve(y_test, test_probabilities)\n",
    "    training_false_positive_rates, training_true_positive_rates, _ = roc_curve(y_train, training_probabilities)\n",
    "    \n",
    "    axes[i].plot(false_positive_rates, true_positive_rates, color='darkorange', label = 'ROC-curve on test')\n",
    "    axes[i].plot(training_false_positive_rates, training_true_positive_rates, color='darkgreen', label = 'ROC-curve on train')\n",
    "    axes[i].plot([0,1],[0,1], linestyle='dotted')\n",
    "    axes[i].legend()\n",
    "    axes[i].set_xlabel('FPR')\n",
    "    axes[i].set_ylabel('TPR')\n",
    "    axes[i].set_title(classifiers_labels[i])\n",
    "    axes[i].grid();"
   ]
  },
  {
   "cell_type": "code",
   "execution_count": 34,
   "metadata": {},
   "outputs": [
    {
     "name": "stdout",
     "output_type": "stream",
     "text": [
      "Logistic regression CV score on test data: 0.85088683542\n",
      "KNN CV score on test data: 0.945853443636\n",
      "Decision Tree CV score on test data: 0.753298740719\n"
     ]
    }
   ],
   "source": [
    "print('Logistic regression CV score on test data:',cross_val_score(log_reg_best, X_test, y_test, cv=5).mean())\n",
    "print('KNN CV score on test data:',cross_val_score(knn_best, X_test, y_test, cv=5).mean())\n",
    "print('Decision Tree CV score on test data:',cross_val_score(dtc_best, X_test, y_test, cv=5).mean())"
   ]
  },
  {
   "cell_type": "markdown",
   "metadata": {},
   "source": [
    "###### I also suggest testing classifiers with simple accuracy metrics as well as compare others."
   ]
  },
  {
   "cell_type": "code",
   "execution_count": 35,
   "metadata": {},
   "outputs": [
    {
     "name": "stdout",
     "output_type": "stream",
     "text": [
      "Accuracy: 0.85088683542\n"
     ]
    },
    {
     "data": {
      "image/png": "[encoded data removed]",
      "text/plain": [
       "<matplotlib.figure.Figure at 0x7faf8e838d30>"
      ]
     },
     "metadata": {},
     "output_type": "display_data"
    }
   ],
   "source": [
    "metrics = ('accuracy', 'f1', 'roc_auc', 'recall', 'precision')\n",
    "metrics_pos = np.arange(len(metrics))\n",
    "scores = list()\n",
    "\n",
    "for each_metric in metrics:\n",
    "    scores.append(cross_val_score(log_reg_best, X_test, y_test, scoring=each_metric, cv=5).mean())\n",
    "\n",
    "fig, ax = plt.subplots()\n",
    "ax.barh(metrics_pos, scores, align='center', color='green')\n",
    "ax.barh(metrics_pos[0], scores[0], align='center', color='y')\n",
    "ax.set_yticks(metrics_pos)\n",
    "ax.set_yticklabels(metrics)\n",
    "ax.invert_yaxis()  # labels read top-to-bottom\n",
    "ax.set_xlabel('Metrics')\n",
    "ax.set_title('Log Reg Metrics scores comparison:');\n",
    "\n",
    "print('Accuracy:',scores[0])"
   ]
  },
  {
   "cell_type": "code",
   "execution_count": 36,
   "metadata": {},
   "outputs": [
    {
     "name": "stdout",
     "output_type": "stream",
     "text": [
      "Accuracy: 0.945853443636\n"
     ]
    },
    {
     "data": {
      "image/png": "[encoded data removed]",
      "text/plain": [
       "<matplotlib.figure.Figure at 0x7faf8eadf6d8>"
      ]
     },
     "metadata": {},
     "output_type": "display_data"
    }
   ],
   "source": [
    "metrics = ('accuracy', 'f1', 'roc_auc', 'recall', 'precision')\n",
    "metrics_pos = np.arange(len(metrics))\n",
    "scores = list()\n",
    "\n",
    "for each_metric in metrics:\n",
    "    scores.append(cross_val_score(knn_best, X_test, y_test, scoring=each_metric, cv=5).mean())\n",
    "\n",
    "fig, ax = plt.subplots()\n",
    "ax.barh(metrics_pos, scores, align='center', color='green')\n",
    "ax.barh(metrics_pos[0], scores[0], align='center', color='y')\n",
    "ax.set_yticks(metrics_pos)\n",
    "ax.set_yticklabels(metrics)\n",
    "ax.invert_yaxis()  # labels read top-to-bottom\n",
    "ax.set_xlabel('Metrics')\n",
    "ax.set_title('KNN Metrics scores comparison:');\n",
    "\n",
    "print('Accuracy:',scores[0])"
   ]
  },
  {
   "cell_type": "code",
   "execution_count": 37,
   "metadata": {},
   "outputs": [
    {
     "name": "stdout",
     "output_type": "stream",
     "text": [
      "Accuracy: 0.765833579287\n"
     ]
    },
    {
     "data": {
      "image/png": "[encoded data removed]",
      "text/plain": [
       "<matplotlib.figure.Figure at 0x7faf8eadf320>"
      ]
     },
     "metadata": {},
     "output_type": "display_data"
    }
   ],
   "source": [
    "metrics = ('accuracy', 'f1', 'roc_auc', 'recall', 'precision')\n",
    "metrics_pos = np.arange(len(metrics))\n",
    "scores = list()\n",
    "\n",
    "for each_metric in metrics:\n",
    "    scores.append(cross_val_score(dtc_best, X_test, y_test, scoring=each_metric, cv=5).mean())\n",
    "\n",
    "fig, ax = plt.subplots()\n",
    "ax.barh(metrics_pos, scores, align='center', color='green')\n",
    "ax.barh(metrics_pos[0], scores[0], align='center', color='y')\n",
    "ax.set_yticks(metrics_pos)\n",
    "ax.set_yticklabels(metrics)\n",
    "ax.invert_yaxis()  # labels read top-to-bottom\n",
    "ax.set_xlabel('Metrics')\n",
    "ax.set_title('Metrics scores comparison:');\n",
    "\n",
    "print('Accuracy:',scores[0])"
   ]
  },
  {
   "cell_type": "markdown",
   "metadata": {},
   "source": [
    "###### Surprisingly, KNN turned to be the best classifier, checked on testing holdout data."
   ]
  }
 ],
 "metadata": {
  "kernelspec": {
   "display_name": "Python 3",
   "language": "python",
   "name": "python3"
  },
  "language_info": {
   "codemirror_mode": {
    "name": "ipython",
    "version": 3
   },
   "file_extension": ".py",
   "mimetype": "text/x-python",
   "name": "python",
   "nbconvert_exporter": "python",
   "pygments_lexer": "ipython3",
   "version": "3.6.3"
  }
 },
 "nbformat": 4,
 "nbformat_minor": 2
}
